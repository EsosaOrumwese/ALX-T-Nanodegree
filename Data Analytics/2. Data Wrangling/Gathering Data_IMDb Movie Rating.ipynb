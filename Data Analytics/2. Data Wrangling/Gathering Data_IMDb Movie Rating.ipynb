{
 "cells": [
  {
   "cell_type": "markdown",
   "metadata": {},
   "source": [
    "# Gathering Data: IMDB Movie Rating\n",
    "This is a notebook of the case study done in this lesson. The aim of this case study is to help us pick a movie to watch based off movie rating websites like Rotten Tomatoes or IMDb. We'll be gathering data of different formats from different sources to help us put together a personalized top 100 lists based off reviews that are trusted. H'enjoy!"
   ]
  },
  {
   "cell_type": "markdown",
   "metadata": {},
   "source": [
    "## Source: File on Hand \n",
    "The first source of data is a flat file given on hand to simulate data gotten from an email or from a thumbdrive or from my company's database. The dataset, [Rotten Tomatoes Top 100 Movies of All Time TSV File](https://d17h27t6h515a5.cloudfront.net/topher/2017/September/59ca594d_bestofrt/bestofrt.tsv), was manually downloaded."
   ]
  },
  {
   "cell_type": "code",
   "execution_count": 1,
   "metadata": {},
   "outputs": [],
   "source": [
    "import pandas as pd"
   ]
  },
  {
   "cell_type": "code",
   "execution_count": 2,
   "metadata": {},
   "outputs": [],
   "source": [
    "# importing the rotten tomatoes 'bestofrt.tsv' tsv file into a dataframe\n",
    "df = pd.read_csv('bestofrt.tsv', sep='\\t')"
   ]
  },
  {
   "cell_type": "code",
   "execution_count": 3,
   "metadata": {},
   "outputs": [
    {
     "data": {
      "text/html": [
       "<div>\n",
       "<style scoped>\n",
       "    .dataframe tbody tr th:only-of-type {\n",
       "        vertical-align: middle;\n",
       "    }\n",
       "\n",
       "    .dataframe tbody tr th {\n",
       "        vertical-align: top;\n",
       "    }\n",
       "\n",
       "    .dataframe thead th {\n",
       "        text-align: right;\n",
       "    }\n",
       "</style>\n",
       "<table border=\"1\" class=\"dataframe\">\n",
       "  <thead>\n",
       "    <tr style=\"text-align: right;\">\n",
       "      <th></th>\n",
       "      <th>ranking</th>\n",
       "      <th>critic_score</th>\n",
       "      <th>title</th>\n",
       "      <th>number_of_critic_ratings</th>\n",
       "    </tr>\n",
       "  </thead>\n",
       "  <tbody>\n",
       "    <tr>\n",
       "      <th>0</th>\n",
       "      <td>1</td>\n",
       "      <td>99</td>\n",
       "      <td>The Wizard of Oz (1939)</td>\n",
       "      <td>110</td>\n",
       "    </tr>\n",
       "    <tr>\n",
       "      <th>1</th>\n",
       "      <td>2</td>\n",
       "      <td>100</td>\n",
       "      <td>Citizen Kane (1941)</td>\n",
       "      <td>75</td>\n",
       "    </tr>\n",
       "    <tr>\n",
       "      <th>2</th>\n",
       "      <td>3</td>\n",
       "      <td>100</td>\n",
       "      <td>The Third Man (1949)</td>\n",
       "      <td>77</td>\n",
       "    </tr>\n",
       "    <tr>\n",
       "      <th>3</th>\n",
       "      <td>4</td>\n",
       "      <td>99</td>\n",
       "      <td>Get Out (2017)</td>\n",
       "      <td>282</td>\n",
       "    </tr>\n",
       "    <tr>\n",
       "      <th>4</th>\n",
       "      <td>5</td>\n",
       "      <td>97</td>\n",
       "      <td>Mad Max: Fury Road (2015)</td>\n",
       "      <td>370</td>\n",
       "    </tr>\n",
       "  </tbody>\n",
       "</table>\n",
       "</div>"
      ],
      "text/plain": [
       "   ranking  critic_score                      title  number_of_critic_ratings\n",
       "0        1            99    The Wizard of Oz (1939)                       110\n",
       "1        2           100        Citizen Kane (1941)                        75\n",
       "2        3           100       The Third Man (1949)                        77\n",
       "3        4            99             Get Out (2017)                       282\n",
       "4        5            97  Mad Max: Fury Road (2015)                       370"
      ]
     },
     "execution_count": 3,
     "metadata": {},
     "output_type": "execute_result"
    }
   ],
   "source": [
    "df.head()"
   ]
  },
  {
   "cell_type": "markdown",
   "metadata": {},
   "source": [
    "## Source: Web Scraping\n",
    "Next, we'll like to get Rotten Tomatoes' audience scores and the number of audience reviews to add to our dataset. Since this isn't easily available, **web scraping** to the rescue!\n",
    "\n",
    "![webscraping](img/webscrapping.png)"
   ]
  },
  {
   "cell_type": "markdown",
   "metadata": {},
   "source": [
    "Let's use `BeautifulSoup` to parse the downloaded HTML files of the Rotten Tomatoes webpages for our movies of interest using `lmxl` as our parser."
   ]
  },
  {
   "cell_type": "code",
   "execution_count": 4,
   "metadata": {},
   "outputs": [],
   "source": [
    "from bs4 import BeautifulSoup\n",
    "import os"
   ]
  },
  {
   "cell_type": "markdown",
   "metadata": {},
   "source": [
    "Let's extract the title, audience score, and the number of audience ratings in each HTML file into a dataframe."
   ]
  },
  {
   "cell_type": "code",
   "execution_count": 5,
   "metadata": {},
   "outputs": [],
   "source": [
    "# list of dictionaries to build file by file and later convert to a dataframe\n",
    "df_list = []\n",
    "folder = 'rt_html'\n",
    "\n",
    "# iterating through each html file in the folder\n",
    "for movie_html in os.listdir(folder):\n",
    "      with open(os.path.join(folder, movie_html)) as file:\n",
    "            # making the soup by passing the file into the Beautiful soup\n",
    "            # constructor together with the parser, lxml\n",
    "            soup = BeautifulSoup(file, 'lxml')\n",
    "            title = soup.find('title').contents[0][:-len(' - Rotten Tomatoes')]\n",
    "            # play with this to be able to re-understand it. \n",
    "            audience_score = soup.find('div', class_='audience-score meter').find('span').contents[0][:-1]\n",
    "            num_audience_ratings = soup.find('div', class_=\"audience-info hidden-xs superPageFontColor\")\n",
    "            num_audience_ratings = num_audience_ratings.find_all('div')[1].contents[2].strip().replace(',','')\n",
    "            # append to list of dictionaries\n",
    "            df_list.append({'title': title,\n",
    "                            'audience_score': int(audience_score),\n",
    "                            'number_of_audience_ratings': int(num_audience_ratings)})\n",
    "audience_score_df = pd.DataFrame(df_list, columns = ['title', 'audience_score', 'number_of_audience_ratings'])      "
   ]
  },
  {
   "cell_type": "code",
   "execution_count": 6,
   "metadata": {},
   "outputs": [
    {
     "data": {
      "text/html": [
       "<div>\n",
       "<style scoped>\n",
       "    .dataframe tbody tr th:only-of-type {\n",
       "        vertical-align: middle;\n",
       "    }\n",
       "\n",
       "    .dataframe tbody tr th {\n",
       "        vertical-align: top;\n",
       "    }\n",
       "\n",
       "    .dataframe thead th {\n",
       "        text-align: right;\n",
       "    }\n",
       "</style>\n",
       "<table border=\"1\" class=\"dataframe\">\n",
       "  <thead>\n",
       "    <tr style=\"text-align: right;\">\n",
       "      <th></th>\n",
       "      <th>ranking</th>\n",
       "      <th>critic_score</th>\n",
       "      <th>title</th>\n",
       "      <th>number_of_critic_ratings</th>\n",
       "    </tr>\n",
       "  </thead>\n",
       "  <tbody>\n",
       "    <tr>\n",
       "      <th>0</th>\n",
       "      <td>1</td>\n",
       "      <td>99</td>\n",
       "      <td>The Wizard of Oz (1939)</td>\n",
       "      <td>110</td>\n",
       "    </tr>\n",
       "    <tr>\n",
       "      <th>1</th>\n",
       "      <td>2</td>\n",
       "      <td>100</td>\n",
       "      <td>Citizen Kane (1941)</td>\n",
       "      <td>75</td>\n",
       "    </tr>\n",
       "    <tr>\n",
       "      <th>2</th>\n",
       "      <td>3</td>\n",
       "      <td>100</td>\n",
       "      <td>The Third Man (1949)</td>\n",
       "      <td>77</td>\n",
       "    </tr>\n",
       "    <tr>\n",
       "      <th>3</th>\n",
       "      <td>4</td>\n",
       "      <td>99</td>\n",
       "      <td>Get Out (2017)</td>\n",
       "      <td>282</td>\n",
       "    </tr>\n",
       "    <tr>\n",
       "      <th>4</th>\n",
       "      <td>5</td>\n",
       "      <td>97</td>\n",
       "      <td>Mad Max: Fury Road (2015)</td>\n",
       "      <td>370</td>\n",
       "    </tr>\n",
       "    <tr>\n",
       "      <th>...</th>\n",
       "      <td>...</td>\n",
       "      <td>...</td>\n",
       "      <td>...</td>\n",
       "      <td>...</td>\n",
       "    </tr>\n",
       "    <tr>\n",
       "      <th>95</th>\n",
       "      <td>96</td>\n",
       "      <td>100</td>\n",
       "      <td>Man on Wire (2008)</td>\n",
       "      <td>156</td>\n",
       "    </tr>\n",
       "    <tr>\n",
       "      <th>96</th>\n",
       "      <td>97</td>\n",
       "      <td>97</td>\n",
       "      <td>Jaws (1975)</td>\n",
       "      <td>74</td>\n",
       "    </tr>\n",
       "    <tr>\n",
       "      <th>97</th>\n",
       "      <td>98</td>\n",
       "      <td>100</td>\n",
       "      <td>Toy Story (1995)</td>\n",
       "      <td>78</td>\n",
       "    </tr>\n",
       "    <tr>\n",
       "      <th>98</th>\n",
       "      <td>99</td>\n",
       "      <td>97</td>\n",
       "      <td>The Godfather, Part II (1974)</td>\n",
       "      <td>72</td>\n",
       "    </tr>\n",
       "    <tr>\n",
       "      <th>99</th>\n",
       "      <td>100</td>\n",
       "      <td>100</td>\n",
       "      <td>Battleship Potemkin (1925)</td>\n",
       "      <td>45</td>\n",
       "    </tr>\n",
       "  </tbody>\n",
       "</table>\n",
       "<p>100 rows × 4 columns</p>\n",
       "</div>"
      ],
      "text/plain": [
       "    ranking  critic_score                          title  \\\n",
       "0         1            99        The Wizard of Oz (1939)   \n",
       "1         2           100            Citizen Kane (1941)   \n",
       "2         3           100           The Third Man (1949)   \n",
       "3         4            99                 Get Out (2017)   \n",
       "4         5            97      Mad Max: Fury Road (2015)   \n",
       "..      ...           ...                            ...   \n",
       "95       96           100             Man on Wire (2008)   \n",
       "96       97            97                    Jaws (1975)   \n",
       "97       98           100               Toy Story (1995)   \n",
       "98       99            97  The Godfather, Part II (1974)   \n",
       "99      100           100     Battleship Potemkin (1925)   \n",
       "\n",
       "    number_of_critic_ratings  \n",
       "0                        110  \n",
       "1                         75  \n",
       "2                         77  \n",
       "3                        282  \n",
       "4                        370  \n",
       "..                       ...  \n",
       "95                       156  \n",
       "96                        74  \n",
       "97                        78  \n",
       "98                        72  \n",
       "99                        45  \n",
       "\n",
       "[100 rows x 4 columns]"
      ]
     },
     "execution_count": 6,
     "metadata": {},
     "output_type": "execute_result"
    }
   ],
   "source": [
    "df"
   ]
  },
  {
   "cell_type": "markdown",
   "metadata": {},
   "source": [
    "Since this course is about Data wrangling - Gathering data, \n",
    "\n",
    "* I'll try clean the 'title' column in our `audience_score_df` by replace the non breaking whitespace (`\\xa0`) with ' '\n",
    "* merge the two datasets together\n",
    "* visualize the relationship between the critical ratings and the audience ratings."
   ]
  },
  {
   "cell_type": "code",
   "execution_count": 7,
   "metadata": {},
   "outputs": [
    {
     "data": {
      "text/plain": [
       "'12 Angry Men (Twelve Angry Men)\\xa0(1957)'"
      ]
     },
     "execution_count": 7,
     "metadata": {},
     "output_type": "execute_result"
    }
   ],
   "source": [
    "# this is what we want to replace in all the rows of the title column\n",
    "audience_score_df.title[0]"
   ]
  },
  {
   "cell_type": "code",
   "execution_count": 8,
   "metadata": {},
   "outputs": [],
   "source": [
    "# replacing '\\xa0' with ' '\n",
    "audience_score_df['title'] = audience_score_df['title'].str.split().str.join(' ')"
   ]
  },
  {
   "cell_type": "code",
   "execution_count": 9,
   "metadata": {},
   "outputs": [
    {
     "data": {
      "text/plain": [
       "'12 Angry Men (Twelve Angry Men) (1957)'"
      ]
     },
     "execution_count": 9,
     "metadata": {},
     "output_type": "execute_result"
    }
   ],
   "source": [
    "# testing\n",
    "audience_score_df.title[0]"
   ]
  },
  {
   "cell_type": "markdown",
   "metadata": {},
   "source": [
    "Let's merge the two datasets together."
   ]
  },
  {
   "cell_type": "code",
   "execution_count": 10,
   "metadata": {},
   "outputs": [],
   "source": [
    "merge_df= pd.merge(df, audience_score_df, on='title')"
   ]
  },
  {
   "cell_type": "code",
   "execution_count": 11,
   "metadata": {},
   "outputs": [
    {
     "data": {
      "text/html": [
       "<div>\n",
       "<style scoped>\n",
       "    .dataframe tbody tr th:only-of-type {\n",
       "        vertical-align: middle;\n",
       "    }\n",
       "\n",
       "    .dataframe tbody tr th {\n",
       "        vertical-align: top;\n",
       "    }\n",
       "\n",
       "    .dataframe thead th {\n",
       "        text-align: right;\n",
       "    }\n",
       "</style>\n",
       "<table border=\"1\" class=\"dataframe\">\n",
       "  <thead>\n",
       "    <tr style=\"text-align: right;\">\n",
       "      <th></th>\n",
       "      <th>ranking</th>\n",
       "      <th>critic_score</th>\n",
       "      <th>title</th>\n",
       "      <th>number_of_critic_ratings</th>\n",
       "      <th>audience_score</th>\n",
       "      <th>number_of_audience_ratings</th>\n",
       "    </tr>\n",
       "  </thead>\n",
       "  <tbody>\n",
       "    <tr>\n",
       "      <th>0</th>\n",
       "      <td>1</td>\n",
       "      <td>99</td>\n",
       "      <td>The Wizard of Oz (1939)</td>\n",
       "      <td>110</td>\n",
       "      <td>89</td>\n",
       "      <td>874425</td>\n",
       "    </tr>\n",
       "    <tr>\n",
       "      <th>1</th>\n",
       "      <td>2</td>\n",
       "      <td>100</td>\n",
       "      <td>Citizen Kane (1941)</td>\n",
       "      <td>75</td>\n",
       "      <td>90</td>\n",
       "      <td>157274</td>\n",
       "    </tr>\n",
       "    <tr>\n",
       "      <th>2</th>\n",
       "      <td>3</td>\n",
       "      <td>100</td>\n",
       "      <td>The Third Man (1949)</td>\n",
       "      <td>77</td>\n",
       "      <td>93</td>\n",
       "      <td>53081</td>\n",
       "    </tr>\n",
       "    <tr>\n",
       "      <th>3</th>\n",
       "      <td>4</td>\n",
       "      <td>99</td>\n",
       "      <td>Get Out (2017)</td>\n",
       "      <td>282</td>\n",
       "      <td>87</td>\n",
       "      <td>63837</td>\n",
       "    </tr>\n",
       "    <tr>\n",
       "      <th>4</th>\n",
       "      <td>5</td>\n",
       "      <td>97</td>\n",
       "      <td>Mad Max: Fury Road (2015)</td>\n",
       "      <td>370</td>\n",
       "      <td>86</td>\n",
       "      <td>123937</td>\n",
       "    </tr>\n",
       "    <tr>\n",
       "      <th>...</th>\n",
       "      <td>...</td>\n",
       "      <td>...</td>\n",
       "      <td>...</td>\n",
       "      <td>...</td>\n",
       "      <td>...</td>\n",
       "      <td>...</td>\n",
       "    </tr>\n",
       "    <tr>\n",
       "      <th>92</th>\n",
       "      <td>96</td>\n",
       "      <td>100</td>\n",
       "      <td>Man on Wire (2008)</td>\n",
       "      <td>156</td>\n",
       "      <td>87</td>\n",
       "      <td>29827</td>\n",
       "    </tr>\n",
       "    <tr>\n",
       "      <th>93</th>\n",
       "      <td>97</td>\n",
       "      <td>97</td>\n",
       "      <td>Jaws (1975)</td>\n",
       "      <td>74</td>\n",
       "      <td>90</td>\n",
       "      <td>942217</td>\n",
       "    </tr>\n",
       "    <tr>\n",
       "      <th>94</th>\n",
       "      <td>98</td>\n",
       "      <td>100</td>\n",
       "      <td>Toy Story (1995)</td>\n",
       "      <td>78</td>\n",
       "      <td>92</td>\n",
       "      <td>1107731</td>\n",
       "    </tr>\n",
       "    <tr>\n",
       "      <th>95</th>\n",
       "      <td>99</td>\n",
       "      <td>97</td>\n",
       "      <td>The Godfather, Part II (1974)</td>\n",
       "      <td>72</td>\n",
       "      <td>97</td>\n",
       "      <td>409574</td>\n",
       "    </tr>\n",
       "    <tr>\n",
       "      <th>96</th>\n",
       "      <td>100</td>\n",
       "      <td>100</td>\n",
       "      <td>Battleship Potemkin (1925)</td>\n",
       "      <td>45</td>\n",
       "      <td>85</td>\n",
       "      <td>18709</td>\n",
       "    </tr>\n",
       "  </tbody>\n",
       "</table>\n",
       "<p>97 rows × 6 columns</p>\n",
       "</div>"
      ],
      "text/plain": [
       "    ranking  critic_score                          title  \\\n",
       "0         1            99        The Wizard of Oz (1939)   \n",
       "1         2           100            Citizen Kane (1941)   \n",
       "2         3           100           The Third Man (1949)   \n",
       "3         4            99                 Get Out (2017)   \n",
       "4         5            97      Mad Max: Fury Road (2015)   \n",
       "..      ...           ...                            ...   \n",
       "92       96           100             Man on Wire (2008)   \n",
       "93       97            97                    Jaws (1975)   \n",
       "94       98           100               Toy Story (1995)   \n",
       "95       99            97  The Godfather, Part II (1974)   \n",
       "96      100           100     Battleship Potemkin (1925)   \n",
       "\n",
       "    number_of_critic_ratings  audience_score  number_of_audience_ratings  \n",
       "0                        110              89                      874425  \n",
       "1                         75              90                      157274  \n",
       "2                         77              93                       53081  \n",
       "3                        282              87                       63837  \n",
       "4                        370              86                      123937  \n",
       "..                       ...             ...                         ...  \n",
       "92                       156              87                       29827  \n",
       "93                        74              90                      942217  \n",
       "94                        78              92                     1107731  \n",
       "95                        72              97                      409574  \n",
       "96                        45              85                       18709  \n",
       "\n",
       "[97 rows x 6 columns]"
      ]
     },
     "execution_count": 11,
     "metadata": {},
     "output_type": "execute_result"
    }
   ],
   "source": [
    "merge_df"
   ]
  },
  {
   "cell_type": "code",
   "execution_count": 12,
   "metadata": {},
   "outputs": [
    {
     "name": "stdout",
     "output_type": "stream",
     "text": [
      "<class 'pandas.core.frame.DataFrame'>\n",
      "Int64Index: 97 entries, 0 to 96\n",
      "Data columns (total 6 columns):\n",
      " #   Column                      Non-Null Count  Dtype \n",
      "---  ------                      --------------  ----- \n",
      " 0   ranking                     97 non-null     int64 \n",
      " 1   critic_score                97 non-null     int64 \n",
      " 2   title                       97 non-null     object\n",
      " 3   number_of_critic_ratings    97 non-null     int64 \n",
      " 4   audience_score              97 non-null     int64 \n",
      " 5   number_of_audience_ratings  97 non-null     int64 \n",
      "dtypes: int64(5), object(1)\n",
      "memory usage: 5.3+ KB\n"
     ]
    }
   ],
   "source": [
    "merge_df.info()"
   ]
  },
  {
   "cell_type": "code",
   "execution_count": 13,
   "metadata": {},
   "outputs": [
    {
     "data": {
      "text/plain": [
       "97"
      ]
     },
     "execution_count": 13,
     "metadata": {},
     "output_type": "execute_result"
    }
   ],
   "source": [
    "len(merge_df)"
   ]
  },
  {
   "cell_type": "markdown",
   "metadata": {},
   "source": [
    "97?? That means some titles are different in `df` and `audience_score_df`. Let's see which."
   ]
  },
  {
   "cell_type": "code",
   "execution_count": 14,
   "metadata": {},
   "outputs": [
    {
     "data": {
      "text/plain": [
       "[\"Army of Shadows (L'Armée des ombres) (1969)\",\n",
       " 'Rashômon (1951)',\n",
       " 'Tokyo Story (Tôkyô monogatari) (1953)']"
      ]
     },
     "execution_count": 14,
     "metadata": {},
     "output_type": "execute_result"
    }
   ],
   "source": [
    "# to find the elements in df that aren't in merge_df\n",
    "list(set(df.title) - set(merge_df.title))"
   ]
  },
  {
   "cell_type": "code",
   "execution_count": 15,
   "metadata": {},
   "outputs": [
    {
     "data": {
      "text/plain": [
       "['RashÃ´mon (1951)',\n",
       " 'Tokyo Story (TÃ´kyÃ´ monogatari) (1953)',\n",
       " \"Army of Shadows (L'ArmÃ©e des ombres) (1969)\"]"
      ]
     },
     "execution_count": 15,
     "metadata": {},
     "output_type": "execute_result"
    }
   ],
   "source": [
    "# too see the difference between audience_score_df and df\n",
    "list(set(audience_score_df.title) - set(df.title))"
   ]
  },
  {
   "cell_type": "markdown",
   "metadata": {},
   "source": [
    "Let's clean that up."
   ]
  },
  {
   "cell_type": "code",
   "execution_count": 16,
   "metadata": {},
   "outputs": [],
   "source": [
    "titleDirty = list(set(audience_score_df.title) - set(df.title))\n",
    "clean = [\"Army of Shadows (L'Armée des ombres) (1969)\",\n",
    "         'Rashômon (1951)',\n",
    "         'Tokyo Story (Tôkyô monogatari) (1953)']\n",
    "\n",
    "i=0\n",
    "for title in titleDirty:\n",
    "      audience_score_df.title.replace(title, clean[0], inplace=True)\n",
    "      i+=1"
   ]
  },
  {
   "cell_type": "code",
   "execution_count": 17,
   "metadata": {},
   "outputs": [
    {
     "data": {
      "text/plain": [
       "[]"
      ]
     },
     "execution_count": 17,
     "metadata": {},
     "output_type": "execute_result"
    }
   ],
   "source": [
    "# check\n",
    "list(set(audience_score_df.title) - set(df.title))"
   ]
  },
  {
   "cell_type": "markdown",
   "metadata": {},
   "source": [
    "Let's redo our merge"
   ]
  },
  {
   "cell_type": "code",
   "execution_count": 18,
   "metadata": {},
   "outputs": [],
   "source": [
    "merge_df= pd.merge(df, audience_score_df, on='title')"
   ]
  },
  {
   "cell_type": "code",
   "execution_count": 19,
   "metadata": {},
   "outputs": [
    {
     "data": {
      "text/plain": [
       "100"
      ]
     },
     "execution_count": 19,
     "metadata": {},
     "output_type": "execute_result"
    }
   ],
   "source": [
    "len(merge_df)"
   ]
  },
  {
   "cell_type": "markdown",
   "metadata": {},
   "source": [
    "Alright, I'm good to go. Now to create the bubble chart and continue with the course."
   ]
  },
  {
   "cell_type": "code",
   "execution_count": 20,
   "metadata": {},
   "outputs": [],
   "source": [
    "import seaborn as sns\n",
    "import matplotlib.pyplot as plt\n",
    "sns.set_style('darkgrid')"
   ]
  },
  {
   "cell_type": "code",
   "execution_count": 21,
   "metadata": {},
   "outputs": [
    {
     "data": {
      "image/png": "[encoded data removed]",
      "text/plain": [
       "<Figure size 1152x648 with 1 Axes>"
      ]
     },
     "metadata": {
      "needs_background": "light"
     },
     "output_type": "display_data"
    }
   ],
   "source": [
    "# set seaborn \"whitegrid\" theme\n",
    "from turtle import color\n",
    "\n",
    "# figure size\n",
    "plt.figure(figsize=(16,9))\n",
    "\n",
    "# use the scatterplot function\n",
    "sns.scatterplot(data=merge_df, x=\"audience_score\", y=\"critic_score\", \n",
    "                size=\"number_of_critic_ratings\", cmap='RdBu',\n",
    "                c=merge_df.number_of_audience_ratings,\n",
    "                edgecolors=\"black\", alpha=0.5, sizes=(10, 1000))\n",
    "\n",
    "# Add titles (main and on axis)\n",
    "plt.xlabel(\"Audience Score\")\n",
    "plt.ylabel(\"Critic Score\")\n",
    "plt.title(\"Best of Rotten Tomatoes: Critic vs. Audience Scores\")\n",
    "plt.axvline(x=merge_df.audience_score.median(), color='black')\n",
    "plt.axhline(y=merge_df.critic_score.median(), color='black')\n",
    "\n",
    "# show the graph\n",
    "plt.show()"
   ]
  },
  {
   "cell_type": "markdown",
   "metadata": {},
   "source": [
    "There's still work to be done on the chart but I'll leave it for now to continue with the course. Below is what I'm trying to achieve.\n",
    "\n",
    "![bubbleplot](img/visualization.png)"
   ]
  },
  {
   "cell_type": "markdown",
   "metadata": {},
   "source": [
    "## Source: Downloading File from the Internet.\n",
    "Here, we'll work a bit with HTTPS and Python's `request` library. We're trying to create a word cloud visualization for the Top 100 movies based of Dr Ebert's reviews so as to see what made the movie stand out. \n",
    "\n",
    "Unfortunately, we could only find 88 movie reviews off his site so we'll work with that number."
   ]
  },
  {
   "cell_type": "code",
   "execution_count": 22,
   "metadata": {},
   "outputs": [],
   "source": [
    "import requests\n",
    "import os"
   ]
  },
  {
   "cell_type": "code",
   "execution_count": 23,
   "metadata": {},
   "outputs": [],
   "source": [
    "# make directory if it doesn't already exist\n",
    "folder_name = 'ebert_reviews'\n",
    "\n",
    "if not os.path.exists(folder_name):\n",
    "      os.makedirs(folder_name)"
   ]
  },
  {
   "cell_type": "code",
   "execution_count": 24,
   "metadata": {},
   "outputs": [],
   "source": [
    "ebert_review_urls = ['https://d17h27t6h515a5.cloudfront.net/topher/2017/September/59ad9900_1-the-wizard-of-oz-1939-film/1-the-wizard-of-oz-1939-film.txt',\n",
    "                     'https://d17h27t6h515a5.cloudfront.net/topher/2017/September/59ad9901_2-citizen-kane/2-citizen-kane.txt',\n",
    "                     'https://d17h27t6h515a5.cloudfront.net/topher/2017/September/59ad9901_3-the-third-man/3-the-third-man.txt',\n",
    "                     'https://d17h27t6h515a5.cloudfront.net/topher/2017/September/59ad9902_4-get-out-film/4-get-out-film.txt',\n",
    "                     'https://d17h27t6h515a5.cloudfront.net/topher/2017/September/59ad9902_5-mad-max-fury-road/5-mad-max-fury-road.txt',\n",
    "                     'https://d17h27t6h515a5.cloudfront.net/topher/2017/September/59ad9902_6-the-cabinet-of-dr.-caligari/6-the-cabinet-of-dr.-caligari.txt',\n",
    "                     'https://d17h27t6h515a5.cloudfront.net/topher/2017/September/59ad9903_7-all-about-eve/7-all-about-eve.txt',\n",
    "                     'https://d17h27t6h515a5.cloudfront.net/topher/2017/September/59ad9903_8-inside-out-2015-film/8-inside-out-2015-film.txt',\n",
    "                     'https://d17h27t6h515a5.cloudfront.net/topher/2017/September/59ad9903_9-the-godfather/9-the-godfather.txt',\n",
    "                     'https://d17h27t6h515a5.cloudfront.net/topher/2017/September/59ad9904_10-metropolis-1927-film/10-metropolis-1927-film.txt',\n",
    "                     'https://d17h27t6h515a5.cloudfront.net/topher/2017/September/59ad9904_11-e.t.-the-extra-terrestrial/11-e.t.-the-extra-terrestrial.txt',\n",
    "                     'https://d17h27t6h515a5.cloudfront.net/topher/2017/September/59ad9904_12-modern-times-film/12-modern-times-film.txt',\n",
    "                     'https://d17h27t6h515a5.cloudfront.net/topher/2017/September/59ad9904_14-singin-in-the-rain/14-singin-in-the-rain.txt',\n",
    "                     'https://d17h27t6h515a5.cloudfront.net/topher/2017/September/59ad9905_15-boyhood-film/15-boyhood-film.txt',\n",
    "                     'https://d17h27t6h515a5.cloudfront.net/topher/2017/September/59ad9905_16-casablanca-film/16-casablanca-film.txt',\n",
    "                     'https://d17h27t6h515a5.cloudfront.net/topher/2017/September/59ad9905_17-moonlight-2016-film/17-moonlight-2016-film.txt',\n",
    "                     'https://d17h27t6h515a5.cloudfront.net/topher/2017/September/59ad9906_18-psycho-1960-film/18-psycho-1960-film.txt',\n",
    "                     'https://d17h27t6h515a5.cloudfront.net/topher/2017/September/59ad9906_19-laura-1944-film/19-laura-1944-film.txt',\n",
    "                     'https://d17h27t6h515a5.cloudfront.net/topher/2017/September/59ad9906_20-nosferatu/20-nosferatu.txt',\n",
    "                     'https://d17h27t6h515a5.cloudfront.net/topher/2017/September/59ad9907_21-snow-white-and-the-seven-dwarfs-1937-film/21-snow-white-and-the-seven-dwarfs-1937-film.txt',\n",
    "                     'https://d17h27t6h515a5.cloudfront.net/topher/2017/September/59ad9907_22-a-hard-day27s-night-film/22-a-hard-day27s-night-film.txt',\n",
    "                     'https://d17h27t6h515a5.cloudfront.net/topher/2017/September/59ad9907_23-la-grande-illusion/23-la-grande-illusion.txt',\n",
    "                     'https://d17h27t6h515a5.cloudfront.net/topher/2017/September/59ad9908_25-the-battle-of-algiers/25-the-battle-of-algiers.txt',\n",
    "                     'https://d17h27t6h515a5.cloudfront.net/topher/2017/September/59ad9908_26-dunkirk-2017-film/26-dunkirk-2017-film.txt',\n",
    "                     'https://d17h27t6h515a5.cloudfront.net/topher/2017/September/59ad9908_27-the-maltese-falcon-1941-film/27-the-maltese-falcon-1941-film.txt',\n",
    "                     'https://d17h27t6h515a5.cloudfront.net/topher/2017/September/59ad9909_29-12-years-a-slave-film/29-12-years-a-slave-film.txt',\n",
    "                     'https://d17h27t6h515a5.cloudfront.net/topher/2017/September/59ad9909_30-gravity-2013-film/30-gravity-2013-film.txt',\n",
    "                     'https://d17h27t6h515a5.cloudfront.net/topher/2017/September/59ad9909_31-sunset-boulevard-film/31-sunset-boulevard-film.txt',\n",
    "                     'https://d17h27t6h515a5.cloudfront.net/topher/2017/September/59ad990a_32-king-kong-1933-film/32-king-kong-1933-film.txt',\n",
    "                     'https://d17h27t6h515a5.cloudfront.net/topher/2017/September/59ad990a_33-spotlight-film/33-spotlight-film.txt',\n",
    "                     'https://d17h27t6h515a5.cloudfront.net/topher/2017/September/59ad990a_34-the-adventures-of-robin-hood/34-the-adventures-of-robin-hood.txt',\n",
    "                     'https://d17h27t6h515a5.cloudfront.net/topher/2017/September/59ad990b_35-rashomon/35-rashomon.txt',\n",
    "                     'https://d17h27t6h515a5.cloudfront.net/topher/2017/September/59ad990b_36-rear-window/36-rear-window.txt',\n",
    "                     'https://d17h27t6h515a5.cloudfront.net/topher/2017/September/59ad990b_37-selma-film/37-selma-film.txt',\n",
    "                     'https://d17h27t6h515a5.cloudfront.net/topher/2017/September/59ad990c_38-taxi-driver/38-taxi-driver.txt',\n",
    "                     'https://d17h27t6h515a5.cloudfront.net/topher/2017/September/59ad990c_39-toy-story-3/39-toy-story-3.txt',\n",
    "                     'https://d17h27t6h515a5.cloudfront.net/topher/2017/September/59ad990c_40-argo-2012-film/40-argo-2012-film.txt',\n",
    "                     'https://d17h27t6h515a5.cloudfront.net/topher/2017/September/59ad990d_41-toy-story-2/41-toy-story-2.txt',\n",
    "                     'https://d17h27t6h515a5.cloudfront.net/topher/2017/September/59ad990d_42-the-big-sick/42-the-big-sick.txt',\n",
    "                     'https://d17h27t6h515a5.cloudfront.net/topher/2017/September/59ad990d_43-bride-of-frankenstein/43-bride-of-frankenstein.txt',\n",
    "                     'https://d17h27t6h515a5.cloudfront.net/topher/2017/September/59ad990d_44-zootopia/44-zootopia.txt',\n",
    "                     'https://d17h27t6h515a5.cloudfront.net/topher/2017/September/59ad990e_45-m-1931-film/45-m-1931-film.txt',\n",
    "                     'https://d17h27t6h515a5.cloudfront.net/topher/2017/September/59ad990e_46-wonder-woman-2017-film/46-wonder-woman-2017-film.txt',\n",
    "                     'https://d17h27t6h515a5.cloudfront.net/topher/2017/September/59ad990e_48-alien-film/48-alien-film.txt',\n",
    "                     'https://d17h27t6h515a5.cloudfront.net/topher/2017/September/59ad990f_49-bicycle-thieves/49-bicycle-thieves.txt',\n",
    "                     'https://d17h27t6h515a5.cloudfront.net/topher/2017/September/59ad990f_50-seven-samurai/50-seven-samurai.txt',\n",
    "                     'https://d17h27t6h515a5.cloudfront.net/topher/2017/September/59ad990f_51-the-treasure-of-the-sierra-madre-film/51-the-treasure-of-the-sierra-madre-film.txt',\n",
    "                     'https://d17h27t6h515a5.cloudfront.net/topher/2017/September/59ad9910_52-up-2009-film/52-up-2009-film.txt',\n",
    "                     'https://d17h27t6h515a5.cloudfront.net/topher/2017/September/59ad9910_53-12-angry-men-1957-film/53-12-angry-men-1957-film.txt',\n",
    "                     'https://d17h27t6h515a5.cloudfront.net/topher/2017/September/59ad9910_54-the-400-blows/54-the-400-blows.txt',\n",
    "                     'https://d17h27t6h515a5.cloudfront.net/topher/2017/September/59ad9911_55-logan-film/55-logan-film.txt',\n",
    "                     'https://d17h27t6h515a5.cloudfront.net/topher/2017/September/59ad9911_57-army-of-shadows/57-army-of-shadows.txt',\n",
    "                     'https://d17h27t6h515a5.cloudfront.net/topher/2017/September/59ad9912_58-arrival-film/58-arrival-film.txt',\n",
    "                     'https://d17h27t6h515a5.cloudfront.net/topher/2017/September/59ad9912_59-baby-driver/59-baby-driver.txt',\n",
    "                     'https://d17h27t6h515a5.cloudfront.net/topher/2017/September/59ad9913_60-a-streetcar-named-desire-1951-film/60-a-streetcar-named-desire-1951-film.txt',\n",
    "                     'https://d17h27t6h515a5.cloudfront.net/topher/2017/September/59ad9913_61-the-night-of-the-hunter-film/61-the-night-of-the-hunter-film.txt',\n",
    "                     'https://d17h27t6h515a5.cloudfront.net/topher/2017/September/59ad9913_62-star-wars-the-force-awakens/62-star-wars-the-force-awakens.txt',\n",
    "                     'https://d17h27t6h515a5.cloudfront.net/topher/2017/September/59ad9913_63-manchester-by-the-sea-film/63-manchester-by-the-sea-film.txt',\n",
    "                     'https://d17h27t6h515a5.cloudfront.net/topher/2017/September/59ad9914_64-dr.-strangelove/64-dr.-strangelove.txt',\n",
    "                     'https://d17h27t6h515a5.cloudfront.net/topher/2017/September/59ad9914_66-vertigo-film/66-vertigo-film.txt',\n",
    "                     'https://d17h27t6h515a5.cloudfront.net/topher/2017/September/59ad9914_67-the-dark-knight-film/67-the-dark-knight-film.txt',\n",
    "                     'https://d17h27t6h515a5.cloudfront.net/topher/2017/September/59ad9915_68-touch-of-evil/68-touch-of-evil.txt',\n",
    "                     'https://d17h27t6h515a5.cloudfront.net/topher/2017/September/59ad9915_69-the-babadook/69-the-babadook.txt',\n",
    "                     'https://d17h27t6h515a5.cloudfront.net/topher/2017/September/59ad9915_72-rosemary27s-baby-film/72-rosemary27s-baby-film.txt',\n",
    "                     'https://d17h27t6h515a5.cloudfront.net/topher/2017/September/59ad9916_73-finding-nemo/73-finding-nemo.txt',\n",
    "                     'https://d17h27t6h515a5.cloudfront.net/topher/2017/September/59ad9916_74-brooklyn-film/74-brooklyn-film.txt',\n",
    "                     'https://d17h27t6h515a5.cloudfront.net/topher/2017/September/59ad9917_75-the-wrestler-2008-film/75-the-wrestler-2008-film.txt',\n",
    "                     'https://d17h27t6h515a5.cloudfront.net/topher/2017/September/59ad9917_77-l.a.-confidential-film/77-l.a.-confidential-film.txt',\n",
    "                     'https://d17h27t6h515a5.cloudfront.net/topher/2017/September/59ad9918_78-gone-with-the-wind-film/78-gone-with-the-wind-film.txt',\n",
    "                     'https://d17h27t6h515a5.cloudfront.net/topher/2017/September/59ad9918_79-the-good-the-bad-and-the-ugly/79-the-good-the-bad-and-the-ugly.txt',\n",
    "                     'https://d17h27t6h515a5.cloudfront.net/topher/2017/September/59ad9918_80-skyfall/80-skyfall.txt',\n",
    "                     'https://d17h27t6h515a5.cloudfront.net/topher/2017/September/59ad9919_82-tokyo-story/82-tokyo-story.txt',\n",
    "                     'https://d17h27t6h515a5.cloudfront.net/topher/2017/September/59ad9919_83-hell-or-high-water-film/83-hell-or-high-water-film.txt',\n",
    "                     'https://d17h27t6h515a5.cloudfront.net/topher/2017/September/59ad9919_84-pinocchio-1940-film/84-pinocchio-1940-film.txt',\n",
    "                     'https://d17h27t6h515a5.cloudfront.net/topher/2017/September/59ad9919_85-the-jungle-book-2016-film/85-the-jungle-book-2016-film.txt',\n",
    "                     'https://d17h27t6h515a5.cloudfront.net/topher/2017/September/59ad991a_86-la-la-land-film/86-la-la-land-film.txt',\n",
    "                     'https://d17h27t6h515a5.cloudfront.net/topher/2017/September/59ad991b_87-star-trek-film/87-star-trek-film.txt',\n",
    "                     'https://d17h27t6h515a5.cloudfront.net/topher/2017/September/59ad991b_89-apocalypse-now/89-apocalypse-now.txt',\n",
    "                     'https://d17h27t6h515a5.cloudfront.net/topher/2017/September/59ad991c_90-on-the-waterfront/90-on-the-waterfront.txt',\n",
    "                     'https://d17h27t6h515a5.cloudfront.net/topher/2017/September/59ad991c_91-the-wages-of-fear/91-the-wages-of-fear.txt',\n",
    "                     'https://d17h27t6h515a5.cloudfront.net/topher/2017/September/59ad991c_92-the-last-picture-show/92-the-last-picture-show.txt',\n",
    "                     'https://d17h27t6h515a5.cloudfront.net/topher/2017/September/59ad991d_93-harry-potter-and-the-deathly-hallows-part-2/93-harry-potter-and-the-deathly-hallows-part-2.txt',\n",
    "                     'https://d17h27t6h515a5.cloudfront.net/topher/2017/September/59ad991d_94-the-grapes-of-wrath-film/94-the-grapes-of-wrath-film.txt',\n",
    "                     'https://d17h27t6h515a5.cloudfront.net/topher/2017/September/59ad991d_96-man-on-wire/96-man-on-wire.txt',\n",
    "                     'https://d17h27t6h515a5.cloudfront.net/topher/2017/September/59ad991e_97-jaws-film/97-jaws-film.txt',\n",
    "                     'https://d17h27t6h515a5.cloudfront.net/topher/2017/September/59ad991e_98-toy-story/98-toy-story.txt',\n",
    "                     'https://d17h27t6h515a5.cloudfront.net/topher/2017/September/59ad991e_99-the-godfather-part-ii/99-the-godfather-part-ii.txt',\n",
    "                     'https://d17h27t6h515a5.cloudfront.net/topher/2017/September/59ad991e_100-battleship-potemkin/100-battleship-potemkin.txt']"
   ]
  },
  {
   "cell_type": "code",
   "execution_count": 25,
   "metadata": {},
   "outputs": [],
   "source": [
    "for url in ebert_review_urls:\n",
    "      # creating the request\n",
    "      response = requests.get(url)\n",
    "      \n",
    "      # accessing content and writing to a file\n",
    "      with open(os.path.join(folder_name, url.split('/')[-1]), mode='wb') as file:\n",
    "            file.write(response.content)"
   ]
  },
  {
   "cell_type": "code",
   "execution_count": 26,
   "metadata": {},
   "outputs": [],
   "source": [
    "# confirming if our code worked.\n",
    "assert len(ebert_review_urls) == len(os.listdir(folder_name))"
   ]
  },
  {
   "cell_type": "markdown",
   "metadata": {},
   "source": [
    "Let's read the txt files into memory using `glob` and make a dataframe."
   ]
  },
  {
   "cell_type": "code",
   "execution_count": 27,
   "metadata": {},
   "outputs": [],
   "source": [
    "# import glob\n",
    "import glob"
   ]
  },
  {
   "cell_type": "code",
   "execution_count": 28,
   "metadata": {},
   "outputs": [],
   "source": [
    "# list of dictionaries to build file by file and later convert to df\n",
    "reviews_list = []\n",
    "\n",
    "# iterate through .txt files in 'ebert_reviews' folder\n",
    "for ebert_review in glob.glob('ebert_reviews/*.txt'):  # * is a wildcard\n",
    "      # encoding can be gotten by meta charset attribute of the HTML file\n",
    "      with open(ebert_review, encoding='utf-8') as file:\n",
    "            # let's get title, url and text\n",
    "            title = file.readline()[:-1]\n",
    "            review_url = file.readline()[:-1]\n",
    "            review_text = file.read()\n",
    "            #print(review_text); logging\n",
    "            #break\n",
    "            \n",
    "            # append to list of dictionaries\n",
    "            reviews_list.append({'title': title,\n",
    "                                 'review_url': review_url,\n",
    "                                 'review_text': review_text})\n",
    "\n",
    "ebertReview_df = pd.DataFrame(reviews_list)            "
   ]
  },
  {
   "cell_type": "code",
   "execution_count": 29,
   "metadata": {},
   "outputs": [
    {
     "data": {
      "text/html": [
       "<div>\n",
       "<style scoped>\n",
       "    .dataframe tbody tr th:only-of-type {\n",
       "        vertical-align: middle;\n",
       "    }\n",
       "\n",
       "    .dataframe tbody tr th {\n",
       "        vertical-align: top;\n",
       "    }\n",
       "\n",
       "    .dataframe thead th {\n",
       "        text-align: right;\n",
       "    }\n",
       "</style>\n",
       "<table border=\"1\" class=\"dataframe\">\n",
       "  <thead>\n",
       "    <tr style=\"text-align: right;\">\n",
       "      <th></th>\n",
       "      <th>title</th>\n",
       "      <th>review_url</th>\n",
       "      <th>review_text</th>\n",
       "    </tr>\n",
       "  </thead>\n",
       "  <tbody>\n",
       "    <tr>\n",
       "      <th>0</th>\n",
       "      <td>The Wizard of Oz (1939)</td>\n",
       "      <td>http://www.rogerebert.com/reviews/great-movie-...</td>\n",
       "      <td>As a child I simply did not notice whether a m...</td>\n",
       "    </tr>\n",
       "    <tr>\n",
       "      <th>1</th>\n",
       "      <td>Metropolis (1927)</td>\n",
       "      <td>http://www.rogerebert.com/reviews/great-movie-...</td>\n",
       "      <td>The opening shots of the restored “Metropolis”...</td>\n",
       "    </tr>\n",
       "    <tr>\n",
       "      <th>2</th>\n",
       "      <td>Battleship Potemkin (1925)</td>\n",
       "      <td>http://www.rogerebert.com/reviews/great-movie-...</td>\n",
       "      <td>\"The Battleship Potemkin” has been so famous f...</td>\n",
       "    </tr>\n",
       "    <tr>\n",
       "      <th>3</th>\n",
       "      <td>E.T. The Extra-Terrestrial (1982)</td>\n",
       "      <td>http://www.rogerebert.com/reviews/great-movie-...</td>\n",
       "      <td>Dear Raven and Emil:\\n\\nSunday we sat on the b...</td>\n",
       "    </tr>\n",
       "    <tr>\n",
       "      <th>4</th>\n",
       "      <td>Modern Times (1936)</td>\n",
       "      <td>http://www.rogerebert.com/reviews/modern-times...</td>\n",
       "      <td>A lot of movies are said to be timeless, but s...</td>\n",
       "    </tr>\n",
       "  </tbody>\n",
       "</table>\n",
       "</div>"
      ],
      "text/plain": [
       "                               title  \\\n",
       "0            The Wizard of Oz (1939)   \n",
       "1                  Metropolis (1927)   \n",
       "2         Battleship Potemkin (1925)   \n",
       "3  E.T. The Extra-Terrestrial (1982)   \n",
       "4                Modern Times (1936)   \n",
       "\n",
       "                                          review_url  \\\n",
       "0  http://www.rogerebert.com/reviews/great-movie-...   \n",
       "1  http://www.rogerebert.com/reviews/great-movie-...   \n",
       "2  http://www.rogerebert.com/reviews/great-movie-...   \n",
       "3  http://www.rogerebert.com/reviews/great-movie-...   \n",
       "4  http://www.rogerebert.com/reviews/modern-times...   \n",
       "\n",
       "                                         review_text  \n",
       "0  As a child I simply did not notice whether a m...  \n",
       "1  The opening shots of the restored “Metropolis”...  \n",
       "2  \"The Battleship Potemkin” has been so famous f...  \n",
       "3  Dear Raven and Emil:\\n\\nSunday we sat on the b...  \n",
       "4  A lot of movies are said to be timeless, but s...  "
      ]
     },
     "execution_count": 29,
     "metadata": {},
     "output_type": "execute_result"
    }
   ],
   "source": [
    "ebertReview_df.head()"
   ]
  },
  {
   "cell_type": "markdown",
   "metadata": {},
   "source": [
    "That's good next, we'll need each movie's poster as a stencil for the word cloud. Our options;\n",
    "\n",
    "* Using Rotten tomatoes Api (which is what we should have used in the first place). This one requires an application for use, so it isn't practical;\n",
    "* Using Beautiful Soup to scrape the url for the image and then downloading it. We'll, although it's a good idea, there's a better option;\n",
    "* Using MediaWiki api to get the movie posters off Wikipedia. This is easier and far better.\n",
    "\n",
    "The access library on Python for MediaWiki is `wptools`. Let's test it out!"
   ]
  },
  {
   "cell_type": "code",
   "execution_count": 30,
   "metadata": {},
   "outputs": [],
   "source": [
    "# installing it\n",
    "#! pip install wptools"
   ]
  },
  {
   "cell_type": "code",
   "execution_count": 31,
   "metadata": {},
   "outputs": [],
   "source": [
    "# import library\n",
    "import wptools"
   ]
  },
  {
   "cell_type": "markdown",
   "metadata": {},
   "source": [
    "Testing with Mahatma Gandhi Wikipedia page"
   ]
  },
  {
   "cell_type": "code",
   "execution_count": 32,
   "metadata": {},
   "outputs": [],
   "source": [
    "# https://en.wikipedia.org/wiki/Mahatma_Gandhi\n",
    "page = wptools.page('Mahatma_Gandhi')"
   ]
  },
  {
   "cell_type": "markdown",
   "metadata": {},
   "source": [
    "let's call `get()` on the page to automatically fetch extracts, images, infobox data and other metadata"
   ]
  },
  {
   "cell_type": "code",
   "execution_count": 33,
   "metadata": {},
   "outputs": [
    {
     "name": "stderr",
     "output_type": "stream",
     "text": [
      "en.wikipedia.org (query) Mahatma_Gandhi\n",
      "en.wikipedia.org (query) Mahatma Gandhi (&plcontinue=19379|0|Envi...\n",
      "en.wikipedia.org (query) Mahatma Gandhi (&plcontinue=19379|0|Lact...\n",
      "en.wikipedia.org (query) Mahatma Gandhi (&plcontinue=19379|0|Righ...\n",
      "en.wikipedia.org (query) Mahatma Gandhi (&plcontinue=19379|0|Will...\n",
      "en.wikipedia.org (parse) 19379\n",
      "www.wikidata.org (wikidata) Q1001\n",
      "www.wikidata.org (labels) Q194279|P3788|Q100778893|P2163|P7029|P8...\n",
      "www.wikidata.org (labels) Q76611|P3987|P910|P10242|P570|P1309|P10...\n",
      "www.wikidata.org (labels) P2924|P1273|P10069|P1017|P5905|Q5137|Q8...\n",
      "www.wikidata.org (labels) P691|P1207|P271|P2607|P5008|P1576|P1938...\n",
      "www.wikidata.org (labels) P69|Q9089|P22|Q46002746|P9178|P157|P21|...\n",
      "www.wikidata.org (labels) P4839|Q142534|P1819|Q13382529|P9522|P43...\n",
      "www.wikidata.org (labels) P7859|P1411|P2734|Q2353373|P6327|Q18316...\n",
      "en.wikipedia.org (restbase) /page/summary/Mahatma_Gandhi\n",
      "en.wikipedia.org (imageinfo) File:Mahatma-Gandhi, studio, 1931.jpg\n",
      "Mahatma Gandhi (en) data\n",
      "{\n",
      "  WARNINGS: <dict(1)> extracts\n",
      "  aliases: <list(13)> Mahatma Mohandas Karamchand Gandhi, M. K. Ga...\n",
      "  assessments: <dict(10)> Biography, Politics, Alternative Views, ...\n",
      "  claims: <dict(256)> P27, P19, P20, P26, P157, P103, P69, P140, P...\n",
      "  description: <str(62)> Indian nationalist leader and nonviolence...\n",
      "  exhtml: <str(410)> <p><b>Mohandas Karamchand Gandhi</b> was an I...\n",
      "  exrest: <str(389)> Mohandas Karamchand Gandhi was an Indian lawy...\n",
      "  extext: <str(3573)> **Mohandas Karamchand Gandhi** (; _GAHN-dee_...\n",
      "  extract: <str(3766)> <p class=\"mw-empty-elt\"></p><p><b>Mohandas ...\n",
      "  image: <list(14)> {'kind': 'query-pageimage', 'file': 'File:Maha...\n",
      "  infobox: <dict(32)> honorific_prefix, name, image, caption, citi...\n",
      "  iwlinks: <list(7)> https://commons.wikimedia.org/wiki/Mohandas_K...\n",
      "  label: Mohandas Karamchand Gandhi\n",
      "  labels: <dict(343)> Q194279, P3788, Q100778893, P2163, P7029, P8...\n",
      "  length: 299,619\n",
      "  links: <list(2035)> 10, Janpath, 120461 Gandhi, 14th Dalai Lama,...\n",
      "  modified: <dict(2)> page, wikidata\n",
      "  pageid: 19379\n",
      "  parsetree: <str(376224)> <root><template><title>Short descriptio...\n",
      "  random: Javier Germán\n",
      "  redirects: <list(57)> {'pageid': 55342, 'ns': 0, 'title': 'Mahat...\n",
      "  requests: <list(16)> query, query, query, query, query, parse, w...\n",
      "  title: Mahatma_Gandhi\n",
      "  url: https://en.wikipedia.org/wiki/Mahatma_Gandhi\n",
      "  url_raw: https://en.wikipedia.org/wiki/Mahatma_Gandhi?action=raw\n",
      "  watchers: 2,421\n",
      "  what: human\n",
      "  wikibase: Q1001\n",
      "  wikidata: <dict(256)> country of citizenship (P27), place of bir...\n",
      "  wikidata_pageid: 1330\n",
      "  wikidata_url: https://www.wikidata.org/wiki/Q1001\n",
      "  wikitext: <str(297996)> {{Short description|Indian nationalist l...\n",
      "}\n"
     ]
    },
    {
     "data": {
      "text/plain": [
       "<wptools.page.WPToolsPage at 0x2a814a082b0>"
      ]
     },
     "execution_count": 33,
     "metadata": {},
     "output_type": "execute_result"
    }
   ],
   "source": [
    "page.get()"
   ]
  },
  {
   "cell_type": "markdown",
   "metadata": {},
   "source": [
    "`page` now has the following attributes which can be accessed using dot notations through `.data`. For example `page.data['image']` would return a list of data for six images on this specific Wikipedia page."
   ]
  },
  {
   "cell_type": "code",
   "execution_count": 34,
   "metadata": {},
   "outputs": [
    {
     "data": {
      "text/plain": [
       "[{'kind': 'query-pageimage',\n",
       "  'file': 'File:Mahatma-Gandhi, studio, 1931.jpg',\n",
       "  'orig': 'Mahatma-Gandhi,_studio,_1931.jpg',\n",
       "  'timestamp': '2019-02-26T13:14:24Z',\n",
       "  'size': 3250029,\n",
       "  'width': 2620,\n",
       "  'height': 3270,\n",
       "  'url': 'https://upload.wikimedia.org/wikipedia/commons/7/7a/Mahatma-Gandhi%2C_studio%2C_1931.jpg',\n",
       "  'descriptionurl': 'https://commons.wikimedia.org/wiki/File:Mahatma-Gandhi,_studio,_1931.jpg',\n",
       "  'descriptionshorturl': 'https://commons.wikimedia.org/w/index.php?curid=76882768',\n",
       "  'title': 'File:Mahatma-Gandhi, studio, 1931.jpg',\n",
       "  'metadata': {'DateTime': {'value': '2019-02-26 13:14:24',\n",
       "    'source': 'mediawiki-metadata',\n",
       "    'hidden': ''},\n",
       "   'ObjectName': {'value': 'Mahatma-Gandhi, studio, 1931',\n",
       "    'source': 'mediawiki-metadata',\n",
       "    'hidden': ''},\n",
       "   'CommonsMetadataExtension': {'value': 1.2,\n",
       "    'source': 'extension',\n",
       "    'hidden': ''},\n",
       "   'Categories': {'value': 'Files uploaded by Yann Forget|Mohandas K. Gandhi in 1931|Mohandas K. Gandhi in England|PD-1996|PD-UK',\n",
       "    'source': 'commons-categories',\n",
       "    'hidden': ''},\n",
       "   'Assessments': {'value': 'valued',\n",
       "    'source': 'commons-categories',\n",
       "    'hidden': ''},\n",
       "   'ImageDescription': {'value': 'Studio photograph of Mahatma Gandhi, London, 1931.',\n",
       "    'source': 'commons-desc-page'},\n",
       "   'DateTimeOriginal': {'value': '1931', 'source': 'commons-desc-page'},\n",
       "   'Credit': {'value': '<a rel=\"nofollow\" class=\"external free\" href=\"http://philogalichet.fr/wp-content/uploads/2019/01/Gandhi_Photo-Alamy.jpg\">http://philogalichet.fr/wp-content/uploads/2019/01/Gandhi_Photo-Alamy.jpg</a>',\n",
       "    'source': 'commons-desc-page',\n",
       "    'hidden': ''},\n",
       "   'Artist': {'value': 'Elliott &amp; Fry (see <a rel=\"nofollow\" class=\"external autonumber\" href=\"https://www.gettyimages.in/detail/news-photo/indian-nationalist-leader-mohandas-karamchand-gandhi-news-photo/2668873\">[1]</a>)',\n",
       "    'source': 'commons-desc-page'},\n",
       "   'Permission': {'value': 'Copyright expired 50 years after publication. It was most probably published in USA at the time.',\n",
       "    'source': 'commons-desc-page',\n",
       "    'hidden': ''},\n",
       "   'LicenseShortName': {'value': 'Public domain',\n",
       "    'source': 'commons-desc-page',\n",
       "    'hidden': ''},\n",
       "   'UsageTerms': {'value': 'Public domain',\n",
       "    'source': 'commons-desc-page',\n",
       "    'hidden': ''},\n",
       "   'AttributionRequired': {'value': 'false',\n",
       "    'source': 'commons-desc-page',\n",
       "    'hidden': ''},\n",
       "   'Copyrighted': {'value': 'False',\n",
       "    'source': 'commons-desc-page',\n",
       "    'hidden': ''},\n",
       "   'Restrictions': {'value': '', 'source': 'commons-desc-page', 'hidden': ''},\n",
       "   'License': {'value': 'pd', 'source': 'commons-templates', 'hidden': ''}}},\n",
       " {'kind': 'query-thumbnail',\n",
       "  'width': 192,\n",
       "  'height': 240,\n",
       "  'url': 'https://upload.wikimedia.org/wikipedia/commons/thumb/7/7a/Mahatma-Gandhi%2C_studio%2C_1931.jpg/192px-Mahatma-Gandhi%2C_studio%2C_1931.jpg',\n",
       "  'file': 'File:Mahatma-Gandhi%2C studio%2C 1931.jpg',\n",
       "  'orig': 'Mahatma-Gandhi%2C_studio%2C_1931.jpg'},\n",
       " {'kind': 'query-pageimage',\n",
       "  'file': 'File:Mahatma-Gandhi, studio, 1931.jpg',\n",
       "  'orig': 'Mahatma-Gandhi,_studio,_1931.jpg',\n",
       "  'timestamp': '2019-02-26T13:14:24Z',\n",
       "  'size': 3250029,\n",
       "  'width': 2620,\n",
       "  'height': 3270,\n",
       "  'url': 'https://upload.wikimedia.org/wikipedia/commons/7/7a/Mahatma-Gandhi%2C_studio%2C_1931.jpg',\n",
       "  'descriptionurl': 'https://commons.wikimedia.org/wiki/File:Mahatma-Gandhi,_studio,_1931.jpg',\n",
       "  'descriptionshorturl': 'https://commons.wikimedia.org/w/index.php?curid=76882768',\n",
       "  'title': 'File:Mahatma-Gandhi, studio, 1931.jpg',\n",
       "  'metadata': {'DateTime': {'value': '2019-02-26 13:14:24',\n",
       "    'source': 'mediawiki-metadata',\n",
       "    'hidden': ''},\n",
       "   'ObjectName': {'value': 'Mahatma-Gandhi, studio, 1931',\n",
       "    'source': 'mediawiki-metadata',\n",
       "    'hidden': ''},\n",
       "   'CommonsMetadataExtension': {'value': 1.2,\n",
       "    'source': 'extension',\n",
       "    'hidden': ''},\n",
       "   'Categories': {'value': 'Files uploaded by Yann Forget|Mohandas K. Gandhi in 1931|Mohandas K. Gandhi in England|PD-1996|PD-UK',\n",
       "    'source': 'commons-categories',\n",
       "    'hidden': ''},\n",
       "   'Assessments': {'value': 'valued',\n",
       "    'source': 'commons-categories',\n",
       "    'hidden': ''},\n",
       "   'ImageDescription': {'value': 'Studio photograph of Mahatma Gandhi, London, 1931.',\n",
       "    'source': 'commons-desc-page'},\n",
       "   'DateTimeOriginal': {'value': '1931', 'source': 'commons-desc-page'},\n",
       "   'Credit': {'value': '<a rel=\"nofollow\" class=\"external free\" href=\"http://philogalichet.fr/wp-content/uploads/2019/01/Gandhi_Photo-Alamy.jpg\">http://philogalichet.fr/wp-content/uploads/2019/01/Gandhi_Photo-Alamy.jpg</a>',\n",
       "    'source': 'commons-desc-page',\n",
       "    'hidden': ''},\n",
       "   'Artist': {'value': 'Elliott &amp; Fry (see <a rel=\"nofollow\" class=\"external autonumber\" href=\"https://www.gettyimages.in/detail/news-photo/indian-nationalist-leader-mohandas-karamchand-gandhi-news-photo/2668873\">[1]</a>)',\n",
       "    'source': 'commons-desc-page'},\n",
       "   'Permission': {'value': 'Copyright expired 50 years after publication. It was most probably published in USA at the time.',\n",
       "    'source': 'commons-desc-page',\n",
       "    'hidden': ''},\n",
       "   'LicenseShortName': {'value': 'Public domain',\n",
       "    'source': 'commons-desc-page',\n",
       "    'hidden': ''},\n",
       "   'UsageTerms': {'value': 'Public domain',\n",
       "    'source': 'commons-desc-page',\n",
       "    'hidden': ''},\n",
       "   'AttributionRequired': {'value': 'false',\n",
       "    'source': 'commons-desc-page',\n",
       "    'hidden': ''},\n",
       "   'Copyrighted': {'value': 'False',\n",
       "    'source': 'commons-desc-page',\n",
       "    'hidden': ''},\n",
       "   'Restrictions': {'value': '', 'source': 'commons-desc-page', 'hidden': ''},\n",
       "   'License': {'value': 'pd', 'source': 'commons-templates', 'hidden': ''}}},\n",
       " {'kind': 'query-thumbnail',\n",
       "  'width': 192,\n",
       "  'height': 240,\n",
       "  'url': 'https://upload.wikimedia.org/wikipedia/commons/thumb/7/7a/Mahatma-Gandhi%2C_studio%2C_1931.jpg/192px-Mahatma-Gandhi%2C_studio%2C_1931.jpg',\n",
       "  'file': 'File:Mahatma-Gandhi%2C studio%2C 1931.jpg',\n",
       "  'orig': 'Mahatma-Gandhi%2C_studio%2C_1931.jpg'},\n",
       " {'kind': 'query-pageimage',\n",
       "  'file': 'File:Mahatma-Gandhi, studio, 1931.jpg',\n",
       "  'orig': 'Mahatma-Gandhi,_studio,_1931.jpg',\n",
       "  'timestamp': '2019-02-26T13:14:24Z',\n",
       "  'size': 3250029,\n",
       "  'width': 2620,\n",
       "  'height': 3270,\n",
       "  'url': 'https://upload.wikimedia.org/wikipedia/commons/7/7a/Mahatma-Gandhi%2C_studio%2C_1931.jpg',\n",
       "  'descriptionurl': 'https://commons.wikimedia.org/wiki/File:Mahatma-Gandhi,_studio,_1931.jpg',\n",
       "  'descriptionshorturl': 'https://commons.wikimedia.org/w/index.php?curid=76882768',\n",
       "  'title': 'File:Mahatma-Gandhi, studio, 1931.jpg',\n",
       "  'metadata': {'DateTime': {'value': '2019-02-26 13:14:24',\n",
       "    'source': 'mediawiki-metadata',\n",
       "    'hidden': ''},\n",
       "   'ObjectName': {'value': 'Mahatma-Gandhi, studio, 1931',\n",
       "    'source': 'mediawiki-metadata',\n",
       "    'hidden': ''},\n",
       "   'CommonsMetadataExtension': {'value': 1.2,\n",
       "    'source': 'extension',\n",
       "    'hidden': ''},\n",
       "   'Categories': {'value': 'Files uploaded by Yann Forget|Mohandas K. Gandhi in 1931|Mohandas K. Gandhi in England|PD-1996|PD-UK',\n",
       "    'source': 'commons-categories',\n",
       "    'hidden': ''},\n",
       "   'Assessments': {'value': 'valued',\n",
       "    'source': 'commons-categories',\n",
       "    'hidden': ''},\n",
       "   'ImageDescription': {'value': 'Studio photograph of Mahatma Gandhi, London, 1931.',\n",
       "    'source': 'commons-desc-page'},\n",
       "   'DateTimeOriginal': {'value': '1931', 'source': 'commons-desc-page'},\n",
       "   'Credit': {'value': '<a rel=\"nofollow\" class=\"external free\" href=\"http://philogalichet.fr/wp-content/uploads/2019/01/Gandhi_Photo-Alamy.jpg\">http://philogalichet.fr/wp-content/uploads/2019/01/Gandhi_Photo-Alamy.jpg</a>',\n",
       "    'source': 'commons-desc-page',\n",
       "    'hidden': ''},\n",
       "   'Artist': {'value': 'Elliott &amp; Fry (see <a rel=\"nofollow\" class=\"external autonumber\" href=\"https://www.gettyimages.in/detail/news-photo/indian-nationalist-leader-mohandas-karamchand-gandhi-news-photo/2668873\">[1]</a>)',\n",
       "    'source': 'commons-desc-page'},\n",
       "   'Permission': {'value': 'Copyright expired 50 years after publication. It was most probably published in USA at the time.',\n",
       "    'source': 'commons-desc-page',\n",
       "    'hidden': ''},\n",
       "   'LicenseShortName': {'value': 'Public domain',\n",
       "    'source': 'commons-desc-page',\n",
       "    'hidden': ''},\n",
       "   'UsageTerms': {'value': 'Public domain',\n",
       "    'source': 'commons-desc-page',\n",
       "    'hidden': ''},\n",
       "   'AttributionRequired': {'value': 'false',\n",
       "    'source': 'commons-desc-page',\n",
       "    'hidden': ''},\n",
       "   'Copyrighted': {'value': 'False',\n",
       "    'source': 'commons-desc-page',\n",
       "    'hidden': ''},\n",
       "   'Restrictions': {'value': '', 'source': 'commons-desc-page', 'hidden': ''},\n",
       "   'License': {'value': 'pd', 'source': 'commons-templates', 'hidden': ''}}},\n",
       " {'kind': 'query-thumbnail',\n",
       "  'width': 192,\n",
       "  'height': 240,\n",
       "  'url': 'https://upload.wikimedia.org/wikipedia/commons/thumb/7/7a/Mahatma-Gandhi%2C_studio%2C_1931.jpg/192px-Mahatma-Gandhi%2C_studio%2C_1931.jpg',\n",
       "  'file': 'File:Mahatma-Gandhi%2C studio%2C 1931.jpg',\n",
       "  'orig': 'Mahatma-Gandhi%2C_studio%2C_1931.jpg'},\n",
       " {'kind': 'query-pageimage',\n",
       "  'file': 'File:Mahatma-Gandhi, studio, 1931.jpg',\n",
       "  'orig': 'Mahatma-Gandhi,_studio,_1931.jpg',\n",
       "  'timestamp': '2019-02-26T13:14:24Z',\n",
       "  'size': 3250029,\n",
       "  'width': 2620,\n",
       "  'height': 3270,\n",
       "  'url': 'https://upload.wikimedia.org/wikipedia/commons/7/7a/Mahatma-Gandhi%2C_studio%2C_1931.jpg',\n",
       "  'descriptionurl': 'https://commons.wikimedia.org/wiki/File:Mahatma-Gandhi,_studio,_1931.jpg',\n",
       "  'descriptionshorturl': 'https://commons.wikimedia.org/w/index.php?curid=76882768',\n",
       "  'title': 'File:Mahatma-Gandhi, studio, 1931.jpg',\n",
       "  'metadata': {'DateTime': {'value': '2019-02-26 13:14:24',\n",
       "    'source': 'mediawiki-metadata',\n",
       "    'hidden': ''},\n",
       "   'ObjectName': {'value': 'Mahatma-Gandhi, studio, 1931',\n",
       "    'source': 'mediawiki-metadata',\n",
       "    'hidden': ''},\n",
       "   'CommonsMetadataExtension': {'value': 1.2,\n",
       "    'source': 'extension',\n",
       "    'hidden': ''},\n",
       "   'Categories': {'value': 'Files uploaded by Yann Forget|Mohandas K. Gandhi in 1931|Mohandas K. Gandhi in England|PD-1996|PD-UK',\n",
       "    'source': 'commons-categories',\n",
       "    'hidden': ''},\n",
       "   'Assessments': {'value': 'valued',\n",
       "    'source': 'commons-categories',\n",
       "    'hidden': ''},\n",
       "   'ImageDescription': {'value': 'Studio photograph of Mahatma Gandhi, London, 1931.',\n",
       "    'source': 'commons-desc-page'},\n",
       "   'DateTimeOriginal': {'value': '1931', 'source': 'commons-desc-page'},\n",
       "   'Credit': {'value': '<a rel=\"nofollow\" class=\"external free\" href=\"http://philogalichet.fr/wp-content/uploads/2019/01/Gandhi_Photo-Alamy.jpg\">http://philogalichet.fr/wp-content/uploads/2019/01/Gandhi_Photo-Alamy.jpg</a>',\n",
       "    'source': 'commons-desc-page',\n",
       "    'hidden': ''},\n",
       "   'Artist': {'value': 'Elliott &amp; Fry (see <a rel=\"nofollow\" class=\"external autonumber\" href=\"https://www.gettyimages.in/detail/news-photo/indian-nationalist-leader-mohandas-karamchand-gandhi-news-photo/2668873\">[1]</a>)',\n",
       "    'source': 'commons-desc-page'},\n",
       "   'Permission': {'value': 'Copyright expired 50 years after publication. It was most probably published in USA at the time.',\n",
       "    'source': 'commons-desc-page',\n",
       "    'hidden': ''},\n",
       "   'LicenseShortName': {'value': 'Public domain',\n",
       "    'source': 'commons-desc-page',\n",
       "    'hidden': ''},\n",
       "   'UsageTerms': {'value': 'Public domain',\n",
       "    'source': 'commons-desc-page',\n",
       "    'hidden': ''},\n",
       "   'AttributionRequired': {'value': 'false',\n",
       "    'source': 'commons-desc-page',\n",
       "    'hidden': ''},\n",
       "   'Copyrighted': {'value': 'False',\n",
       "    'source': 'commons-desc-page',\n",
       "    'hidden': ''},\n",
       "   'Restrictions': {'value': '', 'source': 'commons-desc-page', 'hidden': ''},\n",
       "   'License': {'value': 'pd', 'source': 'commons-templates', 'hidden': ''}}},\n",
       " {'kind': 'query-thumbnail',\n",
       "  'width': 192,\n",
       "  'height': 240,\n",
       "  'url': 'https://upload.wikimedia.org/wikipedia/commons/thumb/7/7a/Mahatma-Gandhi%2C_studio%2C_1931.jpg/192px-Mahatma-Gandhi%2C_studio%2C_1931.jpg',\n",
       "  'file': 'File:Mahatma-Gandhi%2C studio%2C 1931.jpg',\n",
       "  'orig': 'Mahatma-Gandhi%2C_studio%2C_1931.jpg'},\n",
       " {'kind': 'query-pageimage',\n",
       "  'file': 'File:Mahatma-Gandhi, studio, 1931.jpg',\n",
       "  'orig': 'Mahatma-Gandhi,_studio,_1931.jpg',\n",
       "  'timestamp': '2019-02-26T13:14:24Z',\n",
       "  'size': 3250029,\n",
       "  'width': 2620,\n",
       "  'height': 3270,\n",
       "  'url': 'https://upload.wikimedia.org/wikipedia/commons/7/7a/Mahatma-Gandhi%2C_studio%2C_1931.jpg',\n",
       "  'descriptionurl': 'https://commons.wikimedia.org/wiki/File:Mahatma-Gandhi,_studio,_1931.jpg',\n",
       "  'descriptionshorturl': 'https://commons.wikimedia.org/w/index.php?curid=76882768',\n",
       "  'title': 'File:Mahatma-Gandhi, studio, 1931.jpg',\n",
       "  'metadata': {'DateTime': {'value': '2019-02-26 13:14:24',\n",
       "    'source': 'mediawiki-metadata',\n",
       "    'hidden': ''},\n",
       "   'ObjectName': {'value': 'Mahatma-Gandhi, studio, 1931',\n",
       "    'source': 'mediawiki-metadata',\n",
       "    'hidden': ''},\n",
       "   'CommonsMetadataExtension': {'value': 1.2,\n",
       "    'source': 'extension',\n",
       "    'hidden': ''},\n",
       "   'Categories': {'value': 'Files uploaded by Yann Forget|Mohandas K. Gandhi in 1931|Mohandas K. Gandhi in England|PD-1996|PD-UK',\n",
       "    'source': 'commons-categories',\n",
       "    'hidden': ''},\n",
       "   'Assessments': {'value': 'valued',\n",
       "    'source': 'commons-categories',\n",
       "    'hidden': ''},\n",
       "   'ImageDescription': {'value': 'Studio photograph of Mahatma Gandhi, London, 1931.',\n",
       "    'source': 'commons-desc-page'},\n",
       "   'DateTimeOriginal': {'value': '1931', 'source': 'commons-desc-page'},\n",
       "   'Credit': {'value': '<a rel=\"nofollow\" class=\"external free\" href=\"http://philogalichet.fr/wp-content/uploads/2019/01/Gandhi_Photo-Alamy.jpg\">http://philogalichet.fr/wp-content/uploads/2019/01/Gandhi_Photo-Alamy.jpg</a>',\n",
       "    'source': 'commons-desc-page',\n",
       "    'hidden': ''},\n",
       "   'Artist': {'value': 'Elliott &amp; Fry (see <a rel=\"nofollow\" class=\"external autonumber\" href=\"https://www.gettyimages.in/detail/news-photo/indian-nationalist-leader-mohandas-karamchand-gandhi-news-photo/2668873\">[1]</a>)',\n",
       "    'source': 'commons-desc-page'},\n",
       "   'Permission': {'value': 'Copyright expired 50 years after publication. It was most probably published in USA at the time.',\n",
       "    'source': 'commons-desc-page',\n",
       "    'hidden': ''},\n",
       "   'LicenseShortName': {'value': 'Public domain',\n",
       "    'source': 'commons-desc-page',\n",
       "    'hidden': ''},\n",
       "   'UsageTerms': {'value': 'Public domain',\n",
       "    'source': 'commons-desc-page',\n",
       "    'hidden': ''},\n",
       "   'AttributionRequired': {'value': 'false',\n",
       "    'source': 'commons-desc-page',\n",
       "    'hidden': ''},\n",
       "   'Copyrighted': {'value': 'False',\n",
       "    'source': 'commons-desc-page',\n",
       "    'hidden': ''},\n",
       "   'Restrictions': {'value': '', 'source': 'commons-desc-page', 'hidden': ''},\n",
       "   'License': {'value': 'pd', 'source': 'commons-templates', 'hidden': ''}}},\n",
       " {'kind': 'query-thumbnail',\n",
       "  'width': 192,\n",
       "  'height': 240,\n",
       "  'url': 'https://upload.wikimedia.org/wikipedia/commons/thumb/7/7a/Mahatma-Gandhi%2C_studio%2C_1931.jpg/192px-Mahatma-Gandhi%2C_studio%2C_1931.jpg',\n",
       "  'file': 'File:Mahatma-Gandhi%2C studio%2C 1931.jpg',\n",
       "  'orig': 'Mahatma-Gandhi%2C_studio%2C_1931.jpg'},\n",
       " {'kind': 'parse-image',\n",
       "  'file': 'File:Mahatma-Gandhi, studio, 1931.jpg',\n",
       "  'orig': 'Mahatma-Gandhi, studio, 1931.jpg',\n",
       "  'timestamp': '2019-02-26T13:14:24Z',\n",
       "  'size': 3250029,\n",
       "  'width': 2620,\n",
       "  'height': 3270,\n",
       "  'url': 'https://upload.wikimedia.org/wikipedia/commons/7/7a/Mahatma-Gandhi%2C_studio%2C_1931.jpg',\n",
       "  'descriptionurl': 'https://commons.wikimedia.org/wiki/File:Mahatma-Gandhi,_studio,_1931.jpg',\n",
       "  'descriptionshorturl': 'https://commons.wikimedia.org/w/index.php?curid=76882768',\n",
       "  'title': 'File:Mahatma-Gandhi, studio, 1931.jpg',\n",
       "  'metadata': {'DateTime': {'value': '2019-02-26 13:14:24',\n",
       "    'source': 'mediawiki-metadata',\n",
       "    'hidden': ''},\n",
       "   'ObjectName': {'value': 'Mahatma-Gandhi, studio, 1931',\n",
       "    'source': 'mediawiki-metadata',\n",
       "    'hidden': ''},\n",
       "   'CommonsMetadataExtension': {'value': 1.2,\n",
       "    'source': 'extension',\n",
       "    'hidden': ''},\n",
       "   'Categories': {'value': 'Files uploaded by Yann Forget|Mohandas K. Gandhi in 1931|Mohandas K. Gandhi in England|PD-1996|PD-UK',\n",
       "    'source': 'commons-categories',\n",
       "    'hidden': ''},\n",
       "   'Assessments': {'value': 'valued',\n",
       "    'source': 'commons-categories',\n",
       "    'hidden': ''},\n",
       "   'ImageDescription': {'value': 'Studio photograph of Mahatma Gandhi, London, 1931.',\n",
       "    'source': 'commons-desc-page'},\n",
       "   'DateTimeOriginal': {'value': '1931', 'source': 'commons-desc-page'},\n",
       "   'Credit': {'value': '<a rel=\"nofollow\" class=\"external free\" href=\"http://philogalichet.fr/wp-content/uploads/2019/01/Gandhi_Photo-Alamy.jpg\">http://philogalichet.fr/wp-content/uploads/2019/01/Gandhi_Photo-Alamy.jpg</a>',\n",
       "    'source': 'commons-desc-page',\n",
       "    'hidden': ''},\n",
       "   'Artist': {'value': 'Elliott &amp; Fry (see <a rel=\"nofollow\" class=\"external autonumber\" href=\"https://www.gettyimages.in/detail/news-photo/indian-nationalist-leader-mohandas-karamchand-gandhi-news-photo/2668873\">[1]</a>)',\n",
       "    'source': 'commons-desc-page'},\n",
       "   'Permission': {'value': 'Copyright expired 50 years after publication. It was most probably published in USA at the time.',\n",
       "    'source': 'commons-desc-page',\n",
       "    'hidden': ''},\n",
       "   'LicenseShortName': {'value': 'Public domain',\n",
       "    'source': 'commons-desc-page',\n",
       "    'hidden': ''},\n",
       "   'UsageTerms': {'value': 'Public domain',\n",
       "    'source': 'commons-desc-page',\n",
       "    'hidden': ''},\n",
       "   'AttributionRequired': {'value': 'false',\n",
       "    'source': 'commons-desc-page',\n",
       "    'hidden': ''},\n",
       "   'Copyrighted': {'value': 'False',\n",
       "    'source': 'commons-desc-page',\n",
       "    'hidden': ''},\n",
       "   'Restrictions': {'value': '', 'source': 'commons-desc-page', 'hidden': ''},\n",
       "   'License': {'value': 'pd', 'source': 'commons-templates', 'hidden': ''}}},\n",
       " {'file': 'File:Mahatma-Gandhi, studio, 1931.jpg',\n",
       "  'kind': 'wikidata-image',\n",
       "  'orig': 'Mahatma-Gandhi, studio, 1931.jpg',\n",
       "  'timestamp': '2019-02-26T13:14:24Z',\n",
       "  'size': 3250029,\n",
       "  'width': 2620,\n",
       "  'height': 3270,\n",
       "  'url': 'https://upload.wikimedia.org/wikipedia/commons/7/7a/Mahatma-Gandhi%2C_studio%2C_1931.jpg',\n",
       "  'descriptionurl': 'https://commons.wikimedia.org/wiki/File:Mahatma-Gandhi,_studio,_1931.jpg',\n",
       "  'descriptionshorturl': 'https://commons.wikimedia.org/w/index.php?curid=76882768',\n",
       "  'title': 'File:Mahatma-Gandhi, studio, 1931.jpg',\n",
       "  'metadata': {'DateTime': {'value': '2019-02-26 13:14:24',\n",
       "    'source': 'mediawiki-metadata',\n",
       "    'hidden': ''},\n",
       "   'ObjectName': {'value': 'Mahatma-Gandhi, studio, 1931',\n",
       "    'source': 'mediawiki-metadata',\n",
       "    'hidden': ''},\n",
       "   'CommonsMetadataExtension': {'value': 1.2,\n",
       "    'source': 'extension',\n",
       "    'hidden': ''},\n",
       "   'Categories': {'value': 'Files uploaded by Yann Forget|Mohandas K. Gandhi in 1931|Mohandas K. Gandhi in England|PD-1996|PD-UK',\n",
       "    'source': 'commons-categories',\n",
       "    'hidden': ''},\n",
       "   'Assessments': {'value': 'valued',\n",
       "    'source': 'commons-categories',\n",
       "    'hidden': ''},\n",
       "   'ImageDescription': {'value': 'Studio photograph of Mahatma Gandhi, London, 1931.',\n",
       "    'source': 'commons-desc-page'},\n",
       "   'DateTimeOriginal': {'value': '1931', 'source': 'commons-desc-page'},\n",
       "   'Credit': {'value': '<a rel=\"nofollow\" class=\"external free\" href=\"http://philogalichet.fr/wp-content/uploads/2019/01/Gandhi_Photo-Alamy.jpg\">http://philogalichet.fr/wp-content/uploads/2019/01/Gandhi_Photo-Alamy.jpg</a>',\n",
       "    'source': 'commons-desc-page',\n",
       "    'hidden': ''},\n",
       "   'Artist': {'value': 'Elliott &amp; Fry (see <a rel=\"nofollow\" class=\"external autonumber\" href=\"https://www.gettyimages.in/detail/news-photo/indian-nationalist-leader-mohandas-karamchand-gandhi-news-photo/2668873\">[1]</a>)',\n",
       "    'source': 'commons-desc-page'},\n",
       "   'Permission': {'value': 'Copyright expired 50 years after publication. It was most probably published in USA at the time.',\n",
       "    'source': 'commons-desc-page',\n",
       "    'hidden': ''},\n",
       "   'LicenseShortName': {'value': 'Public domain',\n",
       "    'source': 'commons-desc-page',\n",
       "    'hidden': ''},\n",
       "   'UsageTerms': {'value': 'Public domain',\n",
       "    'source': 'commons-desc-page',\n",
       "    'hidden': ''},\n",
       "   'AttributionRequired': {'value': 'false',\n",
       "    'source': 'commons-desc-page',\n",
       "    'hidden': ''},\n",
       "   'Copyrighted': {'value': 'False',\n",
       "    'source': 'commons-desc-page',\n",
       "    'hidden': ''},\n",
       "   'Restrictions': {'value': '', 'source': 'commons-desc-page', 'hidden': ''},\n",
       "   'License': {'value': 'pd', 'source': 'commons-templates', 'hidden': ''}}},\n",
       " {'kind': 'restbase-original',\n",
       "  'width': 2620,\n",
       "  'height': 3270,\n",
       "  'url': 'https://upload.wikimedia.org/wikipedia/commons/7/7a/Mahatma-Gandhi%2C_studio%2C_1931.jpg',\n",
       "  'file': 'File:Mahatma-Gandhi%2C studio%2C 1931.jpg',\n",
       "  'orig': 'Mahatma-Gandhi%2C_studio%2C_1931.jpg'},\n",
       " {'kind': 'restbase-thumb',\n",
       "  'width': 256,\n",
       "  'height': 320,\n",
       "  'url': 'https://upload.wikimedia.org/wikipedia/commons/thumb/7/7a/Mahatma-Gandhi%2C_studio%2C_1931.jpg/256px-Mahatma-Gandhi%2C_studio%2C_1931.jpg',\n",
       "  'file': 'File:256px-Mahatma-Gandhi%2C studio%2C 1931.jpg',\n",
       "  'orig': '256px-Mahatma-Gandhi%2C_studio%2C_1931.jpg'}]"
      ]
     },
     "execution_count": 34,
     "metadata": {},
     "output_type": "execute_result"
    }
   ],
   "source": [
    "page.data['image']"
   ]
  },
  {
   "cell_type": "markdown",
   "metadata": {},
   "source": [
    "The API returned data in JSON format which can be accessed in Python just like dictionaries and lists. So before, I download the movie poster images to add to the word cloud, let's get comfortable with accessing `wptools` page object attributes.\n",
    "\n",
    "We'll inspect the wptools `page` object for the [E.T._the_Extra-Terrestrial](https://en.wikipedia.org/wiki/E.T._the_Extra-Terrestrial)'s Wikipedia page"
   ]
  },
  {
   "cell_type": "code",
   "execution_count": 35,
   "metadata": {},
   "outputs": [
    {
     "name": "stderr",
     "output_type": "stream",
     "text": [
      "en.wikipedia.org (query) E.T._the_Extra-Terrestrial\n",
      "en.wikipedia.org (query) E.T. the Extra-Terrestrial (&plcontinue=...\n",
      "en.wikipedia.org (parse) 73441\n",
      "www.wikidata.org (wikidata) Q11621\n",
      "www.wikidata.org (labels) Q281939|Q60629803|Q4376972|P2363|P840|Q...\n",
      "www.wikidata.org (labels) P2334|Q505449|P3135|P227|P58|Q76757691|...\n",
      "www.wikidata.org (labels) P214|P1258|Q787131|Q229009|Q8436|P3417|...\n",
      "www.wikidata.org (labels) Q1131772|P4969|P8033|Q105708928|P5099|Q...\n",
      "www.wikidata.org (labels) Q18665334|P1476|Q105640076|Q739633|P639...\n",
      "en.wikipedia.org (restbase) /page/summary/E.T._the_Extra-Terrestrial\n",
      "en.wikipedia.org (imageinfo) File:ET logo 3.svg|File:E t the extr...\n",
      "E.T. the Extra-Terrestrial (en) data\n",
      "{\n",
      "  WARNINGS: <dict(1)> extracts\n",
      "  aliases: <list(2)> E.T., ET\n",
      "  assessments: <dict(4)> United States, Film, Science Fiction, Lib...\n",
      "  claims: <dict(129)> P1562, P57, P272, P345, P31, P161, P373, P48...\n",
      "  description: 1982 American science fiction film\n",
      "  exhtml: <str(461)> <p><i><b>E.T. the Extra-Terrestrial</b></i> i...\n",
      "  exrest: <str(440)> E.T. the Extra-Terrestrial is a 1982 American...\n",
      "  extext: <str(2247)> _**E.T. the Extra-Terrestrial**_ (or simply ...\n",
      "  extract: <str(2373)> <p class=\"mw-empty-elt\"></p><p><i><b>E.T. t...\n",
      "  image: <list(4)> {'kind': 'parse-image', 'file': 'File:E t the e...\n",
      "  infobox: <dict(19)> name, image, alt, caption, director, produce...\n",
      "  iwlinks: <list(6)> https://commons.wikimedia.org/wiki/Category:E...\n",
      "  label: E.T. the Extra-Terrestrial\n",
      "  labels: <dict(249)> Q281939, Q60629803, Q4376972, P2363, P840, Q...\n",
      "  length: 127,563\n",
      "  links: <list(769)> 10th Saturn Awards, 12 Angry Men (1957 film),...\n",
      "  modified: <dict(2)> page, wikidata\n",
      "  pageid: 73441\n",
      "  parsetree: <str(156923)> <root><template><title>short descriptio...\n",
      "  random: Osowa-Kolonia\n",
      "  redirects: <list(37)> {'pageid': 177061, 'ns': 0, 'title': 'E.T....\n",
      "  requests: <list(11)> query, query, parse, wikidata, labels, labe...\n",
      "  title: E.T._the_Extra-Terrestrial\n",
      "  url: https://en.wikipedia.org/wiki/E.T._the_Extra-Terrestrial\n",
      "  url_raw: <str(67)> https://en.wikipedia.org/wiki/E.T._the_Extra-...\n",
      "  watchers: 367\n",
      "  what: film\n",
      "  wikibase: Q11621\n",
      "  wikidata: <dict(129)> AllMovie title ID (P1562), director (P57),...\n",
      "  wikidata_pageid: 13150\n",
      "  wikidata_url: https://www.wikidata.org/wiki/Q11621\n",
      "  wikitext: <str(126723)> {{short description|1982 American scienc...\n",
      "}\n"
     ]
    }
   ],
   "source": [
    "page = wptools.page('E.T._the_Extra-Terrestrial').get()"
   ]
  },
  {
   "cell_type": "markdown",
   "metadata": {},
   "source": [
    "Accessing the first image in the images attribute, which is a JSON array."
   ]
  },
  {
   "cell_type": "code",
   "execution_count": 36,
   "metadata": {},
   "outputs": [
    {
     "data": {
      "text/plain": [
       "{'kind': 'parse-image',\n",
       " 'file': 'File:E t the extra terrestrial ver3.jpg',\n",
       " 'orig': 'E t the extra terrestrial ver3.jpg',\n",
       " 'timestamp': '2016-06-04T10:30:46Z',\n",
       " 'size': 83073,\n",
       " 'width': 253,\n",
       " 'height': 394,\n",
       " 'url': 'https://upload.wikimedia.org/wikipedia/en/6/66/E_t_the_extra_terrestrial_ver3.jpg',\n",
       " 'descriptionurl': 'https://en.wikipedia.org/wiki/File:E_t_the_extra_terrestrial_ver3.jpg',\n",
       " 'descriptionshorturl': 'https://en.wikipedia.org/w/index.php?curid=7419503',\n",
       " 'title': 'File:E t the extra terrestrial ver3.jpg',\n",
       " 'metadata': {'DateTime': {'value': '2016-06-04 10:30:46',\n",
       "   'source': 'mediawiki-metadata',\n",
       "   'hidden': ''},\n",
       "  'ObjectName': {'value': 'E t the extra terrestrial ver3',\n",
       "   'source': 'mediawiki-metadata',\n",
       "   'hidden': ''},\n",
       "  'CommonsMetadataExtension': {'value': 1.2,\n",
       "   'source': 'extension',\n",
       "   'hidden': ''},\n",
       "  'Categories': {'value': 'All non-free media|E.T. the Extra-Terrestrial|Fair use images of film posters|Files with no machine-readable author|Noindexed pages|Wikipedia non-free files for NFUR review|Wikipedia non-free files with valid backlink',\n",
       "   'source': 'commons-categories',\n",
       "   'hidden': ''},\n",
       "  'Assessments': {'value': '', 'source': 'commons-categories', 'hidden': ''},\n",
       "  'ImageDescription': {'value': '<p>This is a poster for  <i>E.T. the Extra-Terrestrial</i>. <br>The poster art copyright is believed to belong to <a href=\"//en.wikipedia.org/wiki/John_Alvin\" title=\"John Alvin\">John Alvin</a>.\\n</p>',\n",
       "   'source': 'commons-desc-page'},\n",
       "  'Credit': {'value': '<p>The poster art can or could be obtained from <a href=\"//en.wikipedia.org/wiki/John_Alvin\" title=\"John Alvin\">John Alvin</a>.\\n</p>',\n",
       "   'source': 'commons-desc-page',\n",
       "   'hidden': ''},\n",
       "  'LicenseShortName': {'value': 'Fair use',\n",
       "   'source': 'commons-desc-page',\n",
       "   'hidden': ''},\n",
       "  'UsageTerms': {'value': '<a href=\"//en.wikipedia.org/wiki/Wikipedia:Non-free_use_rationale_guideline\" title=\"Wikipedia:Non-free use rationale guideline\">Fair use</a> of copyrighted material in the context of <a href=\"//en.wikipedia.org/wiki/E.T._the_Extra-Terrestrial\" title=\"E.T. the Extra-Terrestrial\">E.T. the Extra-Terrestrial</a>',\n",
       "   'source': 'commons-desc-page',\n",
       "   'hidden': ''},\n",
       "  'Attribution': {'value': '<p>The poster art can or could be obtained from <a href=\"//en.wikipedia.org/wiki/John_Alvin\" title=\"John Alvin\">John Alvin</a>.\\n</p>',\n",
       "   'source': 'commons-desc-page',\n",
       "   'hidden': ''},\n",
       "  'LicenseUrl': {'value': '//en.wikipedia.org/wiki/File:E_t_the_extra_terrestrial_ver3.jpg',\n",
       "   'source': 'commons-desc-page',\n",
       "   'hidden': ''},\n",
       "  'NonFree': {'value': 'true', 'source': 'commons-desc-page', 'hidden': ''},\n",
       "  'Copyrighted': {'value': 'True',\n",
       "   'source': 'commons-desc-page',\n",
       "   'hidden': ''},\n",
       "  'Restrictions': {'value': '', 'source': 'commons-desc-page', 'hidden': ''}}}"
      ]
     },
     "execution_count": 36,
     "metadata": {},
     "output_type": "execute_result"
    }
   ],
   "source": [
    "page.data['image'][0]"
   ]
  },
  {
   "cell_type": "markdown",
   "metadata": {},
   "source": [
    "Accessing the director key of the infobox attribute, which is a JSON object"
   ]
  },
  {
   "cell_type": "code",
   "execution_count": 37,
   "metadata": {},
   "outputs": [
    {
     "data": {
      "text/plain": [
       "'[[Steven Spielberg]]'"
      ]
     },
     "execution_count": 37,
     "metadata": {},
     "output_type": "execute_result"
    }
   ],
   "source": [
    "page.data['infobox'].get('director')"
   ]
  },
  {
   "cell_type": "markdown",
   "metadata": {},
   "source": [
    "Now, let's combine all that we've learnt to get our movie posters. Remember that for non-text requests like image, `PIL` library and `BytesIO` from `IO` library are recommended.\n",
    "\n",
    "**Algorithm**\n",
    "* Get a list 'title_list' which contains all the Wikipedia page titles for each movie in the Rotten Tomatoes Top 100 Movies of All Time list. It should be in the same order as the Top 100.\n",
    "* Create an empty folder, `bestofrt_posters`, to store the downloaded movie poster image files.\n",
    "* Create an empty list, `poster_list`, to which dictionaries will be appended.\n",
    "* Create an empty dictionary, `image_errors`, to keep track of movie poster image URLs that don't work.\n",
    "* Loop through the titles in `title_list` and:\n",
    "\n",
    "      * Store the `ranking` of that movie based on it's position in `title_list`. \n",
    "        We'll need this when it's time to merge. We can merge on title because it \n",
    "        might differ.\n",
    "      * Use `try` and `except` blocks to attempt to query MediaWiki for a movie poster \n",
    "        image URL and to attempt to download that image. If the attempt fails and an \n",
    "        error is encountered, the offending movie is documented in 'image_errors.\n",
    "      * Appends a dictionary with `ranking`, `title`, and `poster_url` as the keys and \n",
    "        the extracted values for each as the values to `poster_list`\n",
    "        \n",
    "* Inspect the images that caused errors and download the correct image individually (either via another `url` in the `image` attribute's list or a url from Google Images).\n",
    "* Create a DataFrame called `poster_df` from `poster_list` (a list of dicts.)\n"
   ]
  },
  {
   "cell_type": "code",
   "execution_count": 38,
   "metadata": {},
   "outputs": [],
   "source": [
    "# import libraries\n",
    "from PIL import Image\n",
    "from io import BytesIO"
   ]
  },
  {
   "cell_type": "code",
   "execution_count": 40,
   "metadata": {},
   "outputs": [],
   "source": [
    "title_list = [\n",
    " 'The_Wizard_of_Oz_(1939_film)',\n",
    " 'Citizen_Kane',\n",
    " 'The_Third_Man',\n",
    " 'Get_Out_(film)',\n",
    " 'Mad_Max:_Fury_Road',\n",
    " 'The_Cabinet_of_Dr._Caligari',\n",
    " 'All_About_Eve',\n",
    " 'Inside_Out_(2015_film)',\n",
    " 'The_Godfather',\n",
    " 'Metropolis_(1927_film)',\n",
    " 'E.T._the_Extra-Terrestrial',\n",
    " 'Modern_Times_(film)',\n",
    " 'It_Happened_One_Night',\n",
    " \"Singin'_in_the_Rain\",\n",
    " 'Boyhood_(film)',\n",
    " 'Casablanca_(film)',\n",
    " 'Moonlight_(2016_film)',\n",
    " 'Psycho_(1960_film)',\n",
    " 'Laura_(1944_film)',\n",
    " 'Nosferatu',\n",
    " 'Snow_White_and_the_Seven_Dwarfs_(1937_film)',\n",
    " \"A_Hard_Day%27s_Night_(film)\",\n",
    " 'La_Grande_Illusion',\n",
    " 'North_by_Northwest',\n",
    " 'The_Battle_of_Algiers',\n",
    " 'Dunkirk_(2017_film)',\n",
    " 'The_Maltese_Falcon_(1941_film)',\n",
    " 'Repulsion_(film)',\n",
    " '12_Years_a_Slave_(film)',\n",
    " 'Gravity_(2013_film)',\n",
    " 'Sunset_Boulevard_(film)',\n",
    " 'King_Kong_(1933_film)',\n",
    " 'Spotlight_(film)',\n",
    " 'The_Adventures_of_Robin_Hood',\n",
    " 'Rashomon',\n",
    " 'Rear_Window',\n",
    " 'Selma_(film)',\n",
    " 'Taxi_Driver',\n",
    " 'Toy_Story_3',\n",
    " 'Argo_(2012_film)',\n",
    " 'Toy_Story_2',\n",
    " 'The_Big_Sick',\n",
    " 'Bride_of_Frankenstein',\n",
    " 'Zootopia',\n",
    " 'M_(1931_film)',\n",
    " 'Wonder_Woman_(2017_film)',\n",
    " 'The_Philadelphia_Story_(film)',\n",
    " 'Alien_(film)',\n",
    " 'Bicycle_Thieves',\n",
    " 'Seven_Samurai',\n",
    " 'The_Treasure_of_the_Sierra_Madre_(film)',\n",
    " 'Up_(2009_film)',\n",
    " '12_Angry_Men_(1957_film)',\n",
    " 'The_400_Blows',\n",
    " 'Logan_(film)',\n",
    " 'All_Quiet_on_the_Western_Front_(1930_film)',\n",
    " 'Army_of_Shadows',\n",
    " 'Arrival_(film)',\n",
    " 'Baby_Driver',\n",
    " 'A_Streetcar_Named_Desire_(1951_film)',\n",
    " 'The_Night_of_the_Hunter_(film)',\n",
    " 'Star_Wars:_The_Force_Awakens',\n",
    " 'Manchester_by_the_Sea_(film)',\n",
    " 'Dr._Strangelove',\n",
    " 'Frankenstein_(1931_film)',\n",
    " 'Vertigo_(film)',\n",
    " 'The_Dark_Knight_(film)',\n",
    " 'Touch_of_Evil',\n",
    " 'The_Babadook',\n",
    " 'The_Conformist_(film)',\n",
    " 'Rebecca_(1940_film)',\n",
    " \"Rosemary%27s_Baby_(film)\",\n",
    " 'Finding_Nemo',\n",
    " 'Brooklyn_(film)',\n",
    " 'The_Wrestler_(2008_film)',\n",
    " 'The_39_Steps_(1935_film)',\n",
    " 'L.A._Confidential_(film)',\n",
    " 'Gone_with_the_Wind_(film)',\n",
    " 'The_Good,_the_Bad_and_the_Ugly',\n",
    " 'Skyfall',\n",
    " 'Rome,_Open_City',\n",
    " 'Tokyo_Story',\n",
    " 'Hell_or_High_Water_(film)',\n",
    " 'Pinocchio_(1940_film)',\n",
    " 'The_Jungle_Book_(2016_film)',\n",
    " 'La_La_Land_(film)',\n",
    " 'Star_Trek_(film)',\n",
    " 'High_Noon',\n",
    " 'Apocalypse_Now',\n",
    " 'On_the_Waterfront',\n",
    " 'The_Wages_of_Fear',\n",
    " 'The_Last_Picture_Show',\n",
    " 'Harry_Potter_and_the_Deathly_Hallows_–_Part_2',\n",
    " 'The_Grapes_of_Wrath_(film)',\n",
    " 'Roman_Holiday',\n",
    " 'Man_on_Wire',\n",
    " 'Jaws_(film)',\n",
    " 'Toy_Story',\n",
    " 'The_Godfather_Part_II',\n",
    " 'Battleship_Potemkin'\n",
    "]"
   ]
  },
  {
   "cell_type": "code",
   "execution_count": 41,
   "metadata": {},
   "outputs": [],
   "source": [
    "# create an empty folder to store posters\n",
    "folder_name = 'bestofrt_posters'\n",
    "\n",
    "# check if it exists before creation\n",
    "if not os.path.exists(folder_name):\n",
    "      os.makedirs(folder_name)"
   ]
  },
  {
   "cell_type": "code",
   "execution_count": 42,
   "metadata": {},
   "outputs": [
    {
     "name": "stdout",
     "output_type": "stream",
     "text": [
      "1\n",
      "2\n",
      "3\n",
      "4\n",
      "5\n",
      "6\n",
      "7\n",
      "8\n",
      "9\n",
      "10\n",
      "10_Metropolis_(1927_film): cannot identify image file <_io.BytesIO object at 0x000002A815AF5400>\n",
      "11\n",
      "12\n",
      "13\n",
      "14\n",
      "15\n",
      "15_Boyhood_(film): 'image'\n",
      "16\n",
      "17\n",
      "18\n",
      "19\n",
      "20\n",
      "21\n",
      "22\n"
     ]
    },
    {
     "name": "stderr",
     "output_type": "stream",
     "text": [
      "API error: {'code': 'invalidtitle', 'info': 'Bad title \"A_Hard_Day%27s_Night_(film)\".', 'docref': 'See https://en.wikipedia.org/w/api.php for API usage. Subscribe to the mediawiki-api-announce mailing list at &lt;https://lists.wikimedia.org/postorius/lists/mediawiki-api-announce.lists.wikimedia.org/&gt; for notice of API deprecations and breaking changes.'}\n"
     ]
    },
    {
     "name": "stdout",
     "output_type": "stream",
     "text": [
      "22_A_Hard_Day%27s_Night_(film): https://en.wikipedia.org/w/api.php?action=parse&formatversion=2&contentmodel=text&disableeditsection=&disablelimitreport=&disabletoc=&prop=text|iwlinks|parsetree|wikitext|displaytitle|properties&redirects&page=A_Hard_Day%2527s_Night_%28film%29\n",
      "23\n",
      "24\n",
      "25\n",
      "26\n",
      "27\n",
      "28\n",
      "29\n",
      "30\n",
      "31\n",
      "32\n",
      "33\n",
      "34\n",
      "35\n",
      "36\n",
      "37\n",
      "38\n",
      "39\n",
      "40\n",
      "41\n",
      "42\n",
      "43\n",
      "44\n",
      "45\n",
      "46\n",
      "47\n",
      "48\n",
      "49\n",
      "50\n",
      "51\n",
      "52\n",
      "53\n",
      "54\n",
      "55\n",
      "56\n",
      "57\n",
      "58\n",
      "59\n",
      "60\n",
      "61\n",
      "62\n",
      "63\n",
      "64\n",
      "65\n",
      "66\n",
      "67\n",
      "68\n",
      "69\n",
      "70\n",
      "71\n",
      "72\n"
     ]
    },
    {
     "name": "stderr",
     "output_type": "stream",
     "text": [
      "API error: {'code': 'invalidtitle', 'info': 'Bad title \"Rosemary%27s_Baby_(film)\".', 'docref': 'See https://en.wikipedia.org/w/api.php for API usage. Subscribe to the mediawiki-api-announce mailing list at &lt;https://lists.wikimedia.org/postorius/lists/mediawiki-api-announce.lists.wikimedia.org/&gt; for notice of API deprecations and breaking changes.'}\n"
     ]
    },
    {
     "name": "stdout",
     "output_type": "stream",
     "text": [
      "72_Rosemary%27s_Baby_(film): https://en.wikipedia.org/w/api.php?action=parse&formatversion=2&contentmodel=text&disableeditsection=&disablelimitreport=&disabletoc=&prop=text|iwlinks|parsetree|wikitext|displaytitle|properties&redirects&page=Rosemary%2527s_Baby_%28film%29\n",
      "73\n",
      "74\n",
      "75\n",
      "76\n",
      "77\n",
      "78\n",
      "79\n",
      "80\n",
      "81\n",
      "82\n",
      "83\n",
      "84\n",
      "85\n",
      "86\n",
      "87\n",
      "88\n",
      "89\n",
      "90\n",
      "91\n",
      "92\n",
      "93\n",
      "94\n",
      "95\n",
      "96\n",
      "97\n",
      "98\n",
      "99\n",
      "100\n"
     ]
    }
   ],
   "source": [
    "poster_list = []\n",
    "image_errors = {}\n",
    "\n",
    "# iterate through title_list\n",
    "for title in title_list:\n",
    "      try:\n",
    "            # getting rank from (position + 1) of the title in title_list\n",
    "            ranking = title_list.index(title) + 1\n",
    "            print(ranking) # to guage time remaining because this cell is slow\n",
    "            # get the page's attributes off the api using the access library\n",
    "            page = wptools.page(title, silent=True)\n",
    "            # let's get the url from the 1st image attribute\n",
    "            images = page.get().data['image']\n",
    "            first_image_url = images[0]['url']\n",
    "            # request for image from url. Response in bytes\n",
    "            # I kept getting HTTP 403 error so I had to get my user-agent to resolve it\n",
    "            header = {\"User-Agent\": \"Mozilla/5.0 (Windows NT 10.0; Win64; x64) AppleWebKit/537.36 (KHTML, like Gecko) Chrome/104.0.0.0 Safari/537.36\"}\n",
    "            r = requests.get(first_image_url,\n",
    "                             headers = header)\n",
    "            # download and save movie poster\n",
    "            i = Image.open(BytesIO(r.content))\n",
    "            # get image format\n",
    "            image_file_format = first_image_url.split('.')[-1]\n",
    "            # save at, e.g. 'bestofrt_poster/98_Toy_Story.jpg'\n",
    "            i.save(folder_name + \"/\" + str(ranking) + '_' + title + '.' + image_file_format)\n",
    "            # append relevant info to list of dictionaries\n",
    "            poster_list.append({'ranking': int(ranking),\n",
    "                                'title': title,\n",
    "                                'poster_url': first_image_url})\n",
    "      # not best practice to catch all exceptions but I can use this now\n",
    "      except Exception as e:\n",
    "            print(str(ranking) + \"_\" + title + \": \" + str(e))\n",
    "            image_errors[str(ranking) + '_' + title] = images"
   ]
  },
  {
   "cell_type": "markdown",
   "metadata": {},
   "source": [
    "Here is the list of movies that their posters didn't download. Let's look at a few of them."
   ]
  },
  {
   "cell_type": "code",
   "execution_count": 43,
   "metadata": {},
   "outputs": [
    {
     "data": {
      "text/plain": [
       "dict_keys(['10_Metropolis_(1927_film)', '15_Boyhood_(film)', '22_A_Hard_Day%27s_Night_(film)', '72_Rosemary%27s_Baby_(film)'])"
      ]
     },
     "execution_count": 43,
     "metadata": {},
     "output_type": "execute_result"
    }
   ],
   "source": [
    "image_errors.keys()"
   ]
  },
  {
   "cell_type": "markdown",
   "metadata": {},
   "source": [
    "Let's redownload these ones. \n",
    "\n",
    "I notice that the url that was provided to them at `images` when they were stored in `image_errors` was the url of the previous image because the code hit an error due to the page not being found on Wikipedia.\n",
    "\n",
    "Changes to impliment:\n",
    "\n",
    "* Change Boyhood title to 'Boyhood_(2014_film)'\n",
    "* Provide image links for titles with '%'\n",
    "* For Metropolis, used the 5th dictionary instead of the first `page.get().data['image'][4]['url']`\n",
    "* 'Mad_Max:_Fury_Road' didn't download properly so redownload.\n",
    "* 'Star_Wars:_The_Force_Awakens' needs to be redownloaded."
   ]
  },
  {
   "cell_type": "code",
   "execution_count": 96,
   "metadata": {},
   "outputs": [],
   "source": [
    "# change Boyhood title\n",
    "if image_errors['15_Boyhood_(film)']:\n",
    "      image_errors['15_Boyhood_(2014_film)'] = image_errors['15_Boyhood_(film)']\n",
    "      del image_errors['15_Boyhood_(film)']"
   ]
  },
  {
   "cell_type": "code",
   "execution_count": 199,
   "metadata": {},
   "outputs": [
    {
     "data": {
      "text/plain": [
       "101"
      ]
     },
     "execution_count": 199,
     "metadata": {},
     "output_type": "execute_result"
    }
   ],
   "source": [
    "len(poster_list)"
   ]
  },
  {
   "cell_type": "code",
   "execution_count": 200,
   "metadata": {},
   "outputs": [],
   "source": [
    "# del old Boyhood title from poster_list\n",
    "idx = 0\n",
    "for poster in poster_list:\n",
    "      if poster['title'] == 'Boyhood_(film)':\n",
    "            del poster_list[idx]\n",
    "      idx += 1"
   ]
  },
  {
   "cell_type": "code",
   "execution_count": 201,
   "metadata": {},
   "outputs": [
    {
     "data": {
      "text/plain": [
       "100"
      ]
     },
     "execution_count": 201,
     "metadata": {},
     "output_type": "execute_result"
    }
   ],
   "source": [
    "len(poster_list)"
   ]
  },
  {
   "cell_type": "code",
   "execution_count": 106,
   "metadata": {},
   "outputs": [],
   "source": [
    "# get list of image_errors.keys()\n",
    "errorList = list(image_errors.keys())"
   ]
  },
  {
   "cell_type": "code",
   "execution_count": 113,
   "metadata": {},
   "outputs": [],
   "source": [
    "# add movies that are in poster_list but with errors into errorList\n",
    "for i in ['5_Mad_Max:_Fury_Road', '62_Star_Wars:_The_Force_Awakens']:\n",
    "      errorList.append(i)"
   ]
  },
  {
   "cell_type": "code",
   "execution_count": 123,
   "metadata": {},
   "outputs": [
    {
     "data": {
      "text/plain": [
       "['10_Metropolis_(1927_film)',\n",
       " '22_A_Hard_Day%27s_Night_(film)',\n",
       " '72_Rosemary%27s_Baby_(film)',\n",
       " '15_Boyhood_(2014_film)',\n",
       " '5_Mad_Max:_Fury_Road',\n",
       " '62_Star_Wars:_The_Force_Awakens']"
      ]
     },
     "execution_count": 123,
     "metadata": {},
     "output_type": "execute_result"
    }
   ],
   "source": [
    "errorList"
   ]
  },
  {
   "cell_type": "code",
   "execution_count": 169,
   "metadata": {},
   "outputs": [],
   "source": [
    "# deleting initial record from poster_list\n",
    "\n",
    "for error in errorList:\n",
    "      for i in range(len(poster_list)):\n",
    "            if poster_list[i]['title'] in error:\n",
    "                  del poster_list[i]"
   ]
  },
  {
   "cell_type": "code",
   "execution_count": 183,
   "metadata": {},
   "outputs": [
    {
     "name": "stdout",
     "output_type": "stream",
     "text": [
      "Success:  Metropolis_(1927_film)\n",
      "saved\n",
      "Success:  A_Hard_Day%27s_Night_(film)\n",
      "saved\n",
      "Success:  Rosemary%27s_Baby_(film)\n",
      "saved\n",
      "Success:  Boyhood_(2014_film)\n",
      "saved\n",
      "Success:  Mad_Max:_Fury_Road\n",
      "saved\n",
      "Success:  Star_Wars:_The_Force_Awakens\n",
      "saved\n"
     ]
    }
   ],
   "source": [
    "# iterate through list\n",
    "eList = []\n",
    "for error in errorList:\n",
    "      try:\n",
    "            # split out the ranking and title from key\n",
    "            splitList = error.split('_')\n",
    "            ranking = splitList[0]\n",
    "            title = '_'.join(splitList[1:])\n",
    "            \n",
    "            # getting url for poster img\n",
    "            if error == '22_A_Hard_Day%27s_Night_(film)':\n",
    "                  wikiUrl = 'https://upload.wikimedia.org/wikipedia/en/4/47/A_Hard_Days_night_movieposter.jpg'\n",
    "            elif error == '72_Rosemary%27s_Baby_(film)':\n",
    "                  wikiUrl = 'https://upload.wikimedia.org/wikipedia/en/e/ef/Rosemarys_baby_poster.jpg'\n",
    "            elif error == '10_Metropolis_(1927_film)':\n",
    "                  page = wptools.page(title, silent=True)\n",
    "                  images = page.get().data['image']\n",
    "                  wikiUrl = images[4]['url']\n",
    "            else:\n",
    "                  page = wptools.page(title, silent=True)\n",
    "                  images = page.get().data['image']\n",
    "                  wikiUrl = images[0]['url']\n",
    "            # request for image\n",
    "            r = requests.get(wikiUrl, headers=header)\n",
    "            # logging\n",
    "            if r.ok:\n",
    "                  print(\"Success: \", title)\n",
    "            i = Image.open(BytesIO(r.content))\n",
    "            # get image format\n",
    "            image_file_format = wikiUrl.split('.')[-1]\n",
    "            # save to folder\n",
    "            i.save(folder_name + \"/\" + ranking + '_' + title.replace(':','') + '.' + image_file_format)\n",
    "            print('saved') # log\n",
    "            # append to list\n",
    "            #poster_list.append({'ranking': int(ranking),\n",
    "            #                    'title': title,\n",
    "            #                    'poster_url': first_image_url})\n",
    "      except Exception as e:\n",
    "            print(\"{}: Error!\".format(title), e)\n",
    "            eList.append(i)\n"
   ]
  },
  {
   "cell_type": "code",
   "execution_count": 202,
   "metadata": {},
   "outputs": [
    {
     "data": {
      "text/html": [
       "<div>\n",
       "<style scoped>\n",
       "    .dataframe tbody tr th:only-of-type {\n",
       "        vertical-align: middle;\n",
       "    }\n",
       "\n",
       "    .dataframe tbody tr th {\n",
       "        vertical-align: top;\n",
       "    }\n",
       "\n",
       "    .dataframe thead th {\n",
       "        text-align: right;\n",
       "    }\n",
       "</style>\n",
       "<table border=\"1\" class=\"dataframe\">\n",
       "  <thead>\n",
       "    <tr style=\"text-align: right;\">\n",
       "      <th></th>\n",
       "      <th>ranking</th>\n",
       "      <th>title</th>\n",
       "      <th>poster_url</th>\n",
       "    </tr>\n",
       "  </thead>\n",
       "  <tbody>\n",
       "    <tr>\n",
       "      <th>0</th>\n",
       "      <td>1</td>\n",
       "      <td>The_Wizard_of_Oz_(1939_film)</td>\n",
       "      <td>https://upload.wikimedia.org/wikipedia/commons...</td>\n",
       "    </tr>\n",
       "    <tr>\n",
       "      <th>1</th>\n",
       "      <td>2</td>\n",
       "      <td>Citizen_Kane</td>\n",
       "      <td>https://upload.wikimedia.org/wikipedia/commons...</td>\n",
       "    </tr>\n",
       "    <tr>\n",
       "      <th>2</th>\n",
       "      <td>3</td>\n",
       "      <td>The_Third_Man</td>\n",
       "      <td>https://upload.wikimedia.org/wikipedia/commons...</td>\n",
       "    </tr>\n",
       "    <tr>\n",
       "      <th>3</th>\n",
       "      <td>4</td>\n",
       "      <td>Get_Out_(film)</td>\n",
       "      <td>https://upload.wikimedia.org/wikipedia/en/a/a3...</td>\n",
       "    </tr>\n",
       "    <tr>\n",
       "      <th>4</th>\n",
       "      <td>5</td>\n",
       "      <td>Mad_Max:_Fury_Road</td>\n",
       "      <td>https://upload.wikimedia.org/wikipedia/commons...</td>\n",
       "    </tr>\n",
       "    <tr>\n",
       "      <th>...</th>\n",
       "      <td>...</td>\n",
       "      <td>...</td>\n",
       "      <td>...</td>\n",
       "    </tr>\n",
       "    <tr>\n",
       "      <th>95</th>\n",
       "      <td>96</td>\n",
       "      <td>Man_on_Wire</td>\n",
       "      <td>https://upload.wikimedia.org/wikipedia/en/5/54...</td>\n",
       "    </tr>\n",
       "    <tr>\n",
       "      <th>96</th>\n",
       "      <td>97</td>\n",
       "      <td>Jaws_(film)</td>\n",
       "      <td>https://upload.wikimedia.org/wikipedia/en/e/eb...</td>\n",
       "    </tr>\n",
       "    <tr>\n",
       "      <th>97</th>\n",
       "      <td>98</td>\n",
       "      <td>Toy_Story</td>\n",
       "      <td>https://upload.wikimedia.org/wikipedia/en/1/13...</td>\n",
       "    </tr>\n",
       "    <tr>\n",
       "      <th>98</th>\n",
       "      <td>99</td>\n",
       "      <td>The_Godfather_Part_II</td>\n",
       "      <td>https://upload.wikimedia.org/wikipedia/en/0/03...</td>\n",
       "    </tr>\n",
       "    <tr>\n",
       "      <th>99</th>\n",
       "      <td>100</td>\n",
       "      <td>Battleship_Potemkin</td>\n",
       "      <td>https://upload.wikimedia.org/wikipedia/commons...</td>\n",
       "    </tr>\n",
       "  </tbody>\n",
       "</table>\n",
       "<p>100 rows × 3 columns</p>\n",
       "</div>"
      ],
      "text/plain": [
       "    ranking                         title  \\\n",
       "0         1  The_Wizard_of_Oz_(1939_film)   \n",
       "1         2                  Citizen_Kane   \n",
       "2         3                 The_Third_Man   \n",
       "3         4                Get_Out_(film)   \n",
       "4         5            Mad_Max:_Fury_Road   \n",
       "..      ...                           ...   \n",
       "95       96                   Man_on_Wire   \n",
       "96       97                   Jaws_(film)   \n",
       "97       98                     Toy_Story   \n",
       "98       99         The_Godfather_Part_II   \n",
       "99      100           Battleship_Potemkin   \n",
       "\n",
       "                                           poster_url  \n",
       "0   https://upload.wikimedia.org/wikipedia/commons...  \n",
       "1   https://upload.wikimedia.org/wikipedia/commons...  \n",
       "2   https://upload.wikimedia.org/wikipedia/commons...  \n",
       "3   https://upload.wikimedia.org/wikipedia/en/a/a3...  \n",
       "4   https://upload.wikimedia.org/wikipedia/commons...  \n",
       "..                                                ...  \n",
       "95  https://upload.wikimedia.org/wikipedia/en/5/54...  \n",
       "96  https://upload.wikimedia.org/wikipedia/en/e/eb...  \n",
       "97  https://upload.wikimedia.org/wikipedia/en/1/13...  \n",
       "98  https://upload.wikimedia.org/wikipedia/en/0/03...  \n",
       "99  https://upload.wikimedia.org/wikipedia/commons...  \n",
       "\n",
       "[100 rows x 3 columns]"
      ]
     },
     "execution_count": 202,
     "metadata": {},
     "output_type": "execute_result"
    }
   ],
   "source": [
    "# create Dataframe from list of dictionaries\n",
    "poster_df = pd.DataFrame(poster_list)\n",
    "poster_df = poster_df.sort_values('ranking').reset_index(drop=True)\n",
    "poster_df"
   ]
  },
  {
   "cell_type": "markdown",
   "metadata": {},
   "source": [
    "Since the lesson isn't on Data Viz, this is the expected Word cloud\n",
    "\n",
    "\n",
    "![wordcloud](img/wordclouds.jpg)"
   ]
  },
  {
   "cell_type": "markdown",
   "metadata": {},
   "source": [
    "## Storing Data in Relational Databases\n",
    "Let's save our dataframes locally to .csv"
   ]
  },
  {
   "cell_type": "code",
   "execution_count": 216,
   "metadata": {},
   "outputs": [],
   "source": [
    "merge_df.to_csv('merge_df.csv', index=False)\n",
    "ebertReview_df.to_csv('ebertReview_df.tsv', sep='\\t',index=False)\n",
    "poster_df.to_csv('poster_df.csv', index=False)"
   ]
  },
  {
   "cell_type": "markdown",
   "metadata": {},
   "source": [
    "### 1. Connect to a database"
   ]
  },
  {
   "cell_type": "code",
   "execution_count": 207,
   "metadata": {},
   "outputs": [
    {
     "name": "stdout",
     "output_type": "stream",
     "text": [
      "Requirement already satisfied: sqlalchemy in c:\\users\\cyriaque matthews\\anaconda3\\lib\\site-packages (1.4.39)\n",
      "Requirement already satisfied: greenlet!=0.4.17 in c:\\users\\cyriaque matthews\\anaconda3\\lib\\site-packages (from sqlalchemy) (1.1.1)\n"
     ]
    }
   ],
   "source": [
    "! pip install sqlalchemy"
   ]
  },
  {
   "cell_type": "code",
   "execution_count": 217,
   "metadata": {},
   "outputs": [],
   "source": [
    "from sqlalchemy import create_engine"
   ]
  },
  {
   "cell_type": "code",
   "execution_count": 218,
   "metadata": {},
   "outputs": [],
   "source": [
    "# Create SQLAlchemy Engine and empty bestofrt database\n",
    "\n",
    "engine = create_engine('sqlite:///bestofrt.db')"
   ]
  },
  {
   "cell_type": "markdown",
   "metadata": {},
   "source": [
    "### 2. Store pandas DataFrame in database\n",
    "Store the data in the cleaned dataset in that database"
   ]
  },
  {
   "cell_type": "code",
   "execution_count": null,
   "metadata": {},
   "outputs": [],
   "source": [
    "# Store cleaned DataFrame in a table called master in bestofrt.db\n",
    "merge_df.to_sql('merge_df', engine, index=False)\n",
    "ebertReview_df.to_sql('ebertReview_df', engine, index=False)\n",
    "poster_df.to_sql('poster_df', engine, index=False)"
   ]
  },
  {
   "cell_type": "markdown",
   "metadata": {},
   "source": [
    "### 3. Read database data into a pandas DataFrame\n",
    "Read the brand new data in that database back into a pandas DataFrame."
   ]
  },
  {
   "cell_type": "code",
   "execution_count": 221,
   "metadata": {},
   "outputs": [],
   "source": [
    "df_gather = pd.read_sql('SELECT * FROM merge_df', engine)"
   ]
  },
  {
   "cell_type": "code",
   "execution_count": 222,
   "metadata": {},
   "outputs": [
    {
     "data": {
      "text/html": [
       "<div>\n",
       "<style scoped>\n",
       "    .dataframe tbody tr th:only-of-type {\n",
       "        vertical-align: middle;\n",
       "    }\n",
       "\n",
       "    .dataframe tbody tr th {\n",
       "        vertical-align: top;\n",
       "    }\n",
       "\n",
       "    .dataframe thead th {\n",
       "        text-align: right;\n",
       "    }\n",
       "</style>\n",
       "<table border=\"1\" class=\"dataframe\">\n",
       "  <thead>\n",
       "    <tr style=\"text-align: right;\">\n",
       "      <th></th>\n",
       "      <th>ranking</th>\n",
       "      <th>critic_score</th>\n",
       "      <th>title</th>\n",
       "      <th>number_of_critic_ratings</th>\n",
       "      <th>audience_score</th>\n",
       "      <th>number_of_audience_ratings</th>\n",
       "    </tr>\n",
       "  </thead>\n",
       "  <tbody>\n",
       "    <tr>\n",
       "      <th>0</th>\n",
       "      <td>1</td>\n",
       "      <td>99</td>\n",
       "      <td>The Wizard of Oz (1939)</td>\n",
       "      <td>110</td>\n",
       "      <td>89</td>\n",
       "      <td>874425</td>\n",
       "    </tr>\n",
       "    <tr>\n",
       "      <th>1</th>\n",
       "      <td>2</td>\n",
       "      <td>100</td>\n",
       "      <td>Citizen Kane (1941)</td>\n",
       "      <td>75</td>\n",
       "      <td>90</td>\n",
       "      <td>157274</td>\n",
       "    </tr>\n",
       "    <tr>\n",
       "      <th>2</th>\n",
       "      <td>3</td>\n",
       "      <td>100</td>\n",
       "      <td>The Third Man (1949)</td>\n",
       "      <td>77</td>\n",
       "      <td>93</td>\n",
       "      <td>53081</td>\n",
       "    </tr>\n",
       "    <tr>\n",
       "      <th>3</th>\n",
       "      <td>4</td>\n",
       "      <td>99</td>\n",
       "      <td>Get Out (2017)</td>\n",
       "      <td>282</td>\n",
       "      <td>87</td>\n",
       "      <td>63837</td>\n",
       "    </tr>\n",
       "    <tr>\n",
       "      <th>4</th>\n",
       "      <td>5</td>\n",
       "      <td>97</td>\n",
       "      <td>Mad Max: Fury Road (2015)</td>\n",
       "      <td>370</td>\n",
       "      <td>86</td>\n",
       "      <td>123937</td>\n",
       "    </tr>\n",
       "  </tbody>\n",
       "</table>\n",
       "</div>"
      ],
      "text/plain": [
       "   ranking  critic_score                      title  number_of_critic_ratings  \\\n",
       "0        1            99    The Wizard of Oz (1939)                       110   \n",
       "1        2           100        Citizen Kane (1941)                        75   \n",
       "2        3           100       The Third Man (1949)                        77   \n",
       "3        4            99             Get Out (2017)                       282   \n",
       "4        5            97  Mad Max: Fury Road (2015)                       370   \n",
       "\n",
       "   audience_score  number_of_audience_ratings  \n",
       "0              89                      874425  \n",
       "1              90                      157274  \n",
       "2              93                       53081  \n",
       "3              87                       63837  \n",
       "4              86                      123937  "
      ]
     },
     "execution_count": 222,
     "metadata": {},
     "output_type": "execute_result"
    }
   ],
   "source": [
    "df_gather.head()"
   ]
  },
  {
   "cell_type": "markdown",
   "metadata": {},
   "source": [
    "The end......or is it?"
   ]
  }
 ],
 "metadata": {
  "kernelspec": {
   "display_name": "Python 3.9.7 ('base')",
   "language": "python",
   "name": "python3"
  },
  "language_info": {
   "codemirror_mode": {
    "name": "ipython",
    "version": 3
   },
   "file_extension": ".py",
   "mimetype": "text/x-python",
   "name": "python",
   "nbconvert_exporter": "python",
   "pygments_lexer": "ipython3",
   "version": "3.9.7"
  },
  "orig_nbformat": 4,
  "vscode": {
   "interpreter": {
    "hash": "1206a4f2d6f64ed28b08c3544e67299a5b762789ddcc45660f3f6eefedb1bf11"
   }
  }
 },
 "nbformat": 4,
 "nbformat_minor": 2
}
