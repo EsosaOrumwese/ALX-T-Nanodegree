{
 "cells": [
  {
   "cell_type": "markdown",
   "metadata": {
    "slideshow": {
     "slide_type": "slide"
    }
   },
   "source": [
    "# Airline On-Time Performance Data Exploratory Analysis\n",
    "## by Esosa Orumwese"
   ]
  },
  {
   "cell_type": "markdown",
   "metadata": {
    "slideshow": {
     "slide_type": "slide"
    }
   },
   "source": [
    "## Investigation Overview\n",
    "\n",
    "The goal of this investigation was to generate insights from 2007 airline on-time performance data which revolves around\n",
    "1. Were there more delayed flights than there were early or on-time flights?\n",
    "1. How does the number of registered flights vary per month?\n",
    "2. What is the distribution of early, on-time, delayed and cancelled flights per month?\n",
    "3. What is the distribution of daily flight cancellations?\n",
    "4. How does the number of registered flights compare amongst airlines?\n",
    "5. What is the distribution of delays for the top airlines?\n",
    "\n",
    "## Dataset Overview\n",
    "\n",
    "The dataset used consists of flight arrival and departure details for all commercial flights within the USA in 2007. It is a large dataset with nearly 7.5 million records, 25 variables, and takes up 1.2 gigabytes of space. The data comes originally from RITA where it is described in detail."
   ]
  },
  {
   "cell_type": "code",
   "execution_count": 1,
   "metadata": {
    "slideshow": {
     "slide_type": "skip"
    }
   },
   "outputs": [],
   "source": [
    "# import all packages and set plots to be embedded inline\n",
    "import numpy as np\n",
    "import pandas as pd\n",
    "import matplotlib.pyplot as plt\n",
    "import seaborn as sb\n",
    "\n",
    "%matplotlib inline\n",
    "\n",
    "# suppress warnings from final output\n",
    "import warnings\n",
    "warnings.simplefilter(\"ignore\")"
   ]
  },
  {
   "cell_type": "code",
   "execution_count": 2,
   "metadata": {
    "slideshow": {
     "slide_type": "skip"
    }
   },
   "outputs": [],
   "source": [
    "# load in the dataset into a pandas dataframe\n",
    "airline_df = pd.read_csv('airline_clean.csv')\n",
    "airports = pd.read_csv('airports.csv')\n",
    "planes_data = pd.read_csv('plane_clean.csv')\n",
    "carriers = pd.read_csv('carriers.csv')"
   ]
  },
  {
   "cell_type": "code",
   "execution_count": 3,
   "metadata": {
    "slideshow": {
     "slide_type": "subslide"
    }
   },
   "outputs": [
    {
     "data": {
      "text/html": [
       "<div>\n",
       "<style scoped>\n",
       "    .dataframe tbody tr th:only-of-type {\n",
       "        vertical-align: middle;\n",
       "    }\n",
       "\n",
       "    .dataframe tbody tr th {\n",
       "        vertical-align: top;\n",
       "    }\n",
       "\n",
       "    .dataframe thead th {\n",
       "        text-align: right;\n",
       "    }\n",
       "</style>\n",
       "<table border=\"1\" class=\"dataframe\">\n",
       "  <thead>\n",
       "    <tr style=\"text-align: right;\">\n",
       "      <th></th>\n",
       "      <th>Date</th>\n",
       "      <th>DepTime</th>\n",
       "      <th>CRSDepTime</th>\n",
       "      <th>ArrTime</th>\n",
       "      <th>CRSArrTime</th>\n",
       "      <th>UniqueCarrier</th>\n",
       "      <th>FlightNum</th>\n",
       "      <th>ArrDelay</th>\n",
       "      <th>DepDelay</th>\n",
       "      <th>Origin</th>\n",
       "      <th>...</th>\n",
       "      <th>TaxiIn</th>\n",
       "      <th>TaxiOut</th>\n",
       "      <th>Cancelled</th>\n",
       "      <th>CancellationCode</th>\n",
       "      <th>Diverted</th>\n",
       "      <th>CarrierDelay</th>\n",
       "      <th>WeatherDelay</th>\n",
       "      <th>NASDelay</th>\n",
       "      <th>SecurityDelay</th>\n",
       "      <th>LateAircraftDelay</th>\n",
       "    </tr>\n",
       "  </thead>\n",
       "  <tbody>\n",
       "    <tr>\n",
       "      <th>0</th>\n",
       "      <td>2007-01-01</td>\n",
       "      <td>1232.0</td>\n",
       "      <td>1225</td>\n",
       "      <td>1341.0</td>\n",
       "      <td>1340</td>\n",
       "      <td>WN</td>\n",
       "      <td>2891</td>\n",
       "      <td>1.0</td>\n",
       "      <td>7.0</td>\n",
       "      <td>SMF</td>\n",
       "      <td>...</td>\n",
       "      <td>4</td>\n",
       "      <td>11</td>\n",
       "      <td>False</td>\n",
       "      <td>NaN</td>\n",
       "      <td>False</td>\n",
       "      <td>0</td>\n",
       "      <td>0</td>\n",
       "      <td>0</td>\n",
       "      <td>0</td>\n",
       "      <td>0</td>\n",
       "    </tr>\n",
       "    <tr>\n",
       "      <th>1</th>\n",
       "      <td>2007-01-01</td>\n",
       "      <td>1918.0</td>\n",
       "      <td>1905</td>\n",
       "      <td>2043.0</td>\n",
       "      <td>2035</td>\n",
       "      <td>WN</td>\n",
       "      <td>462</td>\n",
       "      <td>8.0</td>\n",
       "      <td>13.0</td>\n",
       "      <td>SMF</td>\n",
       "      <td>...</td>\n",
       "      <td>5</td>\n",
       "      <td>6</td>\n",
       "      <td>False</td>\n",
       "      <td>NaN</td>\n",
       "      <td>False</td>\n",
       "      <td>0</td>\n",
       "      <td>0</td>\n",
       "      <td>0</td>\n",
       "      <td>0</td>\n",
       "      <td>0</td>\n",
       "    </tr>\n",
       "    <tr>\n",
       "      <th>2</th>\n",
       "      <td>2007-01-01</td>\n",
       "      <td>2206.0</td>\n",
       "      <td>2130</td>\n",
       "      <td>2334.0</td>\n",
       "      <td>2300</td>\n",
       "      <td>WN</td>\n",
       "      <td>1229</td>\n",
       "      <td>34.0</td>\n",
       "      <td>36.0</td>\n",
       "      <td>SMF</td>\n",
       "      <td>...</td>\n",
       "      <td>6</td>\n",
       "      <td>9</td>\n",
       "      <td>False</td>\n",
       "      <td>NaN</td>\n",
       "      <td>False</td>\n",
       "      <td>3</td>\n",
       "      <td>0</td>\n",
       "      <td>0</td>\n",
       "      <td>0</td>\n",
       "      <td>31</td>\n",
       "    </tr>\n",
       "    <tr>\n",
       "      <th>3</th>\n",
       "      <td>2007-01-01</td>\n",
       "      <td>1230.0</td>\n",
       "      <td>1200</td>\n",
       "      <td>1356.0</td>\n",
       "      <td>1330</td>\n",
       "      <td>WN</td>\n",
       "      <td>1355</td>\n",
       "      <td>26.0</td>\n",
       "      <td>30.0</td>\n",
       "      <td>SMF</td>\n",
       "      <td>...</td>\n",
       "      <td>3</td>\n",
       "      <td>8</td>\n",
       "      <td>False</td>\n",
       "      <td>NaN</td>\n",
       "      <td>False</td>\n",
       "      <td>23</td>\n",
       "      <td>0</td>\n",
       "      <td>0</td>\n",
       "      <td>0</td>\n",
       "      <td>3</td>\n",
       "    </tr>\n",
       "    <tr>\n",
       "      <th>4</th>\n",
       "      <td>2007-01-01</td>\n",
       "      <td>831.0</td>\n",
       "      <td>830</td>\n",
       "      <td>957.0</td>\n",
       "      <td>1000</td>\n",
       "      <td>WN</td>\n",
       "      <td>2278</td>\n",
       "      <td>-3.0</td>\n",
       "      <td>1.0</td>\n",
       "      <td>SMF</td>\n",
       "      <td>...</td>\n",
       "      <td>3</td>\n",
       "      <td>9</td>\n",
       "      <td>False</td>\n",
       "      <td>NaN</td>\n",
       "      <td>False</td>\n",
       "      <td>0</td>\n",
       "      <td>0</td>\n",
       "      <td>0</td>\n",
       "      <td>0</td>\n",
       "      <td>0</td>\n",
       "    </tr>\n",
       "    <tr>\n",
       "      <th>5</th>\n",
       "      <td>2007-01-01</td>\n",
       "      <td>1430.0</td>\n",
       "      <td>1420</td>\n",
       "      <td>1553.0</td>\n",
       "      <td>1550</td>\n",
       "      <td>WN</td>\n",
       "      <td>2386</td>\n",
       "      <td>3.0</td>\n",
       "      <td>10.0</td>\n",
       "      <td>SMF</td>\n",
       "      <td>...</td>\n",
       "      <td>2</td>\n",
       "      <td>7</td>\n",
       "      <td>False</td>\n",
       "      <td>NaN</td>\n",
       "      <td>False</td>\n",
       "      <td>0</td>\n",
       "      <td>0</td>\n",
       "      <td>0</td>\n",
       "      <td>0</td>\n",
       "      <td>0</td>\n",
       "    </tr>\n",
       "    <tr>\n",
       "      <th>6</th>\n",
       "      <td>2007-01-01</td>\n",
       "      <td>1936.0</td>\n",
       "      <td>1840</td>\n",
       "      <td>2217.0</td>\n",
       "      <td>2130</td>\n",
       "      <td>WN</td>\n",
       "      <td>409</td>\n",
       "      <td>47.0</td>\n",
       "      <td>56.0</td>\n",
       "      <td>SMF</td>\n",
       "      <td>...</td>\n",
       "      <td>5</td>\n",
       "      <td>7</td>\n",
       "      <td>False</td>\n",
       "      <td>NaN</td>\n",
       "      <td>False</td>\n",
       "      <td>46</td>\n",
       "      <td>0</td>\n",
       "      <td>0</td>\n",
       "      <td>0</td>\n",
       "      <td>1</td>\n",
       "    </tr>\n",
       "    <tr>\n",
       "      <th>7</th>\n",
       "      <td>2007-01-01</td>\n",
       "      <td>944.0</td>\n",
       "      <td>935</td>\n",
       "      <td>1223.0</td>\n",
       "      <td>1225</td>\n",
       "      <td>WN</td>\n",
       "      <td>1131</td>\n",
       "      <td>-2.0</td>\n",
       "      <td>9.0</td>\n",
       "      <td>SMF</td>\n",
       "      <td>...</td>\n",
       "      <td>4</td>\n",
       "      <td>9</td>\n",
       "      <td>False</td>\n",
       "      <td>NaN</td>\n",
       "      <td>False</td>\n",
       "      <td>0</td>\n",
       "      <td>0</td>\n",
       "      <td>0</td>\n",
       "      <td>0</td>\n",
       "      <td>0</td>\n",
       "    </tr>\n",
       "    <tr>\n",
       "      <th>8</th>\n",
       "      <td>2007-01-01</td>\n",
       "      <td>1537.0</td>\n",
       "      <td>1450</td>\n",
       "      <td>1819.0</td>\n",
       "      <td>1735</td>\n",
       "      <td>WN</td>\n",
       "      <td>1212</td>\n",
       "      <td>44.0</td>\n",
       "      <td>47.0</td>\n",
       "      <td>SMF</td>\n",
       "      <td>...</td>\n",
       "      <td>5</td>\n",
       "      <td>7</td>\n",
       "      <td>False</td>\n",
       "      <td>NaN</td>\n",
       "      <td>False</td>\n",
       "      <td>20</td>\n",
       "      <td>0</td>\n",
       "      <td>0</td>\n",
       "      <td>0</td>\n",
       "      <td>24</td>\n",
       "    </tr>\n",
       "    <tr>\n",
       "      <th>9</th>\n",
       "      <td>2007-01-01</td>\n",
       "      <td>1318.0</td>\n",
       "      <td>1315</td>\n",
       "      <td>1603.0</td>\n",
       "      <td>1610</td>\n",
       "      <td>WN</td>\n",
       "      <td>2456</td>\n",
       "      <td>-7.0</td>\n",
       "      <td>3.0</td>\n",
       "      <td>SMF</td>\n",
       "      <td>...</td>\n",
       "      <td>5</td>\n",
       "      <td>8</td>\n",
       "      <td>False</td>\n",
       "      <td>NaN</td>\n",
       "      <td>False</td>\n",
       "      <td>0</td>\n",
       "      <td>0</td>\n",
       "      <td>0</td>\n",
       "      <td>0</td>\n",
       "      <td>0</td>\n",
       "    </tr>\n",
       "  </tbody>\n",
       "</table>\n",
       "<p>10 rows × 22 columns</p>\n",
       "</div>"
      ],
      "text/plain": [
       "         Date  DepTime  CRSDepTime  ArrTime  CRSArrTime UniqueCarrier  \\\n",
       "0  2007-01-01   1232.0        1225   1341.0        1340            WN   \n",
       "1  2007-01-01   1918.0        1905   2043.0        2035            WN   \n",
       "2  2007-01-01   2206.0        2130   2334.0        2300            WN   \n",
       "3  2007-01-01   1230.0        1200   1356.0        1330            WN   \n",
       "4  2007-01-01    831.0         830    957.0        1000            WN   \n",
       "5  2007-01-01   1430.0        1420   1553.0        1550            WN   \n",
       "6  2007-01-01   1936.0        1840   2217.0        2130            WN   \n",
       "7  2007-01-01    944.0         935   1223.0        1225            WN   \n",
       "8  2007-01-01   1537.0        1450   1819.0        1735            WN   \n",
       "9  2007-01-01   1318.0        1315   1603.0        1610            WN   \n",
       "\n",
       "   FlightNum  ArrDelay  DepDelay Origin  ... TaxiIn  TaxiOut  Cancelled  \\\n",
       "0       2891       1.0       7.0    SMF  ...      4       11      False   \n",
       "1        462       8.0      13.0    SMF  ...      5        6      False   \n",
       "2       1229      34.0      36.0    SMF  ...      6        9      False   \n",
       "3       1355      26.0      30.0    SMF  ...      3        8      False   \n",
       "4       2278      -3.0       1.0    SMF  ...      3        9      False   \n",
       "5       2386       3.0      10.0    SMF  ...      2        7      False   \n",
       "6        409      47.0      56.0    SMF  ...      5        7      False   \n",
       "7       1131      -2.0       9.0    SMF  ...      4        9      False   \n",
       "8       1212      44.0      47.0    SMF  ...      5        7      False   \n",
       "9       2456      -7.0       3.0    SMF  ...      5        8      False   \n",
       "\n",
       "   CancellationCode  Diverted CarrierDelay  WeatherDelay  NASDelay  \\\n",
       "0               NaN     False            0             0         0   \n",
       "1               NaN     False            0             0         0   \n",
       "2               NaN     False            3             0         0   \n",
       "3               NaN     False           23             0         0   \n",
       "4               NaN     False            0             0         0   \n",
       "5               NaN     False            0             0         0   \n",
       "6               NaN     False           46             0         0   \n",
       "7               NaN     False            0             0         0   \n",
       "8               NaN     False           20             0         0   \n",
       "9               NaN     False            0             0         0   \n",
       "\n",
       "   SecurityDelay  LateAircraftDelay  \n",
       "0              0                  0  \n",
       "1              0                  0  \n",
       "2              0                 31  \n",
       "3              0                  3  \n",
       "4              0                  0  \n",
       "5              0                  0  \n",
       "6              0                  1  \n",
       "7              0                  0  \n",
       "8              0                 24  \n",
       "9              0                  0  \n",
       "\n",
       "[10 rows x 22 columns]"
      ]
     },
     "execution_count": 3,
     "metadata": {},
     "output_type": "execute_result"
    }
   ],
   "source": [
    "# dataset overview\n",
    "airline_df.head(10)"
   ]
  },
  {
   "cell_type": "code",
   "execution_count": 4,
   "metadata": {
    "slideshow": {
     "slide_type": "subslide"
    }
   },
   "outputs": [
    {
     "data": {
      "text/html": [
       "<div>\n",
       "<style scoped>\n",
       "    .dataframe tbody tr th:only-of-type {\n",
       "        vertical-align: middle;\n",
       "    }\n",
       "\n",
       "    .dataframe tbody tr th {\n",
       "        vertical-align: top;\n",
       "    }\n",
       "\n",
       "    .dataframe thead th {\n",
       "        text-align: right;\n",
       "    }\n",
       "</style>\n",
       "<table border=\"1\" class=\"dataframe\">\n",
       "  <thead>\n",
       "    <tr style=\"text-align: right;\">\n",
       "      <th></th>\n",
       "      <th>DepTime</th>\n",
       "      <th>CRSDepTime</th>\n",
       "      <th>ArrTime</th>\n",
       "      <th>CRSArrTime</th>\n",
       "      <th>FlightNum</th>\n",
       "      <th>ArrDelay</th>\n",
       "      <th>DepDelay</th>\n",
       "      <th>Distance</th>\n",
       "      <th>TaxiIn</th>\n",
       "      <th>TaxiOut</th>\n",
       "      <th>CarrierDelay</th>\n",
       "      <th>WeatherDelay</th>\n",
       "      <th>NASDelay</th>\n",
       "      <th>SecurityDelay</th>\n",
       "      <th>LateAircraftDelay</th>\n",
       "    </tr>\n",
       "  </thead>\n",
       "  <tbody>\n",
       "    <tr>\n",
       "      <th>count</th>\n",
       "      <td>7.292440e+06</td>\n",
       "      <td>7.453188e+06</td>\n",
       "      <td>7.275261e+06</td>\n",
       "      <td>7.453188e+06</td>\n",
       "      <td>7.453188e+06</td>\n",
       "      <td>7.275261e+06</td>\n",
       "      <td>7.292440e+06</td>\n",
       "      <td>7.453188e+06</td>\n",
       "      <td>7.453188e+06</td>\n",
       "      <td>7.453188e+06</td>\n",
       "      <td>7.453188e+06</td>\n",
       "      <td>7.453188e+06</td>\n",
       "      <td>7.453188e+06</td>\n",
       "      <td>7.453188e+06</td>\n",
       "      <td>7.453188e+06</td>\n",
       "    </tr>\n",
       "    <tr>\n",
       "      <th>mean</th>\n",
       "      <td>1.339221e+03</td>\n",
       "      <td>1.330596e+03</td>\n",
       "      <td>1.482104e+03</td>\n",
       "      <td>1.495391e+03</td>\n",
       "      <td>2.188106e+03</td>\n",
       "      <td>1.019221e+01</td>\n",
       "      <td>1.139917e+01</td>\n",
       "      <td>7.198048e+02</td>\n",
       "      <td>6.691974e+00</td>\n",
       "      <td>1.630016e+01</td>\n",
       "      <td>3.865245e+00</td>\n",
       "      <td>7.700931e-01</td>\n",
       "      <td>3.783703e+00</td>\n",
       "      <td>2.373561e-02</td>\n",
       "      <td>5.099152e+00</td>\n",
       "    </tr>\n",
       "    <tr>\n",
       "      <th>std</th>\n",
       "      <td>4.798517e+02</td>\n",
       "      <td>4.647069e+02</td>\n",
       "      <td>5.072232e+02</td>\n",
       "      <td>4.815892e+02</td>\n",
       "      <td>1.971958e+03</td>\n",
       "      <td>3.930780e+01</td>\n",
       "      <td>3.614195e+01</td>\n",
       "      <td>5.623055e+02</td>\n",
       "      <td>5.151336e+00</td>\n",
       "      <td>1.183398e+01</td>\n",
       "      <td>2.084244e+01</td>\n",
       "      <td>9.619564e+00</td>\n",
       "      <td>1.617673e+01</td>\n",
       "      <td>1.084997e+00</td>\n",
       "      <td>2.127757e+01</td>\n",
       "    </tr>\n",
       "    <tr>\n",
       "      <th>min</th>\n",
       "      <td>1.000000e+00</td>\n",
       "      <td>0.000000e+00</td>\n",
       "      <td>1.000000e+00</td>\n",
       "      <td>0.000000e+00</td>\n",
       "      <td>1.000000e+00</td>\n",
       "      <td>-3.120000e+02</td>\n",
       "      <td>-3.050000e+02</td>\n",
       "      <td>1.100000e+01</td>\n",
       "      <td>0.000000e+00</td>\n",
       "      <td>0.000000e+00</td>\n",
       "      <td>0.000000e+00</td>\n",
       "      <td>0.000000e+00</td>\n",
       "      <td>0.000000e+00</td>\n",
       "      <td>0.000000e+00</td>\n",
       "      <td>0.000000e+00</td>\n",
       "    </tr>\n",
       "    <tr>\n",
       "      <th>25%</th>\n",
       "      <td>9.300000e+02</td>\n",
       "      <td>9.300000e+02</td>\n",
       "      <td>1.107000e+03</td>\n",
       "      <td>1.115000e+03</td>\n",
       "      <td>5.900000e+02</td>\n",
       "      <td>-9.000000e+00</td>\n",
       "      <td>-4.000000e+00</td>\n",
       "      <td>3.190000e+02</td>\n",
       "      <td>4.000000e+00</td>\n",
       "      <td>1.000000e+01</td>\n",
       "      <td>0.000000e+00</td>\n",
       "      <td>0.000000e+00</td>\n",
       "      <td>0.000000e+00</td>\n",
       "      <td>0.000000e+00</td>\n",
       "      <td>0.000000e+00</td>\n",
       "    </tr>\n",
       "    <tr>\n",
       "      <th>50%</th>\n",
       "      <td>1.329000e+03</td>\n",
       "      <td>1.322000e+03</td>\n",
       "      <td>1.513000e+03</td>\n",
       "      <td>1.520000e+03</td>\n",
       "      <td>1.509000e+03</td>\n",
       "      <td>0.000000e+00</td>\n",
       "      <td>0.000000e+00</td>\n",
       "      <td>5.690000e+02</td>\n",
       "      <td>5.000000e+00</td>\n",
       "      <td>1.400000e+01</td>\n",
       "      <td>0.000000e+00</td>\n",
       "      <td>0.000000e+00</td>\n",
       "      <td>0.000000e+00</td>\n",
       "      <td>0.000000e+00</td>\n",
       "      <td>0.000000e+00</td>\n",
       "    </tr>\n",
       "    <tr>\n",
       "      <th>75%</th>\n",
       "      <td>1.733000e+03</td>\n",
       "      <td>1.720000e+03</td>\n",
       "      <td>1.911000e+03</td>\n",
       "      <td>1.906000e+03</td>\n",
       "      <td>3.553000e+03</td>\n",
       "      <td>1.400000e+01</td>\n",
       "      <td>1.100000e+01</td>\n",
       "      <td>9.460000e+02</td>\n",
       "      <td>8.000000e+00</td>\n",
       "      <td>1.900000e+01</td>\n",
       "      <td>0.000000e+00</td>\n",
       "      <td>0.000000e+00</td>\n",
       "      <td>0.000000e+00</td>\n",
       "      <td>0.000000e+00</td>\n",
       "      <td>0.000000e+00</td>\n",
       "    </tr>\n",
       "    <tr>\n",
       "      <th>max</th>\n",
       "      <td>2.400000e+03</td>\n",
       "      <td>2.359000e+03</td>\n",
       "      <td>2.400000e+03</td>\n",
       "      <td>2.400000e+03</td>\n",
       "      <td>9.602000e+03</td>\n",
       "      <td>2.598000e+03</td>\n",
       "      <td>2.601000e+03</td>\n",
       "      <td>4.962000e+03</td>\n",
       "      <td>5.450000e+02</td>\n",
       "      <td>5.300000e+02</td>\n",
       "      <td>2.580000e+03</td>\n",
       "      <td>1.429000e+03</td>\n",
       "      <td>1.386000e+03</td>\n",
       "      <td>3.820000e+02</td>\n",
       "      <td>1.031000e+03</td>\n",
       "    </tr>\n",
       "  </tbody>\n",
       "</table>\n",
       "</div>"
      ],
      "text/plain": [
       "            DepTime    CRSDepTime       ArrTime    CRSArrTime     FlightNum  \\\n",
       "count  7.292440e+06  7.453188e+06  7.275261e+06  7.453188e+06  7.453188e+06   \n",
       "mean   1.339221e+03  1.330596e+03  1.482104e+03  1.495391e+03  2.188106e+03   \n",
       "std    4.798517e+02  4.647069e+02  5.072232e+02  4.815892e+02  1.971958e+03   \n",
       "min    1.000000e+00  0.000000e+00  1.000000e+00  0.000000e+00  1.000000e+00   \n",
       "25%    9.300000e+02  9.300000e+02  1.107000e+03  1.115000e+03  5.900000e+02   \n",
       "50%    1.329000e+03  1.322000e+03  1.513000e+03  1.520000e+03  1.509000e+03   \n",
       "75%    1.733000e+03  1.720000e+03  1.911000e+03  1.906000e+03  3.553000e+03   \n",
       "max    2.400000e+03  2.359000e+03  2.400000e+03  2.400000e+03  9.602000e+03   \n",
       "\n",
       "           ArrDelay      DepDelay      Distance        TaxiIn       TaxiOut  \\\n",
       "count  7.275261e+06  7.292440e+06  7.453188e+06  7.453188e+06  7.453188e+06   \n",
       "mean   1.019221e+01  1.139917e+01  7.198048e+02  6.691974e+00  1.630016e+01   \n",
       "std    3.930780e+01  3.614195e+01  5.623055e+02  5.151336e+00  1.183398e+01   \n",
       "min   -3.120000e+02 -3.050000e+02  1.100000e+01  0.000000e+00  0.000000e+00   \n",
       "25%   -9.000000e+00 -4.000000e+00  3.190000e+02  4.000000e+00  1.000000e+01   \n",
       "50%    0.000000e+00  0.000000e+00  5.690000e+02  5.000000e+00  1.400000e+01   \n",
       "75%    1.400000e+01  1.100000e+01  9.460000e+02  8.000000e+00  1.900000e+01   \n",
       "max    2.598000e+03  2.601000e+03  4.962000e+03  5.450000e+02  5.300000e+02   \n",
       "\n",
       "       CarrierDelay  WeatherDelay      NASDelay  SecurityDelay  \\\n",
       "count  7.453188e+06  7.453188e+06  7.453188e+06   7.453188e+06   \n",
       "mean   3.865245e+00  7.700931e-01  3.783703e+00   2.373561e-02   \n",
       "std    2.084244e+01  9.619564e+00  1.617673e+01   1.084997e+00   \n",
       "min    0.000000e+00  0.000000e+00  0.000000e+00   0.000000e+00   \n",
       "25%    0.000000e+00  0.000000e+00  0.000000e+00   0.000000e+00   \n",
       "50%    0.000000e+00  0.000000e+00  0.000000e+00   0.000000e+00   \n",
       "75%    0.000000e+00  0.000000e+00  0.000000e+00   0.000000e+00   \n",
       "max    2.580000e+03  1.429000e+03  1.386000e+03   3.820000e+02   \n",
       "\n",
       "       LateAircraftDelay  \n",
       "count       7.453188e+06  \n",
       "mean        5.099152e+00  \n",
       "std         2.127757e+01  \n",
       "min         0.000000e+00  \n",
       "25%         0.000000e+00  \n",
       "50%         0.000000e+00  \n",
       "75%         0.000000e+00  \n",
       "max         1.031000e+03  "
      ]
     },
     "execution_count": 4,
     "metadata": {},
     "output_type": "execute_result"
    }
   ],
   "source": [
    "# structure of data\n",
    "airline_df.describe()"
   ]
  },
  {
   "cell_type": "markdown",
   "metadata": {
    "slideshow": {
     "slide_type": "slide"
    }
   },
   "source": [
    "## Were there more delayed flights than there were early or on-time flights?\n",
    "The dataset contained a lot of negative values, signifying the flights that were early. As a result, departure delay was grouped into 4 categories;\n",
    "* OnTime_Early: Delay times that were less than or equal zero,\n",
    "* Small_Delay: Delay time of less than 15 minutes,\n",
    "* Medium_Delay: Delay times between 15 minutes and 45 minutes,\n",
    "* Large_Delay: Delay times greater than 45 minutes.\n",
    "\n",
    "It was found that 55% of the flights in 2007 were either on-time or early with just 21.95% experiencing a small delay and 2% cancelled."
   ]
  },
  {
   "cell_type": "markdown",
   "metadata": {
    "slideshow": {
     "slide_type": "subslide"
    }
   },
   "source": [
    "![img](figures/flight_result_barchart.png)"
   ]
  },
  {
   "cell_type": "markdown",
   "metadata": {
    "collapsed": true,
    "slideshow": {
     "slide_type": "slide"
    }
   },
   "source": [
    "## How does the number of registered flights vary per month?\n",
    "\n",
    "Although the median number of bookings seems to be above 600,000 in 2007, February seemed to have the least amount of flight bookings (565,604) while July and August had the most (648,544 and 653,276 respectively)."
   ]
  },
  {
   "cell_type": "markdown",
   "metadata": {
    "slideshow": {
     "slide_type": "subslide"
    }
   },
   "source": [
    "![img](figures/no_of_booked_flights_per_month.png)"
   ]
  },
  {
   "cell_type": "markdown",
   "metadata": {
    "collapsed": true,
    "slideshow": {
     "slide_type": "slide"
    }
   },
   "source": [
    "## What is the distribution of early, on-time, delayed and cancelled flights per month?\n",
    "\n",
    "There is clear and gradual decrease in percentage of delays for each month as seen in the heatmap below. "
   ]
  },
  {
   "cell_type": "markdown",
   "metadata": {
    "slideshow": {
     "slide_type": "subslide"
    }
   },
   "source": [
    "![img](figures/pct_of_DelayGroup_month.png)"
   ]
  },
  {
   "cell_type": "markdown",
   "metadata": {
    "slideshow": {
     "slide_type": "subslide"
    }
   },
   "source": [
    "When looking at the distribution, neglecting the on-time and early flights, we can notice that most delays occurred between June, July, August and December while September to November had the highest percentage of on time flights. February then December saw the highest percentage of cancelled flights than all other months in 2007."
   ]
  },
  {
   "cell_type": "markdown",
   "metadata": {
    "slideshow": {
     "slide_type": "subslide"
    }
   },
   "source": [
    "![img](figures/pct_of_DelayGroup_month_except_OnTime.png)"
   ]
  },
  {
   "cell_type": "markdown",
   "metadata": {
    "collapsed": true,
    "slideshow": {
     "slide_type": "slide"
    }
   },
   "source": [
    "## What is the distribution of daily flight cancellations like?\n",
    "\n",
    "When plotting the log transform of the right skewed daily flight cancellations on a calendar plot, we can see basically 3 periods of increase in cancellations. From January to mid-April, then from June to August and from the last week of November to December."
   ]
  },
  {
   "cell_type": "markdown",
   "metadata": {
    "slideshow": {
     "slide_type": "subslide"
    }
   },
   "source": [
    "![img](figures/calplot_log_daily_flight_cancellations.png)"
   ]
  },
  {
   "cell_type": "markdown",
   "metadata": {
    "collapsed": true,
    "slideshow": {
     "slide_type": "slide"
    }
   },
   "source": [
    "## How does the number of registered flights compare amongst airlines?\n",
    "\n",
    "Southwest Airlines Co. seems to be the most popular airline in 2007 with a total of 1,158,878 registered flights followed by 'American Airlines Inc'. and 'Skywest Airlines Inc'. both having 615,933 and 583,696 registered flights respectively. The least used airline is 'Aloha Airlines Inc.' having just 45,972 booked flights."
   ]
  },
  {
   "cell_type": "markdown",
   "metadata": {
    "slideshow": {
     "slide_type": "subslide"
    }
   },
   "source": [
    "![img](figures/registered_flights_per_airline.png)"
   ]
  },
  {
   "cell_type": "markdown",
   "metadata": {
    "collapsed": true,
    "slideshow": {
     "slide_type": "slide"
    }
   },
   "source": [
    "## What is the distribution of delays for the top airlines?\n",
    "Airlines with more that 450k registered flights were classified as top airlines. Visualizing by delay group, we can notice that although Southwest Airlines had the most registered flights, it turns out that it has the least on-time or early flights (44%) out of the airlines in the 'more than 450k' group. While Delta Air Lines Inc., which comparatively had the least registered number of flights, turns out to have the most on-time or early flights with a value of 61%."
   ]
  },
  {
   "cell_type": "markdown",
   "metadata": {
    "slideshow": {
     "slide_type": "subslide"
    }
   },
   "source": [
    "![img](figures/delay_group_for_top_airlines.png)"
   ]
  },
  {
   "cell_type": "markdown",
   "metadata": {
    "slideshow": {
     "slide_type": "subslide"
    }
   },
   "source": [
    "The delay groups were further grouped into 2 groups. Good delays represented the acceptable delays, covering on-time, early and small delay flights while bad delays covered the medium to Large delays and cancelled flights.\n",
    "\n",
    "It was seen that Delta Air Lines Inc. has the least bad delays overall while, of the top airlines, American Eagles Airlines Inc has the worst delays."
   ]
  },
  {
   "cell_type": "markdown",
   "metadata": {
    "slideshow": {
     "slide_type": "subslide"
    }
   },
   "source": [
    "![img](figures/top_airlines_pct_of_delays.png)"
   ]
  },
  {
   "cell_type": "markdown",
   "metadata": {
    "slideshow": {
     "slide_type": "notes"
    }
   },
   "source": [
    ">**Generate Slideshow**: Once you're ready to generate your slideshow, use the `jupyter nbconvert` command to generate the HTML slide show. . From the terminal or command line, use the following expression."
   ]
  },
  {
   "cell_type": "code",
   "execution_count": null,
   "metadata": {
    "slideshow": {
     "slide_type": "skip"
    }
   },
   "outputs": [],
   "source": [
    "!jupyter nbconvert slide_deck.ipynb --to slides --post serve --no-input --no-prompt"
   ]
  },
  {
   "cell_type": "markdown",
   "metadata": {
    "slideshow": {
     "slide_type": "notes"
    }
   },
   "source": [
    "> This should open a tab in your web browser where you can scroll through your presentation. Sub-slides can be accessed by pressing 'down' when viewing its parent slide. Make sure you remove all of the quote-formatted guide notes like this one before you finish your presentation! At last, you can stop the Kernel. "
   ]
  }
 ],
 "metadata": {
  "celltoolbar": "Slideshow",
  "kernelspec": {
   "display_name": "Python 3 (ipykernel)",
   "language": "python",
   "name": "python3"
  },
  "language_info": {
   "codemirror_mode": {
    "name": "ipython",
    "version": 3
   },
   "file_extension": ".py",
   "mimetype": "text/x-python",
   "name": "python",
   "nbconvert_exporter": "python",
   "pygments_lexer": "ipython3",
   "version": "3.9.13"
  }
 },
 "nbformat": 4,
 "nbformat_minor": 2
}
