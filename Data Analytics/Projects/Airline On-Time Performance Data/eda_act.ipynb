{
 "cells": [
  {
   "cell_type": "markdown",
   "metadata": {},
   "source": [
    "# Airline On-Time Performance Data Exploratory Analysis\n",
    "## Introduction\n",
    "Have you ever been stuck in an airport because your flight was delayed or cancelled and wondered if you could have predicted it if you'd had more data? This is your chance to find out. \n",
    "\n",
    "The data: The data consists of flight arrival and departure details for all commercial flights within the USA, from October 1987 to April 2008. This is a large dataset: there are nearly 120 million records in total, and takes up 1.6 gigabytes of space compressed and 12 gigab ytes when uncompressed. The data comes originally from RITA where it is described in detail.\n",
    "\n",
    "Variable descriptions: \n",
    "\n",
    "S/N | Name | Description \n",
    "-- | -- | --\n",
    "1 | `Year` | 1987-2008 (2007 for this analysis)\n",
    "2 | `Month` | 1-12 \n",
    "3 | `DayofMonth` | 1-31 \n",
    "4 | `DayOfWeek` | 1 (Monday) - 7 (Sunday) \n",
    "5 | `DepTime` | actual departure time (local, hhmm) \n",
    "6 | `CRSDepTime` | scheduled departure time (local, hhmm) \n",
    "7 | `ArrTime` | actual arrival time (local, hhmm) \n",
    "8 | `CRSArrTime` | scheduled arrival time (local, hhmm) \n",
    "9 | `UniqueCarrier` | unique carrier code \n",
    "10 | `FlightNum` | flight number \n",
    "11 | `TailNum` | plane tail number \n",
    "12 | `ActualElapsedTime` | actual elapsed time in minutes \n",
    "13 | `CRSElapsedTime` | scheduled elapsed time in minutes \n",
    "14 | `AirTime` | the time from the moment an aircraft leaves the surface until it comes into contact with the surface at the next point of landing;,in minutes \n",
    "15 | `ArrDelay` | arrival delay, in minutes \n",
    "16 | `DepDelay` | departure delay, in minutes \n",
    "17 | `Origin` | origin, IATA airport code \n",
    "18 | `Dest` | destination, IATA airport code \n",
    "19 | `Distance` | distance covered, in miles \n",
    "20 | `TaxiIn` | taxi in time, in minutes \n",
    "21 | `TaxiOut` | taxi out time in minutes \n",
    "22 | `Cancelled` | was the flight cancelled? \n",
    "23 | `CancellationCode` | reason for cancellation (A = carrier, B = weather, C = NAS, D = security) \n",
    "24 | `Diverted` | 1 = yes, 0 = no \n",
    "25 | `CarrierDelay` | delay within air carrier's control, in minutes \n",
    "26 | `WeatherDelay` | delay caused by extreme weather conditions, in minutes \n",
    "27 | `NASDelay` | delay within the NAS control, in minutes \n",
    "28 | `SecurityDelay` | delay due to security checks, breach or faulty security equipment, in minutes \n",
    "29 | `LateAircraftDelay` | delay due to the late arrival of the same aircraft at a previous airport, in minutes\n",
    "\n",
    "* The International Air Transport Association's (IATA) Location Identifier is a unique 3-letter code (also commonly known as IATA code) used in aviation and also in logistics to identify an airport.\n",
    "* A computer reservation system or a central reservation system (CRS) is a web-based software used by travel agencies and travel management companies to retrieve and conduct transactions related to air travel, hotels, car rental, or other activities. \n",
    "\n",
    "**Questions of Interest for the 2007 data**\n",
    "* When is the best time of day/day of week/time of year to fly to minimise delays?\n",
    "* Do older planes suffer more delays?\n",
    "* How does the number of people flying between different locations change over time?\n",
    "* How well does weather predict plane delays?\n",
    "* Can you detect cascading failures as delays in one airport create delays in others? Are there critical links in the system?"
   ]
  },
  {
   "cell_type": "markdown",
   "metadata": {},
   "source": [
    "Importing important libraries"
   ]
  },
  {
   "cell_type": "code",
   "execution_count": 1,
   "metadata": {},
   "outputs": [
    {
     "name": "stderr",
     "output_type": "stream",
     "text": [
      "c:\\Users\\Cyriaque Matthews\\anaconda3\\lib\\site-packages\\scipy\\__init__.py:146: UserWarning: A NumPy version >=1.16.5 and <1.23.0 is required for this version of SciPy (detected version 1.23.4\n",
      "  warnings.warn(f\"A NumPy version >={np_minversion} and <{np_maxversion}\"\n"
     ]
    }
   ],
   "source": [
    "# import modules and libraries\n",
    "import pandas as pd\n",
    "import numpy as np\n",
    "import seaborn as sns\n",
    "import matplotlib.pyplot as plt\n",
    "import calplot\n",
    "\n",
    "pd.set_option('display.max.columns', 500)\n",
    "plt.style.use('seaborn-dark-palette')\n",
    "%matplotlib inline"
   ]
  },
  {
   "cell_type": "code",
   "execution_count": 2,
   "metadata": {},
   "outputs": [],
   "source": [
    "airline_df = pd.read_csv('airline_clean.csv')\n",
    "airports = pd.read_csv('airports.csv')\n",
    "planes_data = pd.read_csv('plane_clean.csv')\n",
    "carriers = pd.read_csv('carriers.csv')"
   ]
  },
  {
   "cell_type": "code",
   "execution_count": 3,
   "metadata": {},
   "outputs": [],
   "source": [
    "airline_df['Date'] = pd.to_datetime(airline_df['Date'])"
   ]
  },
  {
   "cell_type": "code",
   "execution_count": 4,
   "metadata": {},
   "outputs": [],
   "source": [
    "cat_cols = ['UniqueCarrier', 'FlightNum', 'Origin', 'Dest']\n",
    "\n",
    "for col in cat_cols:\n",
    "      airline_df[col] = airline_df[col].astype('category')"
   ]
  },
  {
   "cell_type": "code",
   "execution_count": 5,
   "metadata": {},
   "outputs": [
    {
     "data": {
      "text/html": [
       "<div>\n",
       "<style scoped>\n",
       "    .dataframe tbody tr th:only-of-type {\n",
       "        vertical-align: middle;\n",
       "    }\n",
       "\n",
       "    .dataframe tbody tr th {\n",
       "        vertical-align: top;\n",
       "    }\n",
       "\n",
       "    .dataframe thead th {\n",
       "        text-align: right;\n",
       "    }\n",
       "</style>\n",
       "<table border=\"1\" class=\"dataframe\">\n",
       "  <thead>\n",
       "    <tr style=\"text-align: right;\">\n",
       "      <th></th>\n",
       "      <th>Date</th>\n",
       "      <th>DepTime</th>\n",
       "      <th>CRSDepTime</th>\n",
       "      <th>ArrTime</th>\n",
       "      <th>CRSArrTime</th>\n",
       "      <th>UniqueCarrier</th>\n",
       "      <th>FlightNum</th>\n",
       "      <th>ArrDelay</th>\n",
       "      <th>DepDelay</th>\n",
       "      <th>Origin</th>\n",
       "      <th>Dest</th>\n",
       "      <th>Distance</th>\n",
       "      <th>TaxiIn</th>\n",
       "      <th>TaxiOut</th>\n",
       "      <th>Cancelled</th>\n",
       "      <th>CancellationCode</th>\n",
       "      <th>Diverted</th>\n",
       "      <th>CarrierDelay</th>\n",
       "      <th>WeatherDelay</th>\n",
       "      <th>NASDelay</th>\n",
       "      <th>SecurityDelay</th>\n",
       "      <th>LateAircraftDelay</th>\n",
       "    </tr>\n",
       "  </thead>\n",
       "  <tbody>\n",
       "    <tr>\n",
       "      <th>0</th>\n",
       "      <td>2007-01-01</td>\n",
       "      <td>1232.0</td>\n",
       "      <td>1225</td>\n",
       "      <td>1341.0</td>\n",
       "      <td>1340</td>\n",
       "      <td>WN</td>\n",
       "      <td>2891</td>\n",
       "      <td>1.0</td>\n",
       "      <td>7.0</td>\n",
       "      <td>SMF</td>\n",
       "      <td>ONT</td>\n",
       "      <td>389</td>\n",
       "      <td>4</td>\n",
       "      <td>11</td>\n",
       "      <td>False</td>\n",
       "      <td>NaN</td>\n",
       "      <td>False</td>\n",
       "      <td>0</td>\n",
       "      <td>0</td>\n",
       "      <td>0</td>\n",
       "      <td>0</td>\n",
       "      <td>0</td>\n",
       "    </tr>\n",
       "    <tr>\n",
       "      <th>1</th>\n",
       "      <td>2007-01-01</td>\n",
       "      <td>1918.0</td>\n",
       "      <td>1905</td>\n",
       "      <td>2043.0</td>\n",
       "      <td>2035</td>\n",
       "      <td>WN</td>\n",
       "      <td>462</td>\n",
       "      <td>8.0</td>\n",
       "      <td>13.0</td>\n",
       "      <td>SMF</td>\n",
       "      <td>PDX</td>\n",
       "      <td>479</td>\n",
       "      <td>5</td>\n",
       "      <td>6</td>\n",
       "      <td>False</td>\n",
       "      <td>NaN</td>\n",
       "      <td>False</td>\n",
       "      <td>0</td>\n",
       "      <td>0</td>\n",
       "      <td>0</td>\n",
       "      <td>0</td>\n",
       "      <td>0</td>\n",
       "    </tr>\n",
       "    <tr>\n",
       "      <th>2</th>\n",
       "      <td>2007-01-01</td>\n",
       "      <td>2206.0</td>\n",
       "      <td>2130</td>\n",
       "      <td>2334.0</td>\n",
       "      <td>2300</td>\n",
       "      <td>WN</td>\n",
       "      <td>1229</td>\n",
       "      <td>34.0</td>\n",
       "      <td>36.0</td>\n",
       "      <td>SMF</td>\n",
       "      <td>PDX</td>\n",
       "      <td>479</td>\n",
       "      <td>6</td>\n",
       "      <td>9</td>\n",
       "      <td>False</td>\n",
       "      <td>NaN</td>\n",
       "      <td>False</td>\n",
       "      <td>3</td>\n",
       "      <td>0</td>\n",
       "      <td>0</td>\n",
       "      <td>0</td>\n",
       "      <td>31</td>\n",
       "    </tr>\n",
       "    <tr>\n",
       "      <th>3</th>\n",
       "      <td>2007-01-01</td>\n",
       "      <td>1230.0</td>\n",
       "      <td>1200</td>\n",
       "      <td>1356.0</td>\n",
       "      <td>1330</td>\n",
       "      <td>WN</td>\n",
       "      <td>1355</td>\n",
       "      <td>26.0</td>\n",
       "      <td>30.0</td>\n",
       "      <td>SMF</td>\n",
       "      <td>PDX</td>\n",
       "      <td>479</td>\n",
       "      <td>3</td>\n",
       "      <td>8</td>\n",
       "      <td>False</td>\n",
       "      <td>NaN</td>\n",
       "      <td>False</td>\n",
       "      <td>23</td>\n",
       "      <td>0</td>\n",
       "      <td>0</td>\n",
       "      <td>0</td>\n",
       "      <td>3</td>\n",
       "    </tr>\n",
       "    <tr>\n",
       "      <th>4</th>\n",
       "      <td>2007-01-01</td>\n",
       "      <td>831.0</td>\n",
       "      <td>830</td>\n",
       "      <td>957.0</td>\n",
       "      <td>1000</td>\n",
       "      <td>WN</td>\n",
       "      <td>2278</td>\n",
       "      <td>-3.0</td>\n",
       "      <td>1.0</td>\n",
       "      <td>SMF</td>\n",
       "      <td>PDX</td>\n",
       "      <td>479</td>\n",
       "      <td>3</td>\n",
       "      <td>9</td>\n",
       "      <td>False</td>\n",
       "      <td>NaN</td>\n",
       "      <td>False</td>\n",
       "      <td>0</td>\n",
       "      <td>0</td>\n",
       "      <td>0</td>\n",
       "      <td>0</td>\n",
       "      <td>0</td>\n",
       "    </tr>\n",
       "  </tbody>\n",
       "</table>\n",
       "</div>"
      ],
      "text/plain": [
       "        Date  DepTime  CRSDepTime  ArrTime  CRSArrTime UniqueCarrier  \\\n",
       "0 2007-01-01   1232.0        1225   1341.0        1340            WN   \n",
       "1 2007-01-01   1918.0        1905   2043.0        2035            WN   \n",
       "2 2007-01-01   2206.0        2130   2334.0        2300            WN   \n",
       "3 2007-01-01   1230.0        1200   1356.0        1330            WN   \n",
       "4 2007-01-01    831.0         830    957.0        1000            WN   \n",
       "\n",
       "  FlightNum  ArrDelay  DepDelay Origin Dest  Distance  TaxiIn  TaxiOut  \\\n",
       "0      2891       1.0       7.0    SMF  ONT       389       4       11   \n",
       "1       462       8.0      13.0    SMF  PDX       479       5        6   \n",
       "2      1229      34.0      36.0    SMF  PDX       479       6        9   \n",
       "3      1355      26.0      30.0    SMF  PDX       479       3        8   \n",
       "4      2278      -3.0       1.0    SMF  PDX       479       3        9   \n",
       "\n",
       "   Cancelled CancellationCode  Diverted  CarrierDelay  WeatherDelay  NASDelay  \\\n",
       "0      False              NaN     False             0             0         0   \n",
       "1      False              NaN     False             0             0         0   \n",
       "2      False              NaN     False             3             0         0   \n",
       "3      False              NaN     False            23             0         0   \n",
       "4      False              NaN     False             0             0         0   \n",
       "\n",
       "   SecurityDelay  LateAircraftDelay  \n",
       "0              0                  0  \n",
       "1              0                  0  \n",
       "2              0                 31  \n",
       "3              0                  3  \n",
       "4              0                  0  "
      ]
     },
     "execution_count": 5,
     "metadata": {},
     "output_type": "execute_result"
    }
   ],
   "source": [
    "airline_df.head()"
   ]
  },
  {
   "cell_type": "code",
   "execution_count": 6,
   "metadata": {},
   "outputs": [
    {
     "name": "stdout",
     "output_type": "stream",
     "text": [
      "<class 'pandas.core.frame.DataFrame'>\n",
      "RangeIndex: 7453188 entries, 0 to 7453187\n",
      "Data columns (total 22 columns):\n",
      " #   Column             Dtype         \n",
      "---  ------             -----         \n",
      " 0   Date               datetime64[ns]\n",
      " 1   DepTime            float64       \n",
      " 2   CRSDepTime         int64         \n",
      " 3   ArrTime            float64       \n",
      " 4   CRSArrTime         int64         \n",
      " 5   UniqueCarrier      category      \n",
      " 6   FlightNum          category      \n",
      " 7   ArrDelay           float64       \n",
      " 8   DepDelay           float64       \n",
      " 9   Origin             category      \n",
      " 10  Dest               category      \n",
      " 11  Distance           int64         \n",
      " 12  TaxiIn             int64         \n",
      " 13  TaxiOut            int64         \n",
      " 14  Cancelled          bool          \n",
      " 15  CancellationCode   object        \n",
      " 16  Diverted           bool          \n",
      " 17  CarrierDelay       int64         \n",
      " 18  WeatherDelay       int64         \n",
      " 19  NASDelay           int64         \n",
      " 20  SecurityDelay      int64         \n",
      " 21  LateAircraftDelay  int64         \n",
      "dtypes: bool(2), category(4), datetime64[ns](1), float64(4), int64(10), object(1)\n",
      "memory usage: 974.1+ MB\n"
     ]
    }
   ],
   "source": [
    "airline_df.info()"
   ]
  },
  {
   "cell_type": "markdown",
   "metadata": {},
   "source": [
    "## Data Exploration"
   ]
  },
  {
   "cell_type": "markdown",
   "metadata": {},
   "source": [
    "### Understanding the `DepDelay` variable"
   ]
  },
  {
   "cell_type": "code",
   "execution_count": 7,
   "metadata": {},
   "outputs": [],
   "source": [
    "base_color = sns.color_palette()[5]"
   ]
  },
  {
   "cell_type": "code",
   "execution_count": 8,
   "metadata": {},
   "outputs": [
    {
     "data": {
      "text/plain": [
       "-305.0"
      ]
     },
     "execution_count": 8,
     "metadata": {},
     "output_type": "execute_result"
    }
   ],
   "source": [
    "airline_df.DepDelay.min()"
   ]
  },
  {
   "cell_type": "code",
   "execution_count": 9,
   "metadata": {},
   "outputs": [
    {
     "data": {
      "text/plain": [
       "2601.0"
      ]
     },
     "execution_count": 9,
     "metadata": {},
     "output_type": "execute_result"
    }
   ],
   "source": [
    "airline_df.DepDelay.max()"
   ]
  },
  {
   "cell_type": "code",
   "execution_count": 10,
   "metadata": {},
   "outputs": [
    {
     "data": {
      "text/html": [
       "<div>\n",
       "<style scoped>\n",
       "    .dataframe tbody tr th:only-of-type {\n",
       "        vertical-align: middle;\n",
       "    }\n",
       "\n",
       "    .dataframe tbody tr th {\n",
       "        vertical-align: top;\n",
       "    }\n",
       "\n",
       "    .dataframe thead th {\n",
       "        text-align: right;\n",
       "    }\n",
       "</style>\n",
       "<table border=\"1\" class=\"dataframe\">\n",
       "  <thead>\n",
       "    <tr style=\"text-align: right;\">\n",
       "      <th></th>\n",
       "      <th>Date</th>\n",
       "      <th>DepTime</th>\n",
       "      <th>CRSDepTime</th>\n",
       "      <th>ArrTime</th>\n",
       "      <th>CRSArrTime</th>\n",
       "      <th>UniqueCarrier</th>\n",
       "      <th>FlightNum</th>\n",
       "      <th>ArrDelay</th>\n",
       "      <th>DepDelay</th>\n",
       "      <th>Origin</th>\n",
       "      <th>Dest</th>\n",
       "      <th>Distance</th>\n",
       "      <th>TaxiIn</th>\n",
       "      <th>TaxiOut</th>\n",
       "      <th>Cancelled</th>\n",
       "      <th>CancellationCode</th>\n",
       "      <th>Diverted</th>\n",
       "      <th>CarrierDelay</th>\n",
       "      <th>WeatherDelay</th>\n",
       "      <th>NASDelay</th>\n",
       "      <th>SecurityDelay</th>\n",
       "      <th>LateAircraftDelay</th>\n",
       "    </tr>\n",
       "  </thead>\n",
       "  <tbody>\n",
       "    <tr>\n",
       "      <th>13</th>\n",
       "      <td>2007-01-01</td>\n",
       "      <td>935.0</td>\n",
       "      <td>940</td>\n",
       "      <td>1048.0</td>\n",
       "      <td>1105</td>\n",
       "      <td>WN</td>\n",
       "      <td>747</td>\n",
       "      <td>-17.0</td>\n",
       "      <td>-5.0</td>\n",
       "      <td>SMF</td>\n",
       "      <td>SAN</td>\n",
       "      <td>480</td>\n",
       "      <td>2</td>\n",
       "      <td>8</td>\n",
       "      <td>False</td>\n",
       "      <td>NaN</td>\n",
       "      <td>False</td>\n",
       "      <td>0</td>\n",
       "      <td>0</td>\n",
       "      <td>0</td>\n",
       "      <td>0</td>\n",
       "      <td>0</td>\n",
       "    </tr>\n",
       "    <tr>\n",
       "      <th>24</th>\n",
       "      <td>2007-01-01</td>\n",
       "      <td>715.0</td>\n",
       "      <td>720</td>\n",
       "      <td>836.0</td>\n",
       "      <td>845</td>\n",
       "      <td>WN</td>\n",
       "      <td>2755</td>\n",
       "      <td>-9.0</td>\n",
       "      <td>-5.0</td>\n",
       "      <td>SMF</td>\n",
       "      <td>SAN</td>\n",
       "      <td>480</td>\n",
       "      <td>2</td>\n",
       "      <td>14</td>\n",
       "      <td>False</td>\n",
       "      <td>NaN</td>\n",
       "      <td>False</td>\n",
       "      <td>0</td>\n",
       "      <td>0</td>\n",
       "      <td>0</td>\n",
       "      <td>0</td>\n",
       "      <td>0</td>\n",
       "    </tr>\n",
       "    <tr>\n",
       "      <th>32</th>\n",
       "      <td>2007-01-01</td>\n",
       "      <td>731.0</td>\n",
       "      <td>735</td>\n",
       "      <td>844.0</td>\n",
       "      <td>900</td>\n",
       "      <td>WN</td>\n",
       "      <td>1488</td>\n",
       "      <td>-16.0</td>\n",
       "      <td>-4.0</td>\n",
       "      <td>SMF</td>\n",
       "      <td>SNA</td>\n",
       "      <td>404</td>\n",
       "      <td>5</td>\n",
       "      <td>8</td>\n",
       "      <td>False</td>\n",
       "      <td>NaN</td>\n",
       "      <td>False</td>\n",
       "      <td>0</td>\n",
       "      <td>0</td>\n",
       "      <td>0</td>\n",
       "      <td>0</td>\n",
       "      <td>0</td>\n",
       "    </tr>\n",
       "    <tr>\n",
       "      <th>35</th>\n",
       "      <td>2007-01-01</td>\n",
       "      <td>946.0</td>\n",
       "      <td>950</td>\n",
       "      <td>1100.0</td>\n",
       "      <td>1115</td>\n",
       "      <td>WN</td>\n",
       "      <td>2806</td>\n",
       "      <td>-15.0</td>\n",
       "      <td>-4.0</td>\n",
       "      <td>SMF</td>\n",
       "      <td>SNA</td>\n",
       "      <td>404</td>\n",
       "      <td>3</td>\n",
       "      <td>11</td>\n",
       "      <td>False</td>\n",
       "      <td>NaN</td>\n",
       "      <td>False</td>\n",
       "      <td>0</td>\n",
       "      <td>0</td>\n",
       "      <td>0</td>\n",
       "      <td>0</td>\n",
       "      <td>0</td>\n",
       "    </tr>\n",
       "    <tr>\n",
       "      <th>42</th>\n",
       "      <td>2007-01-01</td>\n",
       "      <td>1714.0</td>\n",
       "      <td>1715</td>\n",
       "      <td>1835.0</td>\n",
       "      <td>1835</td>\n",
       "      <td>WN</td>\n",
       "      <td>1737</td>\n",
       "      <td>0.0</td>\n",
       "      <td>-1.0</td>\n",
       "      <td>SNA</td>\n",
       "      <td>OAK</td>\n",
       "      <td>371</td>\n",
       "      <td>13</td>\n",
       "      <td>5</td>\n",
       "      <td>False</td>\n",
       "      <td>NaN</td>\n",
       "      <td>False</td>\n",
       "      <td>0</td>\n",
       "      <td>0</td>\n",
       "      <td>0</td>\n",
       "      <td>0</td>\n",
       "      <td>0</td>\n",
       "    </tr>\n",
       "    <tr>\n",
       "      <th>53</th>\n",
       "      <td>2007-01-01</td>\n",
       "      <td>921.0</td>\n",
       "      <td>925</td>\n",
       "      <td>1119.0</td>\n",
       "      <td>1140</td>\n",
       "      <td>WN</td>\n",
       "      <td>1488</td>\n",
       "      <td>-21.0</td>\n",
       "      <td>-4.0</td>\n",
       "      <td>SNA</td>\n",
       "      <td>PHX</td>\n",
       "      <td>338</td>\n",
       "      <td>4</td>\n",
       "      <td>5</td>\n",
       "      <td>False</td>\n",
       "      <td>NaN</td>\n",
       "      <td>False</td>\n",
       "      <td>0</td>\n",
       "      <td>0</td>\n",
       "      <td>0</td>\n",
       "      <td>0</td>\n",
       "      <td>0</td>\n",
       "    </tr>\n",
       "    <tr>\n",
       "      <th>59</th>\n",
       "      <td>2007-01-01</td>\n",
       "      <td>829.0</td>\n",
       "      <td>835</td>\n",
       "      <td>940.0</td>\n",
       "      <td>950</td>\n",
       "      <td>WN</td>\n",
       "      <td>528</td>\n",
       "      <td>-10.0</td>\n",
       "      <td>-6.0</td>\n",
       "      <td>SNA</td>\n",
       "      <td>SJC</td>\n",
       "      <td>342</td>\n",
       "      <td>3</td>\n",
       "      <td>6</td>\n",
       "      <td>False</td>\n",
       "      <td>NaN</td>\n",
       "      <td>False</td>\n",
       "      <td>0</td>\n",
       "      <td>0</td>\n",
       "      <td>0</td>\n",
       "      <td>0</td>\n",
       "      <td>0</td>\n",
       "    </tr>\n",
       "    <tr>\n",
       "      <th>64</th>\n",
       "      <td>2007-01-01</td>\n",
       "      <td>1638.0</td>\n",
       "      <td>1640</td>\n",
       "      <td>1749.0</td>\n",
       "      <td>1755</td>\n",
       "      <td>WN</td>\n",
       "      <td>2299</td>\n",
       "      <td>-6.0</td>\n",
       "      <td>-2.0</td>\n",
       "      <td>SNA</td>\n",
       "      <td>SJC</td>\n",
       "      <td>342</td>\n",
       "      <td>4</td>\n",
       "      <td>6</td>\n",
       "      <td>False</td>\n",
       "      <td>NaN</td>\n",
       "      <td>False</td>\n",
       "      <td>0</td>\n",
       "      <td>0</td>\n",
       "      <td>0</td>\n",
       "      <td>0</td>\n",
       "      <td>0</td>\n",
       "    </tr>\n",
       "    <tr>\n",
       "      <th>65</th>\n",
       "      <td>2007-01-01</td>\n",
       "      <td>938.0</td>\n",
       "      <td>940</td>\n",
       "      <td>1105.0</td>\n",
       "      <td>1105</td>\n",
       "      <td>WN</td>\n",
       "      <td>654</td>\n",
       "      <td>0.0</td>\n",
       "      <td>-2.0</td>\n",
       "      <td>SNA</td>\n",
       "      <td>SMF</td>\n",
       "      <td>404</td>\n",
       "      <td>4</td>\n",
       "      <td>8</td>\n",
       "      <td>False</td>\n",
       "      <td>NaN</td>\n",
       "      <td>False</td>\n",
       "      <td>0</td>\n",
       "      <td>0</td>\n",
       "      <td>0</td>\n",
       "      <td>0</td>\n",
       "      <td>0</td>\n",
       "    </tr>\n",
       "    <tr>\n",
       "      <th>66</th>\n",
       "      <td>2007-01-01</td>\n",
       "      <td>1439.0</td>\n",
       "      <td>1440</td>\n",
       "      <td>1607.0</td>\n",
       "      <td>1605</td>\n",
       "      <td>WN</td>\n",
       "      <td>728</td>\n",
       "      <td>2.0</td>\n",
       "      <td>-1.0</td>\n",
       "      <td>SNA</td>\n",
       "      <td>SMF</td>\n",
       "      <td>404</td>\n",
       "      <td>3</td>\n",
       "      <td>15</td>\n",
       "      <td>False</td>\n",
       "      <td>NaN</td>\n",
       "      <td>False</td>\n",
       "      <td>0</td>\n",
       "      <td>0</td>\n",
       "      <td>0</td>\n",
       "      <td>0</td>\n",
       "      <td>0</td>\n",
       "    </tr>\n",
       "    <tr>\n",
       "      <th>67</th>\n",
       "      <td>2007-01-01</td>\n",
       "      <td>1739.0</td>\n",
       "      <td>1740</td>\n",
       "      <td>1906.0</td>\n",
       "      <td>1905</td>\n",
       "      <td>WN</td>\n",
       "      <td>812</td>\n",
       "      <td>1.0</td>\n",
       "      <td>-1.0</td>\n",
       "      <td>SNA</td>\n",
       "      <td>SMF</td>\n",
       "      <td>404</td>\n",
       "      <td>7</td>\n",
       "      <td>10</td>\n",
       "      <td>False</td>\n",
       "      <td>NaN</td>\n",
       "      <td>False</td>\n",
       "      <td>0</td>\n",
       "      <td>0</td>\n",
       "      <td>0</td>\n",
       "      <td>0</td>\n",
       "      <td>0</td>\n",
       "    </tr>\n",
       "    <tr>\n",
       "      <th>68</th>\n",
       "      <td>2007-01-01</td>\n",
       "      <td>1329.0</td>\n",
       "      <td>1330</td>\n",
       "      <td>1457.0</td>\n",
       "      <td>1455</td>\n",
       "      <td>WN</td>\n",
       "      <td>1803</td>\n",
       "      <td>2.0</td>\n",
       "      <td>-1.0</td>\n",
       "      <td>SNA</td>\n",
       "      <td>SMF</td>\n",
       "      <td>404</td>\n",
       "      <td>2</td>\n",
       "      <td>10</td>\n",
       "      <td>False</td>\n",
       "      <td>NaN</td>\n",
       "      <td>False</td>\n",
       "      <td>0</td>\n",
       "      <td>0</td>\n",
       "      <td>0</td>\n",
       "      <td>0</td>\n",
       "      <td>0</td>\n",
       "    </tr>\n",
       "    <tr>\n",
       "      <th>69</th>\n",
       "      <td>2007-01-01</td>\n",
       "      <td>1052.0</td>\n",
       "      <td>1055</td>\n",
       "      <td>1220.0</td>\n",
       "      <td>1220</td>\n",
       "      <td>WN</td>\n",
       "      <td>1977</td>\n",
       "      <td>0.0</td>\n",
       "      <td>-3.0</td>\n",
       "      <td>SNA</td>\n",
       "      <td>SMF</td>\n",
       "      <td>404</td>\n",
       "      <td>3</td>\n",
       "      <td>13</td>\n",
       "      <td>False</td>\n",
       "      <td>NaN</td>\n",
       "      <td>False</td>\n",
       "      <td>0</td>\n",
       "      <td>0</td>\n",
       "      <td>0</td>\n",
       "      <td>0</td>\n",
       "      <td>0</td>\n",
       "    </tr>\n",
       "    <tr>\n",
       "      <th>73</th>\n",
       "      <td>2007-01-01</td>\n",
       "      <td>1830.0</td>\n",
       "      <td>1835</td>\n",
       "      <td>1937.0</td>\n",
       "      <td>1950</td>\n",
       "      <td>WN</td>\n",
       "      <td>794</td>\n",
       "      <td>-13.0</td>\n",
       "      <td>-5.0</td>\n",
       "      <td>STL</td>\n",
       "      <td>BHM</td>\n",
       "      <td>410</td>\n",
       "      <td>3</td>\n",
       "      <td>6</td>\n",
       "      <td>False</td>\n",
       "      <td>NaN</td>\n",
       "      <td>False</td>\n",
       "      <td>0</td>\n",
       "      <td>0</td>\n",
       "      <td>0</td>\n",
       "      <td>0</td>\n",
       "      <td>0</td>\n",
       "    </tr>\n",
       "    <tr>\n",
       "      <th>78</th>\n",
       "      <td>2007-01-01</td>\n",
       "      <td>959.0</td>\n",
       "      <td>1000</td>\n",
       "      <td>1222.0</td>\n",
       "      <td>1225</td>\n",
       "      <td>WN</td>\n",
       "      <td>1477</td>\n",
       "      <td>-3.0</td>\n",
       "      <td>-1.0</td>\n",
       "      <td>STL</td>\n",
       "      <td>CLE</td>\n",
       "      <td>487</td>\n",
       "      <td>5</td>\n",
       "      <td>8</td>\n",
       "      <td>False</td>\n",
       "      <td>NaN</td>\n",
       "      <td>False</td>\n",
       "      <td>0</td>\n",
       "      <td>0</td>\n",
       "      <td>0</td>\n",
       "      <td>0</td>\n",
       "      <td>0</td>\n",
       "    </tr>\n",
       "  </tbody>\n",
       "</table>\n",
       "</div>"
      ],
      "text/plain": [
       "         Date  DepTime  CRSDepTime  ArrTime  CRSArrTime UniqueCarrier  \\\n",
       "13 2007-01-01    935.0         940   1048.0        1105            WN   \n",
       "24 2007-01-01    715.0         720    836.0         845            WN   \n",
       "32 2007-01-01    731.0         735    844.0         900            WN   \n",
       "35 2007-01-01    946.0         950   1100.0        1115            WN   \n",
       "42 2007-01-01   1714.0        1715   1835.0        1835            WN   \n",
       "53 2007-01-01    921.0         925   1119.0        1140            WN   \n",
       "59 2007-01-01    829.0         835    940.0         950            WN   \n",
       "64 2007-01-01   1638.0        1640   1749.0        1755            WN   \n",
       "65 2007-01-01    938.0         940   1105.0        1105            WN   \n",
       "66 2007-01-01   1439.0        1440   1607.0        1605            WN   \n",
       "67 2007-01-01   1739.0        1740   1906.0        1905            WN   \n",
       "68 2007-01-01   1329.0        1330   1457.0        1455            WN   \n",
       "69 2007-01-01   1052.0        1055   1220.0        1220            WN   \n",
       "73 2007-01-01   1830.0        1835   1937.0        1950            WN   \n",
       "78 2007-01-01    959.0        1000   1222.0        1225            WN   \n",
       "\n",
       "   FlightNum  ArrDelay  DepDelay Origin Dest  Distance  TaxiIn  TaxiOut  \\\n",
       "13       747     -17.0      -5.0    SMF  SAN       480       2        8   \n",
       "24      2755      -9.0      -5.0    SMF  SAN       480       2       14   \n",
       "32      1488     -16.0      -4.0    SMF  SNA       404       5        8   \n",
       "35      2806     -15.0      -4.0    SMF  SNA       404       3       11   \n",
       "42      1737       0.0      -1.0    SNA  OAK       371      13        5   \n",
       "53      1488     -21.0      -4.0    SNA  PHX       338       4        5   \n",
       "59       528     -10.0      -6.0    SNA  SJC       342       3        6   \n",
       "64      2299      -6.0      -2.0    SNA  SJC       342       4        6   \n",
       "65       654       0.0      -2.0    SNA  SMF       404       4        8   \n",
       "66       728       2.0      -1.0    SNA  SMF       404       3       15   \n",
       "67       812       1.0      -1.0    SNA  SMF       404       7       10   \n",
       "68      1803       2.0      -1.0    SNA  SMF       404       2       10   \n",
       "69      1977       0.0      -3.0    SNA  SMF       404       3       13   \n",
       "73       794     -13.0      -5.0    STL  BHM       410       3        6   \n",
       "78      1477      -3.0      -1.0    STL  CLE       487       5        8   \n",
       "\n",
       "    Cancelled CancellationCode  Diverted  CarrierDelay  WeatherDelay  \\\n",
       "13      False              NaN     False             0             0   \n",
       "24      False              NaN     False             0             0   \n",
       "32      False              NaN     False             0             0   \n",
       "35      False              NaN     False             0             0   \n",
       "42      False              NaN     False             0             0   \n",
       "53      False              NaN     False             0             0   \n",
       "59      False              NaN     False             0             0   \n",
       "64      False              NaN     False             0             0   \n",
       "65      False              NaN     False             0             0   \n",
       "66      False              NaN     False             0             0   \n",
       "67      False              NaN     False             0             0   \n",
       "68      False              NaN     False             0             0   \n",
       "69      False              NaN     False             0             0   \n",
       "73      False              NaN     False             0             0   \n",
       "78      False              NaN     False             0             0   \n",
       "\n",
       "    NASDelay  SecurityDelay  LateAircraftDelay  \n",
       "13         0              0                  0  \n",
       "24         0              0                  0  \n",
       "32         0              0                  0  \n",
       "35         0              0                  0  \n",
       "42         0              0                  0  \n",
       "53         0              0                  0  \n",
       "59         0              0                  0  \n",
       "64         0              0                  0  \n",
       "65         0              0                  0  \n",
       "66         0              0                  0  \n",
       "67         0              0                  0  \n",
       "68         0              0                  0  \n",
       "69         0              0                  0  \n",
       "73         0              0                  0  \n",
       "78         0              0                  0  "
      ]
     },
     "execution_count": 10,
     "metadata": {},
     "output_type": "execute_result"
    }
   ],
   "source": [
    "airline_df.query('DepDelay < 0').head(15)"
   ]
  },
  {
   "cell_type": "code",
   "execution_count": 11,
   "metadata": {},
   "outputs": [
    {
     "data": {
      "image/png": "[encoded data removed]",
      "text/plain": [
       "<Figure size 432x288 with 1 Axes>"
      ]
     },
     "metadata": {
      "needs_background": "light"
     },
     "output_type": "display_data"
    }
   ],
   "source": [
    "plt.hist(airline_df.DepDelay, bins=50, color=base_color)\n",
    "plt.title('Distribution of Flight Delays');"
   ]
  },
  {
   "cell_type": "markdown",
   "metadata": {},
   "source": [
    "The distribution shows a high peak around 0 because most flights aren't delayed. Let's dig a bit deeper."
   ]
  },
  {
   "cell_type": "code",
   "execution_count": 12,
   "metadata": {},
   "outputs": [
    {
     "data": {
      "text/plain": [
       " 0.0    626236\n",
       "-5.0    520603\n",
       "-3.0    511311\n",
       "-2.0    508707\n",
       "-4.0    477747\n",
       "-1.0    474151\n",
       "-6.0    285009\n",
       " 1.0    250564\n",
       "-7.0    214359\n",
       " 2.0    188005\n",
       "Name: DepDelay, dtype: int64"
      ]
     },
     "execution_count": 12,
     "metadata": {},
     "output_type": "execute_result"
    }
   ],
   "source": [
    "airline_df.DepDelay.value_counts().head(10)"
   ]
  },
  {
   "cell_type": "code",
   "execution_count": 13,
   "metadata": {},
   "outputs": [
    {
     "data": {
      "image/png": "[encoded data removed]",
      "text/plain": [
       "<Figure size 432x288 with 1 Axes>"
      ]
     },
     "metadata": {
      "needs_background": "light"
     },
     "output_type": "display_data"
    }
   ],
   "source": [
    "plotdata = airline_df.query('DepDelay < 30 & DepDelay > -25')['DepDelay']\n",
    "\n",
    "# plot\n",
    "plt.hist(plotdata, bins=20, color=base_color)\n",
    "plt.title('Distribution of Delays Between -25 and 30min');"
   ]
  },
  {
   "cell_type": "markdown",
   "metadata": {},
   "source": [
    "Plot shows a normal distribution with majority of the flights being early. Let's ignore early and on-time flights and look at the delays"
   ]
  },
  {
   "cell_type": "code",
   "execution_count": 14,
   "metadata": {},
   "outputs": [
    {
     "data": {
      "image/png": "[encoded data removed]",
      "text/plain": [
       "<Figure size 432x288 with 1 Axes>"
      ]
     },
     "metadata": {
      "needs_background": "light"
     },
     "output_type": "display_data"
    }
   ],
   "source": [
    "plotdata = airline_df.query('DepDelay > 1 & DepDelay < 61')['DepDelay']\n",
    "\n",
    "# plot\n",
    "plt.hist(plotdata, bins=30, color=base_color)\n",
    "plt.title('Distribution of Flight Delays < 31min');"
   ]
  },
  {
   "cell_type": "markdown",
   "metadata": {},
   "source": [
    "From the plot, it's obvious that the frequency of delays with increasing amount."
   ]
  },
  {
   "cell_type": "markdown",
   "metadata": {},
   "source": [
    "### Grouping of Delays\n",
    "Delays are divided into three categories, namely \"On time or small delay\" (up to 15 minutes delay), \"Medium delay\" (15 - 45 minutes delay) and \"Large delay\" (45 minutes delay).\n",
    "\n",
    "[source](https://en.wikipedia.org/wiki/Flight_cancellation_and_delay#Performances)"
   ]
  },
  {
   "cell_type": "code",
   "execution_count": 15,
   "metadata": {},
   "outputs": [],
   "source": [
    "# creating new column to hold group\n",
    "airline_df['DelayGroup'] = None\n",
    "\n",
    "# filling column with values based on delay duration\n",
    "airline_df.loc[airline_df['DepDelay'] <= 0, 'DelayGroup'] = \"OnTime_Early\"\n",
    "airline_df.loc[(airline_df['DepDelay'] > 0) & (airline_df['DepDelay'] <= 15), 'DelayGroup'] = \"Small_Delay\"\n",
    "airline_df.loc[(airline_df['DepDelay'] > 15) & (airline_df['DepDelay'] <= 45), 'DelayGroup'] = \"Medium_Delay\"\n",
    "airline_df.loc[airline_df['DepDelay'] > 45, 'DelayGroup'] = \"Large_Delay\"\n",
    "airline_df.loc[airline_df['Cancelled'], 'DelayGroup'] = \"Cancelled\""
   ]
  },
  {
   "cell_type": "code",
   "execution_count": 16,
   "metadata": {},
   "outputs": [
    {
     "data": {
      "text/plain": [
       "0"
      ]
     },
     "execution_count": 16,
     "metadata": {},
     "output_type": "execute_result"
    }
   ],
   "source": [
    "airline_df.DelayGroup.isna().sum()"
   ]
  },
  {
   "cell_type": "code",
   "execution_count": 17,
   "metadata": {},
   "outputs": [
    {
     "data": {
      "image/png": "[encoded data removed]",
      "text/plain": [
       "<Figure size 432x288 with 1 Axes>"
      ]
     },
     "metadata": {
      "needs_background": "light"
     },
     "output_type": "display_data"
    }
   ],
   "source": [
    "# plot countplot\n",
    "sns.countplot(y=airline_df.DelayGroup, color=base_color,\n",
    "              order=airline_df.DelayGroup.value_counts().index)\n",
    "plt.title('Flight Results')\n",
    "plt.xlabel('');"
   ]
  },
  {
   "cell_type": "markdown",
   "metadata": {},
   "source": [
    "### What is the Amount of Flights Per Month?"
   ]
  },
  {
   "cell_type": "code",
   "execution_count": 18,
   "metadata": {},
   "outputs": [],
   "source": [
    "# get the first 3 letters of the month name for each date\n",
    "airline_df['Month'] = airline_df['Date'].dt.month_name().str.slice(stop=3)\n",
    "\n",
    "month = airline_df.Month.unique()\n",
    "monthClass = pd.api.types.CategoricalDtype(categories=month, ordered=True)\n",
    "airline_df['Month'] = airline_df['Month'].astype(monthClass)"
   ]
  },
  {
   "cell_type": "code",
   "execution_count": 19,
   "metadata": {},
   "outputs": [
    {
     "data": {
      "text/plain": [
       "Month\n",
       "Jan    621557\n",
       "Feb    565604\n",
       "Mar    639209\n",
       "Apr    614648\n",
       "May    631609\n",
       "Jun    629280\n",
       "Jul    648544\n",
       "Aug    653276\n",
       "Sep    600186\n",
       "Oct    629990\n",
       "Nov    605148\n",
       "Dec    614137\n",
       "Name: Date, dtype: int64"
      ]
     },
     "execution_count": 19,
     "metadata": {},
     "output_type": "execute_result"
    }
   ],
   "source": [
    "plotdata = airline_df.groupby('Month')[\"Date\"].count()\n",
    "plotdata"
   ]
  },
  {
   "cell_type": "code",
   "execution_count": 20,
   "metadata": {},
   "outputs": [
    {
     "data": {
      "text/plain": [
       "625418.5"
      ]
     },
     "execution_count": 20,
     "metadata": {},
     "output_type": "execute_result"
    }
   ],
   "source": [
    "plotdata.median()"
   ]
  },
  {
   "cell_type": "code",
   "execution_count": 21,
   "metadata": {},
   "outputs": [
    {
     "data": {
      "image/png": "[encoded data removed]",
      "text/plain": [
       "<Figure size 504x360 with 1 Axes>"
      ]
     },
     "metadata": {
      "needs_background": "light"
     },
     "output_type": "display_data"
    }
   ],
   "source": [
    "# bar plot\n",
    "plt.figure(figsize=[7,5])\n",
    "sns.barplot(y=plotdata.index, x=plotdata.values,\n",
    "            color=base_color)\n",
    "plt.axvline(x=plotdata.median(), color='black')\n",
    "plt.title('Number of Flights Booked per Month in 2007');"
   ]
  },
  {
   "cell_type": "markdown",
   "metadata": {},
   "source": [
    "Although the median number of bookings seems to be above 600,000 in 2007, February seems to have the least amount of flight bookings while July and August have the most."
   ]
  },
  {
   "cell_type": "markdown",
   "metadata": {},
   "source": [
    "### What is the % of Flight Results by Month for 2007"
   ]
  },
  {
   "cell_type": "code",
   "execution_count": 22,
   "metadata": {},
   "outputs": [],
   "source": [
    "# normalize=True, gets the proportion of each value by the row.\n",
    "airline_df_agg = airline_df.groupby('Month')['DelayGroup'].value_counts(normalize=True).unstack()\n",
    "\n",
    "# sorting columns\n",
    "airline_df_agg = airline_df_agg[['OnTime_Early', 'Small_Delay', 'Medium_Delay',\n",
    "                                 'Large_Delay', 'Cancelled']]"
   ]
  },
  {
   "cell_type": "code",
   "execution_count": 23,
   "metadata": {},
   "outputs": [
    {
     "data": {
      "text/html": [
       "<div>\n",
       "<style scoped>\n",
       "    .dataframe tbody tr th:only-of-type {\n",
       "        vertical-align: middle;\n",
       "    }\n",
       "\n",
       "    .dataframe tbody tr th {\n",
       "        vertical-align: top;\n",
       "    }\n",
       "\n",
       "    .dataframe thead th {\n",
       "        text-align: right;\n",
       "    }\n",
       "</style>\n",
       "<table border=\"1\" class=\"dataframe\">\n",
       "  <thead>\n",
       "    <tr style=\"text-align: right;\">\n",
       "      <th>DelayGroup</th>\n",
       "      <th>OnTime_Early</th>\n",
       "      <th>Small_Delay</th>\n",
       "      <th>Medium_Delay</th>\n",
       "      <th>Large_Delay</th>\n",
       "      <th>Cancelled</th>\n",
       "    </tr>\n",
       "    <tr>\n",
       "      <th>Month</th>\n",
       "      <th></th>\n",
       "      <th></th>\n",
       "      <th></th>\n",
       "      <th></th>\n",
       "      <th></th>\n",
       "    </tr>\n",
       "  </thead>\n",
       "  <tbody>\n",
       "    <tr>\n",
       "      <th>Jan</th>\n",
       "      <td>56.310684</td>\n",
       "      <td>21.386615</td>\n",
       "      <td>11.532008</td>\n",
       "      <td>8.232391</td>\n",
       "      <td>2.538303</td>\n",
       "    </tr>\n",
       "    <tr>\n",
       "      <th>Feb</th>\n",
       "      <td>49.655059</td>\n",
       "      <td>22.461652</td>\n",
       "      <td>13.199341</td>\n",
       "      <td>10.181682</td>\n",
       "      <td>4.502267</td>\n",
       "    </tr>\n",
       "    <tr>\n",
       "      <th>Mar</th>\n",
       "      <td>54.140508</td>\n",
       "      <td>22.615921</td>\n",
       "      <td>11.691012</td>\n",
       "      <td>8.912265</td>\n",
       "      <td>2.640294</td>\n",
       "    </tr>\n",
       "    <tr>\n",
       "      <th>Apr</th>\n",
       "      <td>57.661133</td>\n",
       "      <td>22.059781</td>\n",
       "      <td>10.485351</td>\n",
       "      <td>7.981642</td>\n",
       "      <td>1.812094</td>\n",
       "    </tr>\n",
       "    <tr>\n",
       "      <th>May</th>\n",
       "      <td>60.649706</td>\n",
       "      <td>21.661186</td>\n",
       "      <td>9.766960</td>\n",
       "      <td>6.839041</td>\n",
       "      <td>1.083107</td>\n",
       "    </tr>\n",
       "    <tr>\n",
       "      <th>Jun</th>\n",
       "      <td>48.317283</td>\n",
       "      <td>24.143942</td>\n",
       "      <td>13.026951</td>\n",
       "      <td>11.771707</td>\n",
       "      <td>2.740116</td>\n",
       "    </tr>\n",
       "    <tr>\n",
       "      <th>Jul</th>\n",
       "      <td>50.449160</td>\n",
       "      <td>23.540114</td>\n",
       "      <td>12.913388</td>\n",
       "      <td>11.014827</td>\n",
       "      <td>2.082511</td>\n",
       "    </tr>\n",
       "    <tr>\n",
       "      <th>Aug</th>\n",
       "      <td>52.421029</td>\n",
       "      <td>23.134479</td>\n",
       "      <td>12.415732</td>\n",
       "      <td>10.146707</td>\n",
       "      <td>1.882053</td>\n",
       "    </tr>\n",
       "    <tr>\n",
       "      <th>Sep</th>\n",
       "      <td>66.323440</td>\n",
       "      <td>18.665047</td>\n",
       "      <td>8.147641</td>\n",
       "      <td>5.779708</td>\n",
       "      <td>1.084164</td>\n",
       "    </tr>\n",
       "    <tr>\n",
       "      <th>Oct</th>\n",
       "      <td>62.149399</td>\n",
       "      <td>20.253020</td>\n",
       "      <td>9.646344</td>\n",
       "      <td>6.788203</td>\n",
       "      <td>1.163034</td>\n",
       "    </tr>\n",
       "    <tr>\n",
       "      <th>Nov</th>\n",
       "      <td>63.011528</td>\n",
       "      <td>20.253393</td>\n",
       "      <td>9.069186</td>\n",
       "      <td>6.628296</td>\n",
       "      <td>1.037597</td>\n",
       "    </tr>\n",
       "    <tr>\n",
       "      <th>Dec</th>\n",
       "      <td>46.998308</td>\n",
       "      <td>23.020271</td>\n",
       "      <td>14.523632</td>\n",
       "      <td>11.958081</td>\n",
       "      <td>3.499708</td>\n",
       "    </tr>\n",
       "  </tbody>\n",
       "</table>\n",
       "</div>"
      ],
      "text/plain": [
       "DelayGroup  OnTime_Early  Small_Delay  Medium_Delay  Large_Delay  Cancelled\n",
       "Month                                                                      \n",
       "Jan            56.310684    21.386615     11.532008     8.232391   2.538303\n",
       "Feb            49.655059    22.461652     13.199341    10.181682   4.502267\n",
       "Mar            54.140508    22.615921     11.691012     8.912265   2.640294\n",
       "Apr            57.661133    22.059781     10.485351     7.981642   1.812094\n",
       "May            60.649706    21.661186      9.766960     6.839041   1.083107\n",
       "Jun            48.317283    24.143942     13.026951    11.771707   2.740116\n",
       "Jul            50.449160    23.540114     12.913388    11.014827   2.082511\n",
       "Aug            52.421029    23.134479     12.415732    10.146707   1.882053\n",
       "Sep            66.323440    18.665047      8.147641     5.779708   1.084164\n",
       "Oct            62.149399    20.253020      9.646344     6.788203   1.163034\n",
       "Nov            63.011528    20.253393      9.069186     6.628296   1.037597\n",
       "Dec            46.998308    23.020271     14.523632    11.958081   3.499708"
      ]
     },
     "execution_count": 23,
     "metadata": {},
     "output_type": "execute_result"
    }
   ],
   "source": [
    "airline_df_agg*100"
   ]
  },
  {
   "cell_type": "code",
   "execution_count": 24,
   "metadata": {},
   "outputs": [
    {
     "data": {
      "text/plain": [
       "Month\n",
       "Jan    1.0\n",
       "Feb    1.0\n",
       "Mar    1.0\n",
       "Apr    1.0\n",
       "May    1.0\n",
       "Jun    1.0\n",
       "Jul    1.0\n",
       "Aug    1.0\n",
       "Sep    1.0\n",
       "Oct    1.0\n",
       "Nov    1.0\n",
       "Dec    1.0\n",
       "dtype: float64"
      ]
     },
     "execution_count": 24,
     "metadata": {},
     "output_type": "execute_result"
    }
   ],
   "source": [
    "airline_df_agg.sum(axis=1)"
   ]
  },
  {
   "cell_type": "markdown",
   "metadata": {},
   "source": [
    "Let's get the percentage of each delay group for each month"
   ]
  },
  {
   "cell_type": "code",
   "execution_count": 25,
   "metadata": {},
   "outputs": [
    {
     "data": {
      "text/html": [
       "<style type=\"text/css\">\n",
       "#T_1d64f_row0_col0, #T_1d64f_row1_col0, #T_1d64f_row2_col0, #T_1d64f_row3_col0, #T_1d64f_row4_col0, #T_1d64f_row5_col0, #T_1d64f_row6_col0, #T_1d64f_row7_col0, #T_1d64f_row8_col0, #T_1d64f_row9_col0, #T_1d64f_row10_col0, #T_1d64f_row11_col0 {\n",
       "  background-color: #08306b;\n",
       "  color: #f1f1f1;\n",
       "}\n",
       "#T_1d64f_row0_col1 {\n",
       "  background-color: #a6cee4;\n",
       "  color: #000000;\n",
       "}\n",
       "#T_1d64f_row0_col2 {\n",
       "  background-color: #d6e6f4;\n",
       "  color: #000000;\n",
       "}\n",
       "#T_1d64f_row0_col3, #T_1d64f_row8_col2 {\n",
       "  background-color: #e2edf8;\n",
       "  color: #000000;\n",
       "}\n",
       "#T_1d64f_row0_col4, #T_1d64f_row1_col4, #T_1d64f_row2_col4, #T_1d64f_row3_col4, #T_1d64f_row4_col4, #T_1d64f_row5_col4, #T_1d64f_row6_col4, #T_1d64f_row7_col4, #T_1d64f_row8_col4, #T_1d64f_row9_col4, #T_1d64f_row10_col4, #T_1d64f_row11_col4 {\n",
       "  background-color: #f7fbff;\n",
       "  color: #000000;\n",
       "}\n",
       "#T_1d64f_row1_col1 {\n",
       "  background-color: #95c5df;\n",
       "  color: #000000;\n",
       "}\n",
       "#T_1d64f_row1_col2, #T_1d64f_row11_col3 {\n",
       "  background-color: #d1e2f3;\n",
       "  color: #000000;\n",
       "}\n",
       "#T_1d64f_row1_col3 {\n",
       "  background-color: #deebf7;\n",
       "  color: #000000;\n",
       "}\n",
       "#T_1d64f_row2_col1 {\n",
       "  background-color: #99c7e0;\n",
       "  color: #000000;\n",
       "}\n",
       "#T_1d64f_row2_col2 {\n",
       "  background-color: #d5e5f4;\n",
       "  color: #000000;\n",
       "}\n",
       "#T_1d64f_row2_col3 {\n",
       "  background-color: #dfebf7;\n",
       "  color: #000000;\n",
       "}\n",
       "#T_1d64f_row3_col1 {\n",
       "  background-color: #a3cce3;\n",
       "  color: #000000;\n",
       "}\n",
       "#T_1d64f_row3_col2 {\n",
       "  background-color: #d9e7f5;\n",
       "  color: #000000;\n",
       "}\n",
       "#T_1d64f_row3_col3 {\n",
       "  background-color: #e1edf8;\n",
       "  color: #000000;\n",
       "}\n",
       "#T_1d64f_row4_col1 {\n",
       "  background-color: #a8cee4;\n",
       "  color: #000000;\n",
       "}\n",
       "#T_1d64f_row4_col2 {\n",
       "  background-color: #dae8f6;\n",
       "  color: #000000;\n",
       "}\n",
       "#T_1d64f_row4_col3 {\n",
       "  background-color: #e4eff9;\n",
       "  color: #000000;\n",
       "}\n",
       "#T_1d64f_row5_col1 {\n",
       "  background-color: #77b5d9;\n",
       "  color: #000000;\n",
       "}\n",
       "#T_1d64f_row5_col2, #T_1d64f_row6_col2 {\n",
       "  background-color: #cbdef1;\n",
       "  color: #000000;\n",
       "}\n",
       "#T_1d64f_row5_col3 {\n",
       "  background-color: #d0e2f2;\n",
       "  color: #000000;\n",
       "}\n",
       "#T_1d64f_row6_col1 {\n",
       "  background-color: #82bbdb;\n",
       "  color: #000000;\n",
       "}\n",
       "#T_1d64f_row6_col3 {\n",
       "  background-color: #d3e3f3;\n",
       "  color: #000000;\n",
       "}\n",
       "#T_1d64f_row7_col1 {\n",
       "  background-color: #8cc0dd;\n",
       "  color: #000000;\n",
       "}\n",
       "#T_1d64f_row7_col2 {\n",
       "  background-color: #cee0f2;\n",
       "  color: #000000;\n",
       "}\n",
       "#T_1d64f_row7_col3 {\n",
       "  background-color: #d7e6f5;\n",
       "  color: #000000;\n",
       "}\n",
       "#T_1d64f_row8_col1 {\n",
       "  background-color: #c1d9ed;\n",
       "  color: #000000;\n",
       "}\n",
       "#T_1d64f_row8_col3 {\n",
       "  background-color: #e9f2fa;\n",
       "  color: #000000;\n",
       "}\n",
       "#T_1d64f_row9_col1 {\n",
       "  background-color: #b2d2e8;\n",
       "  color: #000000;\n",
       "}\n",
       "#T_1d64f_row9_col2 {\n",
       "  background-color: #dce9f6;\n",
       "  color: #000000;\n",
       "}\n",
       "#T_1d64f_row9_col3, #T_1d64f_row10_col3 {\n",
       "  background-color: #e5eff9;\n",
       "  color: #000000;\n",
       "}\n",
       "#T_1d64f_row10_col1 {\n",
       "  background-color: #b3d3e8;\n",
       "  color: #000000;\n",
       "}\n",
       "#T_1d64f_row10_col2 {\n",
       "  background-color: #ddeaf7;\n",
       "  color: #000000;\n",
       "}\n",
       "#T_1d64f_row11_col1 {\n",
       "  background-color: #81badb;\n",
       "  color: #000000;\n",
       "}\n",
       "#T_1d64f_row11_col2 {\n",
       "  background-color: #c6dbef;\n",
       "  color: #000000;\n",
       "}\n",
       "</style>\n",
       "<table id=\"T_1d64f\">\n",
       "  <thead>\n",
       "    <tr>\n",
       "      <th class=\"index_name level0\" >DelayGroup</th>\n",
       "      <th id=\"T_1d64f_level0_col0\" class=\"col_heading level0 col0\" >OnTime_Early</th>\n",
       "      <th id=\"T_1d64f_level0_col1\" class=\"col_heading level0 col1\" >Small_Delay</th>\n",
       "      <th id=\"T_1d64f_level0_col2\" class=\"col_heading level0 col2\" >Medium_Delay</th>\n",
       "      <th id=\"T_1d64f_level0_col3\" class=\"col_heading level0 col3\" >Large_Delay</th>\n",
       "      <th id=\"T_1d64f_level0_col4\" class=\"col_heading level0 col4\" >Cancelled</th>\n",
       "    </tr>\n",
       "    <tr>\n",
       "      <th class=\"index_name level0\" >Month</th>\n",
       "      <th class=\"blank col0\" >&nbsp;</th>\n",
       "      <th class=\"blank col1\" >&nbsp;</th>\n",
       "      <th class=\"blank col2\" >&nbsp;</th>\n",
       "      <th class=\"blank col3\" >&nbsp;</th>\n",
       "      <th class=\"blank col4\" >&nbsp;</th>\n",
       "    </tr>\n",
       "  </thead>\n",
       "  <tbody>\n",
       "    <tr>\n",
       "      <th id=\"T_1d64f_level0_row0\" class=\"row_heading level0 row0\" >Jan</th>\n",
       "      <td id=\"T_1d64f_row0_col0\" class=\"data row0 col0\" >56.310684</td>\n",
       "      <td id=\"T_1d64f_row0_col1\" class=\"data row0 col1\" >21.386615</td>\n",
       "      <td id=\"T_1d64f_row0_col2\" class=\"data row0 col2\" >11.532008</td>\n",
       "      <td id=\"T_1d64f_row0_col3\" class=\"data row0 col3\" >8.232391</td>\n",
       "      <td id=\"T_1d64f_row0_col4\" class=\"data row0 col4\" >2.538303</td>\n",
       "    </tr>\n",
       "    <tr>\n",
       "      <th id=\"T_1d64f_level0_row1\" class=\"row_heading level0 row1\" >Feb</th>\n",
       "      <td id=\"T_1d64f_row1_col0\" class=\"data row1 col0\" >49.655059</td>\n",
       "      <td id=\"T_1d64f_row1_col1\" class=\"data row1 col1\" >22.461652</td>\n",
       "      <td id=\"T_1d64f_row1_col2\" class=\"data row1 col2\" >13.199341</td>\n",
       "      <td id=\"T_1d64f_row1_col3\" class=\"data row1 col3\" >10.181682</td>\n",
       "      <td id=\"T_1d64f_row1_col4\" class=\"data row1 col4\" >4.502267</td>\n",
       "    </tr>\n",
       "    <tr>\n",
       "      <th id=\"T_1d64f_level0_row2\" class=\"row_heading level0 row2\" >Mar</th>\n",
       "      <td id=\"T_1d64f_row2_col0\" class=\"data row2 col0\" >54.140508</td>\n",
       "      <td id=\"T_1d64f_row2_col1\" class=\"data row2 col1\" >22.615921</td>\n",
       "      <td id=\"T_1d64f_row2_col2\" class=\"data row2 col2\" >11.691012</td>\n",
       "      <td id=\"T_1d64f_row2_col3\" class=\"data row2 col3\" >8.912265</td>\n",
       "      <td id=\"T_1d64f_row2_col4\" class=\"data row2 col4\" >2.640294</td>\n",
       "    </tr>\n",
       "    <tr>\n",
       "      <th id=\"T_1d64f_level0_row3\" class=\"row_heading level0 row3\" >Apr</th>\n",
       "      <td id=\"T_1d64f_row3_col0\" class=\"data row3 col0\" >57.661133</td>\n",
       "      <td id=\"T_1d64f_row3_col1\" class=\"data row3 col1\" >22.059781</td>\n",
       "      <td id=\"T_1d64f_row3_col2\" class=\"data row3 col2\" >10.485351</td>\n",
       "      <td id=\"T_1d64f_row3_col3\" class=\"data row3 col3\" >7.981642</td>\n",
       "      <td id=\"T_1d64f_row3_col4\" class=\"data row3 col4\" >1.812094</td>\n",
       "    </tr>\n",
       "    <tr>\n",
       "      <th id=\"T_1d64f_level0_row4\" class=\"row_heading level0 row4\" >May</th>\n",
       "      <td id=\"T_1d64f_row4_col0\" class=\"data row4 col0\" >60.649706</td>\n",
       "      <td id=\"T_1d64f_row4_col1\" class=\"data row4 col1\" >21.661186</td>\n",
       "      <td id=\"T_1d64f_row4_col2\" class=\"data row4 col2\" >9.766960</td>\n",
       "      <td id=\"T_1d64f_row4_col3\" class=\"data row4 col3\" >6.839041</td>\n",
       "      <td id=\"T_1d64f_row4_col4\" class=\"data row4 col4\" >1.083107</td>\n",
       "    </tr>\n",
       "    <tr>\n",
       "      <th id=\"T_1d64f_level0_row5\" class=\"row_heading level0 row5\" >Jun</th>\n",
       "      <td id=\"T_1d64f_row5_col0\" class=\"data row5 col0\" >48.317283</td>\n",
       "      <td id=\"T_1d64f_row5_col1\" class=\"data row5 col1\" >24.143942</td>\n",
       "      <td id=\"T_1d64f_row5_col2\" class=\"data row5 col2\" >13.026951</td>\n",
       "      <td id=\"T_1d64f_row5_col3\" class=\"data row5 col3\" >11.771707</td>\n",
       "      <td id=\"T_1d64f_row5_col4\" class=\"data row5 col4\" >2.740116</td>\n",
       "    </tr>\n",
       "    <tr>\n",
       "      <th id=\"T_1d64f_level0_row6\" class=\"row_heading level0 row6\" >Jul</th>\n",
       "      <td id=\"T_1d64f_row6_col0\" class=\"data row6 col0\" >50.449160</td>\n",
       "      <td id=\"T_1d64f_row6_col1\" class=\"data row6 col1\" >23.540114</td>\n",
       "      <td id=\"T_1d64f_row6_col2\" class=\"data row6 col2\" >12.913388</td>\n",
       "      <td id=\"T_1d64f_row6_col3\" class=\"data row6 col3\" >11.014827</td>\n",
       "      <td id=\"T_1d64f_row6_col4\" class=\"data row6 col4\" >2.082511</td>\n",
       "    </tr>\n",
       "    <tr>\n",
       "      <th id=\"T_1d64f_level0_row7\" class=\"row_heading level0 row7\" >Aug</th>\n",
       "      <td id=\"T_1d64f_row7_col0\" class=\"data row7 col0\" >52.421029</td>\n",
       "      <td id=\"T_1d64f_row7_col1\" class=\"data row7 col1\" >23.134479</td>\n",
       "      <td id=\"T_1d64f_row7_col2\" class=\"data row7 col2\" >12.415732</td>\n",
       "      <td id=\"T_1d64f_row7_col3\" class=\"data row7 col3\" >10.146707</td>\n",
       "      <td id=\"T_1d64f_row7_col4\" class=\"data row7 col4\" >1.882053</td>\n",
       "    </tr>\n",
       "    <tr>\n",
       "      <th id=\"T_1d64f_level0_row8\" class=\"row_heading level0 row8\" >Sep</th>\n",
       "      <td id=\"T_1d64f_row8_col0\" class=\"data row8 col0\" >66.323440</td>\n",
       "      <td id=\"T_1d64f_row8_col1\" class=\"data row8 col1\" >18.665047</td>\n",
       "      <td id=\"T_1d64f_row8_col2\" class=\"data row8 col2\" >8.147641</td>\n",
       "      <td id=\"T_1d64f_row8_col3\" class=\"data row8 col3\" >5.779708</td>\n",
       "      <td id=\"T_1d64f_row8_col4\" class=\"data row8 col4\" >1.084164</td>\n",
       "    </tr>\n",
       "    <tr>\n",
       "      <th id=\"T_1d64f_level0_row9\" class=\"row_heading level0 row9\" >Oct</th>\n",
       "      <td id=\"T_1d64f_row9_col0\" class=\"data row9 col0\" >62.149399</td>\n",
       "      <td id=\"T_1d64f_row9_col1\" class=\"data row9 col1\" >20.253020</td>\n",
       "      <td id=\"T_1d64f_row9_col2\" class=\"data row9 col2\" >9.646344</td>\n",
       "      <td id=\"T_1d64f_row9_col3\" class=\"data row9 col3\" >6.788203</td>\n",
       "      <td id=\"T_1d64f_row9_col4\" class=\"data row9 col4\" >1.163034</td>\n",
       "    </tr>\n",
       "    <tr>\n",
       "      <th id=\"T_1d64f_level0_row10\" class=\"row_heading level0 row10\" >Nov</th>\n",
       "      <td id=\"T_1d64f_row10_col0\" class=\"data row10 col0\" >63.011528</td>\n",
       "      <td id=\"T_1d64f_row10_col1\" class=\"data row10 col1\" >20.253393</td>\n",
       "      <td id=\"T_1d64f_row10_col2\" class=\"data row10 col2\" >9.069186</td>\n",
       "      <td id=\"T_1d64f_row10_col3\" class=\"data row10 col3\" >6.628296</td>\n",
       "      <td id=\"T_1d64f_row10_col4\" class=\"data row10 col4\" >1.037597</td>\n",
       "    </tr>\n",
       "    <tr>\n",
       "      <th id=\"T_1d64f_level0_row11\" class=\"row_heading level0 row11\" >Dec</th>\n",
       "      <td id=\"T_1d64f_row11_col0\" class=\"data row11 col0\" >46.998308</td>\n",
       "      <td id=\"T_1d64f_row11_col1\" class=\"data row11 col1\" >23.020271</td>\n",
       "      <td id=\"T_1d64f_row11_col2\" class=\"data row11 col2\" >14.523632</td>\n",
       "      <td id=\"T_1d64f_row11_col3\" class=\"data row11 col3\" >11.958081</td>\n",
       "      <td id=\"T_1d64f_row11_col4\" class=\"data row11 col4\" >3.499708</td>\n",
       "    </tr>\n",
       "  </tbody>\n",
       "</table>\n"
      ],
      "text/plain": [
       "<pandas.io.formats.style.Styler at 0x2013d05d430>"
      ]
     },
     "execution_count": 25,
     "metadata": {},
     "output_type": "execute_result"
    }
   ],
   "source": [
    "(airline_df_agg*100).style.background_gradient(cmap='Blues', axis=1)"
   ]
  },
  {
   "cell_type": "code",
   "execution_count": 94,
   "metadata": {},
   "outputs": [
    {
     "data": {
      "image/png": "[encoded data removed]",
      "text/plain": [
       "<Figure size 720x504 with 2 Axes>"
      ]
     },
     "metadata": {
      "needs_background": "light"
     },
     "output_type": "display_data"
    }
   ],
   "source": [
    "plt.figure(figsize=[10,7])\n",
    "sns.heatmap((airline_df_agg*100), cmap='BuGn', annot=True)\n",
    "plt.title('Heatmap of % of DelayGroups for each Month in 2007\\n')\n",
    "plt.xlabel('')\n",
    "plt.ylabel('');"
   ]
  },
  {
   "cell_type": "markdown",
   "metadata": {},
   "source": [
    "We can see the gradual decrease in percentage of delays for each month. Let's look at a heatmap neglecting the OnTime_Flights"
   ]
  },
  {
   "cell_type": "code",
   "execution_count": 92,
   "metadata": {},
   "outputs": [
    {
     "data": {
      "image/png": "[encoded data removed]",
      "text/plain": [
       "<Figure size 720x504 with 2 Axes>"
      ]
     },
     "metadata": {
      "needs_background": "light"
     },
     "output_type": "display_data"
    }
   ],
   "source": [
    "plt.figure(figsize=[10,7])\n",
    "sns.heatmap((airline_df_agg.drop('OnTime_Early', axis=1)*100), \n",
    "            cmap='BuGn', annot=True)\n",
    "plt.title('Heatmap of % of Delay for each Month in 2007\\n')\n",
    "plt.xlabel('')\n",
    "plt.ylabel('');"
   ]
  },
  {
   "cell_type": "markdown",
   "metadata": {},
   "source": [
    "Most delays occurred between June, July, August and December while September to November had the highest percentage of on time flights. February then December saw the highest percentage of cancelled flights than all other months in 2007."
   ]
  },
  {
   "cell_type": "markdown",
   "metadata": {},
   "source": [
    "### How many flights were cancelled daily in 2007?"
   ]
  },
  {
   "cell_type": "code",
   "execution_count": 28,
   "metadata": {},
   "outputs": [],
   "source": [
    "# get the daily number of cancelled flights.\n",
    "# remember True=1 and False=0\n",
    "cancelled_per_day = airline_df.groupby('Date')['Cancelled'].sum()"
   ]
  },
  {
   "cell_type": "code",
   "execution_count": 29,
   "metadata": {},
   "outputs": [
    {
     "data": {
      "text/plain": [
       "Date\n",
       "2007-01-01    359\n",
       "2007-01-02    211\n",
       "2007-01-03    177\n",
       "2007-01-04    497\n",
       "2007-01-05    580\n",
       "             ... \n",
       "2007-12-27    486\n",
       "2007-12-28    926\n",
       "2007-12-29    171\n",
       "2007-12-30    292\n",
       "2007-12-31    524\n",
       "Name: Cancelled, Length: 365, dtype: int64"
      ]
     },
     "execution_count": 29,
     "metadata": {},
     "output_type": "execute_result"
    }
   ],
   "source": [
    "cancelled_per_day"
   ]
  },
  {
   "cell_type": "code",
   "execution_count": 30,
   "metadata": {},
   "outputs": [
    {
     "data": {
      "text/plain": [
       "min      52.0\n",
       "max    4385.0\n",
       "Name: Cancelled, dtype: float64"
      ]
     },
     "execution_count": 30,
     "metadata": {},
     "output_type": "execute_result"
    }
   ],
   "source": [
    "cancelled_per_day.describe()[['min','max']]"
   ]
  },
  {
   "cell_type": "code",
   "execution_count": 31,
   "metadata": {},
   "outputs": [
    {
     "data": {
      "text/plain": [
       "array([  50,  300,  550,  800, 1050, 1300, 1550, 1800, 2050, 2300, 2550,\n",
       "       2800, 3050, 3300, 3550, 3800, 4050, 4300])"
      ]
     },
     "execution_count": 31,
     "metadata": {},
     "output_type": "execute_result"
    }
   ],
   "source": [
    "bins = np.arange(50,4400,250)\n",
    "bins"
   ]
  },
  {
   "cell_type": "code",
   "execution_count": 32,
   "metadata": {},
   "outputs": [
    {
     "data": {
      "image/png": "[encoded data removed]",
      "text/plain": [
       "<Figure size 432x288 with 1 Axes>"
      ]
     },
     "metadata": {
      "needs_background": "light"
     },
     "output_type": "display_data"
    }
   ],
   "source": [
    "plt.hist(cancelled_per_day, bins=bins, color=base_color)\n",
    "plt.title('Distribution of Daily Flight Cancellations');"
   ]
  },
  {
   "cell_type": "markdown",
   "metadata": {},
   "source": [
    "Let's apply a log transform since this data is highly skewed to the right."
   ]
  },
  {
   "cell_type": "code",
   "execution_count": 33,
   "metadata": {},
   "outputs": [
    {
     "data": {
      "text/plain": [
       "min      52.0\n",
       "max    4385.0\n",
       "Name: Cancelled, dtype: float64"
      ]
     },
     "execution_count": 33,
     "metadata": {},
     "output_type": "execute_result"
    }
   ],
   "source": [
    "cancelled_per_day.describe()[['min','max']]"
   ]
  },
  {
   "cell_type": "code",
   "execution_count": 34,
   "metadata": {},
   "outputs": [
    {
     "name": "stdout",
     "output_type": "stream",
     "text": [
      "1.7160033436347992\n",
      "3.6419695977020594\n"
     ]
    }
   ],
   "source": [
    "print(np.log10(52))\n",
    "print(np.log10(4385))"
   ]
  },
  {
   "cell_type": "code",
   "execution_count": 35,
   "metadata": {},
   "outputs": [],
   "source": [
    "# creating bins\n",
    "logBin_list = 10 ** np.arange(1.7, 3.7+0.1, 0.1)"
   ]
  },
  {
   "cell_type": "code",
   "execution_count": 36,
   "metadata": {},
   "outputs": [
    {
     "data": {
      "text/plain": [
       "array([  50.,   63.,   79.,  100.,  126.,  158.,  200.,  251.,  316.,\n",
       "        398.,  501.,  631.,  794., 1000., 1259., 1585., 1995., 2512.,\n",
       "       3162., 3981., 5012., 6310.])"
      ]
     },
     "execution_count": 36,
     "metadata": {},
     "output_type": "execute_result"
    }
   ],
   "source": [
    "logBin_list.round()"
   ]
  },
  {
   "cell_type": "code",
   "execution_count": 37,
   "metadata": {},
   "outputs": [
    {
     "data": {
      "image/png": "[encoded data removed]",
      "text/plain": [
       "<Figure size 432x288 with 1 Axes>"
      ]
     },
     "metadata": {
      "needs_background": "light"
     },
     "output_type": "display_data"
    }
   ],
   "source": [
    "# generate the x-ticks you want to apply\n",
    "ticks = [50, 100, 200, 400, 800, 1600, 3200, 6400]\n",
    "\n",
    "# plot the histogram\n",
    "plt.hist(cancelled_per_day, bins=logBin_list, color=base_color)\n",
    "plt.xscale('log') # applying log transform [default base 10]\n",
    "\n",
    "# apply xticks\n",
    "plt.xticks(ticks, labels=ticks)\n",
    "plt.title('Distribution of Daily Flight Cancellations (Log Transform)');"
   ]
  },
  {
   "cell_type": "code",
   "execution_count": 95,
   "metadata": {},
   "outputs": [
    {
     "data": {
      "image/png": "[encoded data removed]",
      "text/plain": [
       "<Figure size 900x122.4 with 2 Axes>"
      ]
     },
     "metadata": {
      "needs_background": "light"
     },
     "output_type": "display_data"
    }
   ],
   "source": [
    "calplot.calplot(np.log10(cancelled_per_day), cmap='BuGn', colorbar=True,\n",
    "                suptitle='Log Distribution of Flight Cancellations in 2007');"
   ]
  },
  {
   "cell_type": "markdown",
   "metadata": {},
   "source": [
    "From the plot above, we can see the days and weeks of each month that had the most cancellations."
   ]
  },
  {
   "cell_type": "markdown",
   "metadata": {},
   "source": [
    "### Comparing No. of Registered Flights Amongs Airlines\n",
    "Let's merge the carrier names with the carrier codes"
   ]
  },
  {
   "cell_type": "code",
   "execution_count": 39,
   "metadata": {},
   "outputs": [],
   "source": [
    "# creating dataframe with just counts of registered flights for each airline\n",
    "carrier_count = airline_df.groupby('UniqueCarrier')[['DepTime']].count()\n",
    "\n",
    "# sorting by decreasing count\n",
    "carrier_count.sort_values('DepTime', ascending=False, inplace=True)\n",
    "\n",
    "# rename column\n",
    "carrier_count.rename(columns={'DepTime':'Count'}, inplace=True)\n",
    "\n",
    "# reseting index, so that `UniqueCarrier` can be a column\n",
    "carrier_count.reset_index(inplace=True)"
   ]
  },
  {
   "cell_type": "code",
   "execution_count": 40,
   "metadata": {},
   "outputs": [
    {
     "data": {
      "text/html": [
       "<div>\n",
       "<style scoped>\n",
       "    .dataframe tbody tr th:only-of-type {\n",
       "        vertical-align: middle;\n",
       "    }\n",
       "\n",
       "    .dataframe tbody tr th {\n",
       "        vertical-align: top;\n",
       "    }\n",
       "\n",
       "    .dataframe thead th {\n",
       "        text-align: right;\n",
       "    }\n",
       "</style>\n",
       "<table border=\"1\" class=\"dataframe\">\n",
       "  <thead>\n",
       "    <tr style=\"text-align: right;\">\n",
       "      <th></th>\n",
       "      <th>UniqueCarrier</th>\n",
       "      <th>Count</th>\n",
       "    </tr>\n",
       "  </thead>\n",
       "  <tbody>\n",
       "    <tr>\n",
       "      <th>0</th>\n",
       "      <td>WN</td>\n",
       "      <td>1158878</td>\n",
       "    </tr>\n",
       "    <tr>\n",
       "      <th>1</th>\n",
       "      <td>AA</td>\n",
       "      <td>615933</td>\n",
       "    </tr>\n",
       "    <tr>\n",
       "      <th>2</th>\n",
       "      <td>OO</td>\n",
       "      <td>583696</td>\n",
       "    </tr>\n",
       "    <tr>\n",
       "      <th>3</th>\n",
       "      <td>MQ</td>\n",
       "      <td>517702</td>\n",
       "    </tr>\n",
       "    <tr>\n",
       "      <th>4</th>\n",
       "      <td>UA</td>\n",
       "      <td>478073</td>\n",
       "    </tr>\n",
       "    <tr>\n",
       "      <th>5</th>\n",
       "      <td>US</td>\n",
       "      <td>476505</td>\n",
       "    </tr>\n",
       "    <tr>\n",
       "      <th>6</th>\n",
       "      <td>DL</td>\n",
       "      <td>469368</td>\n",
       "    </tr>\n",
       "    <tr>\n",
       "      <th>7</th>\n",
       "      <td>XE</td>\n",
       "      <td>423973</td>\n",
       "    </tr>\n",
       "    <tr>\n",
       "      <th>8</th>\n",
       "      <td>NW</td>\n",
       "      <td>406712</td>\n",
       "    </tr>\n",
       "    <tr>\n",
       "      <th>9</th>\n",
       "      <td>CO</td>\n",
       "      <td>320200</td>\n",
       "    </tr>\n",
       "    <tr>\n",
       "      <th>10</th>\n",
       "      <td>YV</td>\n",
       "      <td>283075</td>\n",
       "    </tr>\n",
       "    <tr>\n",
       "      <th>11</th>\n",
       "      <td>EV</td>\n",
       "      <td>277314</td>\n",
       "    </tr>\n",
       "    <tr>\n",
       "      <th>12</th>\n",
       "      <td>FL</td>\n",
       "      <td>260557</td>\n",
       "    </tr>\n",
       "    <tr>\n",
       "      <th>13</th>\n",
       "      <td>9E</td>\n",
       "      <td>250912</td>\n",
       "    </tr>\n",
       "    <tr>\n",
       "      <th>14</th>\n",
       "      <td>OH</td>\n",
       "      <td>224936</td>\n",
       "    </tr>\n",
       "    <tr>\n",
       "      <th>15</th>\n",
       "      <td>B6</td>\n",
       "      <td>187740</td>\n",
       "    </tr>\n",
       "    <tr>\n",
       "      <th>16</th>\n",
       "      <td>AS</td>\n",
       "      <td>157622</td>\n",
       "    </tr>\n",
       "    <tr>\n",
       "      <th>17</th>\n",
       "      <td>F9</td>\n",
       "      <td>97335</td>\n",
       "    </tr>\n",
       "    <tr>\n",
       "      <th>18</th>\n",
       "      <td>HA</td>\n",
       "      <td>55937</td>\n",
       "    </tr>\n",
       "    <tr>\n",
       "      <th>19</th>\n",
       "      <td>AQ</td>\n",
       "      <td>45972</td>\n",
       "    </tr>\n",
       "  </tbody>\n",
       "</table>\n",
       "</div>"
      ],
      "text/plain": [
       "   UniqueCarrier    Count\n",
       "0             WN  1158878\n",
       "1             AA   615933\n",
       "2             OO   583696\n",
       "3             MQ   517702\n",
       "4             UA   478073\n",
       "5             US   476505\n",
       "6             DL   469368\n",
       "7             XE   423973\n",
       "8             NW   406712\n",
       "9             CO   320200\n",
       "10            YV   283075\n",
       "11            EV   277314\n",
       "12            FL   260557\n",
       "13            9E   250912\n",
       "14            OH   224936\n",
       "15            B6   187740\n",
       "16            AS   157622\n",
       "17            F9    97335\n",
       "18            HA    55937\n",
       "19            AQ    45972"
      ]
     },
     "execution_count": 40,
     "metadata": {},
     "output_type": "execute_result"
    }
   ],
   "source": [
    "carrier_count"
   ]
  },
  {
   "cell_type": "markdown",
   "metadata": {},
   "source": [
    "Merging `carriers` with `carrier_count`"
   ]
  },
  {
   "cell_type": "code",
   "execution_count": 41,
   "metadata": {},
   "outputs": [],
   "source": [
    "airlines_flights = pd.merge(left=carrier_count, right=carriers, how='left', \n",
    "                            left_on='UniqueCarrier', right_on='Code')\n",
    "airlines_flights = airlines_flights[['Code', 'Description', 'Count']]"
   ]
  },
  {
   "cell_type": "code",
   "execution_count": 44,
   "metadata": {},
   "outputs": [
    {
     "data": {
      "text/html": [
       "<div>\n",
       "<style scoped>\n",
       "    .dataframe tbody tr th:only-of-type {\n",
       "        vertical-align: middle;\n",
       "    }\n",
       "\n",
       "    .dataframe tbody tr th {\n",
       "        vertical-align: top;\n",
       "    }\n",
       "\n",
       "    .dataframe thead th {\n",
       "        text-align: right;\n",
       "    }\n",
       "</style>\n",
       "<table border=\"1\" class=\"dataframe\">\n",
       "  <thead>\n",
       "    <tr style=\"text-align: right;\">\n",
       "      <th></th>\n",
       "      <th>Code</th>\n",
       "      <th>Description</th>\n",
       "      <th>Count</th>\n",
       "    </tr>\n",
       "  </thead>\n",
       "  <tbody>\n",
       "    <tr>\n",
       "      <th>5</th>\n",
       "      <td>US</td>\n",
       "      <td>US Airways Inc. (Merged with America West 9/05...</td>\n",
       "      <td>476505</td>\n",
       "    </tr>\n",
       "  </tbody>\n",
       "</table>\n",
       "</div>"
      ],
      "text/plain": [
       "  Code                                        Description   Count\n",
       "5   US  US Airways Inc. (Merged with America West 9/05...  476505"
      ]
     },
     "execution_count": 44,
     "metadata": {},
     "output_type": "execute_result"
    }
   ],
   "source": [
    "# converting description of US Airways inc to a shortform\n",
    "airlines_flights.query(\"Description == 'US Airways Inc. (Merged with America West 9/05. Reporting for both starting 10/07.)'\")"
   ]
  },
  {
   "cell_type": "code",
   "execution_count": 46,
   "metadata": {},
   "outputs": [],
   "source": [
    "airlines_flights.iloc[5,1] = 'US Airways Inc.'"
   ]
  },
  {
   "cell_type": "code",
   "execution_count": 57,
   "metadata": {},
   "outputs": [
    {
     "data": {
      "text/html": [
       "<div>\n",
       "<style scoped>\n",
       "    .dataframe tbody tr th:only-of-type {\n",
       "        vertical-align: middle;\n",
       "    }\n",
       "\n",
       "    .dataframe tbody tr th {\n",
       "        vertical-align: top;\n",
       "    }\n",
       "\n",
       "    .dataframe thead th {\n",
       "        text-align: right;\n",
       "    }\n",
       "</style>\n",
       "<table border=\"1\" class=\"dataframe\">\n",
       "  <thead>\n",
       "    <tr style=\"text-align: right;\">\n",
       "      <th></th>\n",
       "      <th>Code</th>\n",
       "      <th>Description</th>\n",
       "      <th>Count</th>\n",
       "    </tr>\n",
       "  </thead>\n",
       "  <tbody>\n",
       "    <tr>\n",
       "      <th>0</th>\n",
       "      <td>WN</td>\n",
       "      <td>Southwest Airlines Co.</td>\n",
       "      <td>1158878</td>\n",
       "    </tr>\n",
       "    <tr>\n",
       "      <th>1</th>\n",
       "      <td>AA</td>\n",
       "      <td>American Airlines Inc.</td>\n",
       "      <td>615933</td>\n",
       "    </tr>\n",
       "    <tr>\n",
       "      <th>2</th>\n",
       "      <td>OO</td>\n",
       "      <td>Skywest Airlines Inc.</td>\n",
       "      <td>583696</td>\n",
       "    </tr>\n",
       "    <tr>\n",
       "      <th>3</th>\n",
       "      <td>MQ</td>\n",
       "      <td>American Eagle Airlines Inc.</td>\n",
       "      <td>517702</td>\n",
       "    </tr>\n",
       "    <tr>\n",
       "      <th>4</th>\n",
       "      <td>UA</td>\n",
       "      <td>United Air Lines Inc.</td>\n",
       "      <td>478073</td>\n",
       "    </tr>\n",
       "    <tr>\n",
       "      <th>5</th>\n",
       "      <td>US</td>\n",
       "      <td>US Airways Inc.</td>\n",
       "      <td>476505</td>\n",
       "    </tr>\n",
       "    <tr>\n",
       "      <th>6</th>\n",
       "      <td>DL</td>\n",
       "      <td>Delta Air Lines Inc.</td>\n",
       "      <td>469368</td>\n",
       "    </tr>\n",
       "    <tr>\n",
       "      <th>7</th>\n",
       "      <td>XE</td>\n",
       "      <td>Expressjet Airlines Inc.</td>\n",
       "      <td>423973</td>\n",
       "    </tr>\n",
       "    <tr>\n",
       "      <th>8</th>\n",
       "      <td>NW</td>\n",
       "      <td>Northwest Airlines Inc.</td>\n",
       "      <td>406712</td>\n",
       "    </tr>\n",
       "    <tr>\n",
       "      <th>9</th>\n",
       "      <td>CO</td>\n",
       "      <td>Continental Air Lines Inc.</td>\n",
       "      <td>320200</td>\n",
       "    </tr>\n",
       "    <tr>\n",
       "      <th>10</th>\n",
       "      <td>YV</td>\n",
       "      <td>Mesa Airlines Inc.</td>\n",
       "      <td>283075</td>\n",
       "    </tr>\n",
       "    <tr>\n",
       "      <th>11</th>\n",
       "      <td>EV</td>\n",
       "      <td>Atlantic Southeast Airlines</td>\n",
       "      <td>277314</td>\n",
       "    </tr>\n",
       "    <tr>\n",
       "      <th>12</th>\n",
       "      <td>FL</td>\n",
       "      <td>AirTran Airways Corporation</td>\n",
       "      <td>260557</td>\n",
       "    </tr>\n",
       "    <tr>\n",
       "      <th>13</th>\n",
       "      <td>9E</td>\n",
       "      <td>Pinnacle Airlines Inc.</td>\n",
       "      <td>250912</td>\n",
       "    </tr>\n",
       "    <tr>\n",
       "      <th>14</th>\n",
       "      <td>OH</td>\n",
       "      <td>Comair Inc.</td>\n",
       "      <td>224936</td>\n",
       "    </tr>\n",
       "    <tr>\n",
       "      <th>15</th>\n",
       "      <td>B6</td>\n",
       "      <td>JetBlue Airways</td>\n",
       "      <td>187740</td>\n",
       "    </tr>\n",
       "    <tr>\n",
       "      <th>16</th>\n",
       "      <td>AS</td>\n",
       "      <td>Alaska Airlines Inc.</td>\n",
       "      <td>157622</td>\n",
       "    </tr>\n",
       "    <tr>\n",
       "      <th>17</th>\n",
       "      <td>F9</td>\n",
       "      <td>Frontier Airlines Inc.</td>\n",
       "      <td>97335</td>\n",
       "    </tr>\n",
       "    <tr>\n",
       "      <th>18</th>\n",
       "      <td>HA</td>\n",
       "      <td>Hawaiian Airlines Inc.</td>\n",
       "      <td>55937</td>\n",
       "    </tr>\n",
       "    <tr>\n",
       "      <th>19</th>\n",
       "      <td>AQ</td>\n",
       "      <td>Aloha Airlines Inc.</td>\n",
       "      <td>45972</td>\n",
       "    </tr>\n",
       "  </tbody>\n",
       "</table>\n",
       "</div>"
      ],
      "text/plain": [
       "   Code                   Description    Count\n",
       "0    WN        Southwest Airlines Co.  1158878\n",
       "1    AA        American Airlines Inc.   615933\n",
       "2    OO         Skywest Airlines Inc.   583696\n",
       "3    MQ  American Eagle Airlines Inc.   517702\n",
       "4    UA         United Air Lines Inc.   478073\n",
       "5    US               US Airways Inc.   476505\n",
       "6    DL          Delta Air Lines Inc.   469368\n",
       "7    XE      Expressjet Airlines Inc.   423973\n",
       "8    NW       Northwest Airlines Inc.   406712\n",
       "9    CO    Continental Air Lines Inc.   320200\n",
       "10   YV            Mesa Airlines Inc.   283075\n",
       "11   EV   Atlantic Southeast Airlines   277314\n",
       "12   FL   AirTran Airways Corporation   260557\n",
       "13   9E        Pinnacle Airlines Inc.   250912\n",
       "14   OH                   Comair Inc.   224936\n",
       "15   B6               JetBlue Airways   187740\n",
       "16   AS          Alaska Airlines Inc.   157622\n",
       "17   F9        Frontier Airlines Inc.    97335\n",
       "18   HA        Hawaiian Airlines Inc.    55937\n",
       "19   AQ           Aloha Airlines Inc.    45972"
      ]
     },
     "execution_count": 57,
     "metadata": {},
     "output_type": "execute_result"
    }
   ],
   "source": [
    "airlines_flights"
   ]
  },
  {
   "cell_type": "code",
   "execution_count": 62,
   "metadata": {},
   "outputs": [
    {
     "data": {
      "image/png": "[encoded data removed]",
      "text/plain": [
       "<Figure size 576x360 with 1 Axes>"
      ]
     },
     "metadata": {
      "needs_background": "light"
     },
     "output_type": "display_data"
    }
   ],
   "source": [
    "# plot\n",
    "plt.figure(figsize=[8,5])\n",
    "sns.barplot(x=(airlines_flights.Count/10000), y=airlines_flights.Description,\n",
    "            color=base_color)\n",
    "plt.title('No of Registered Flights per Airline in 2007')\n",
    "plt.xlabel('No of Flights (10k)')\n",
    "plt.ylabel('Airline\\n');"
   ]
  },
  {
   "cell_type": "markdown",
   "metadata": {},
   "source": [
    "Southwest Airlines Co. seems to be the most popular airline in 2007 with a total of 1,158,878 registered flights followed by 'American Airlines Inc'. and 'Skywest Airlines Inc'. both having 615,933 and 583,696 registered flights respectively. The least used airline is 'Aloha Airlines Inc.' having just 45,972 booked flights."
   ]
  },
  {
   "cell_type": "code",
   "execution_count": null,
   "metadata": {},
   "outputs": [],
   "source": []
  }
 ],
 "metadata": {
  "kernelspec": {
   "display_name": "Python 3.9.7 ('base')",
   "language": "python",
   "name": "python3"
  },
  "language_info": {
   "codemirror_mode": {
    "name": "ipython",
    "version": 3
   },
   "file_extension": ".py",
   "mimetype": "text/x-python",
   "name": "python",
   "nbconvert_exporter": "python",
   "pygments_lexer": "ipython3",
   "version": "3.9.7"
  },
  "orig_nbformat": 4,
  "vscode": {
   "interpreter": {
    "hash": "1206a4f2d6f64ed28b08c3544e67299a5b762789ddcc45660f3f6eefedb1bf11"
   }
  }
 },
 "nbformat": 4,
 "nbformat_minor": 2
}
