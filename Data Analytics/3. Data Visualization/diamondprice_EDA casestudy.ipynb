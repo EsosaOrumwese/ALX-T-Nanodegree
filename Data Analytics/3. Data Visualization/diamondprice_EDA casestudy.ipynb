{
 "cells": [
  {
   "cell_type": "markdown",
   "metadata": {},
   "source": [
    "# Diamonds Dataset Exploratory and Explanatory Visualization - A Case Study\n",
    "## Introduction\n",
    "In this case study, you'll be working with a dataset regarding the prices and attributes of approximately 54,000 round-cut diamonds. You'll go through the steps of an explanatory data visualization, systematically starting from univariate visualizations, moving through bivariate visualizations, and finally multivariate visualizations. Finally, you'll work on polishing up selected plots from the analysis so that their main points can be clearly conveyed to others.\n",
    "\n",
    "The dataset consists of almost 54,000 rows and 10 columns:\n",
    "* `price`: Price in dollars. Data were collected in 2008.\n",
    "* `carat`: Diamond weight. 1 carat is equal to 0.2 grams.\n",
    "* `cut`: Quality of diamond cut, affects its shine. Grades go from (low) Fair, Good, Very Good, Premium, Ideal (best).\n",
    "* `color`: Measure of diamond coloration. Increasing grades go from (some color) J, I, H, G, F, E, D (colorless).\n",
    "* `clarity`: Measure of diamond inclusions. Increasing grades go from (inclusions) I1, SI2, SI1, VS2, VS1, VVS2, VVS1, IF (internally flawless).\n",
    "* `x`, `y`, `z`: Diamond length, width, and depth, respectively, in mm.\n",
    "* `table`: Ratio of the width of the top face of diamond to its overall width, as a percentage.\n",
    "* `depth`: Proportional depth of the diamond, as a percentage. This is computed as 2 * `z` / (`x` + `y`), or the ratio of the depth to the average of length and width.\n",
    "\n",
    "For the case study, we will concentrate only on the variables in the top five bullet points: `price` and the four 'C's of diamond grade. Our focus will be on answering the question about; \n",
    ">the degree of importance that each of these quality measures has on the **pricing** of a diamond"
   ]
  },
  {
   "cell_type": "code",
   "execution_count": null,
   "metadata": {},
   "outputs": [],
   "source": []
  }
 ],
 "metadata": {
  "language_info": {
   "name": "python"
  },
  "orig_nbformat": 4
 },
 "nbformat": 4,
 "nbformat_minor": 2
}
