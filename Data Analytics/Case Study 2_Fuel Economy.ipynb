{
 "cells": [
  {
   "cell_type": "markdown",
   "metadata": {},
   "source": [
    "# Exploring Fuel Economy Data\n",
    "Data source: https://www.fueleconomy.gov/feg/download.shtml/"
   ]
  },
  {
   "cell_type": "markdown",
   "metadata": {},
   "source": [
    "## Introduction\n",
    "Fuel economy data are the result of vehicle testing done at the Environmental Protection Agency's National Vehicle and Fuel Emissions Laboratory in Ann Arbor, Michigan, and by vehicle manufacturers with oversight by EPA.\n",
    "\n",
    "The 2018 and 2008 datasets for 'EPA Green Vehicle Guide` were used for this analysis. \n",
    "\n",
    "| Attribute | Description |\n",
    "| --- | --- |\n",
    "| `Model` | Vehicle make and model |\n",
    "| `Displ` | Engine displacement - the size of an engine in liters |\n",
    "| `Cyl` | The number of cylinders in a particular engine |\n",
    "| `Trans` | Transmission Type and Number of Gears |\n",
    "| `Drive` | Drive axle type (2WD = 2-wheel drive, 4WD = 4-wheel/all-wheel drive)|\n",
    "| `Fuel` | Fuel Type |\n",
    "| `Cert Region`* | Certification Region Code |\n",
    "| `Sales Area`** | Certification Region Code |\n",
    "| `Stnd` | Vehicle emissions standard code |\n",
    "| `Stnd Description`* | Vehicle emissions standard description |\n",
    "| `Underhood ID` | This is a 12-digit ID number that can be found on the underhood emission label of every vehicle. It's required by the EPA to designate its \"test group\" or \"engine family.\" This is explained more here|\n",
    "| `Veh Class` | EPA Vehicle Class |\n",
    "| `Air Pollution Score` | Air pollution score (smog rating)|\n",
    "| `City MPG` | Estimated city mpg (miles/gallon) |\n",
    "| `Hwy MPG` | Estimated highway mpg (miles/gallon) |\n",
    "| `Cmb MPG` | Estimated combined mpg (miles/gallon) |\n",
    "| `Greenhouse Gas Score` | Greenhouse gas rating |\n",
    "| `SmartWay` | Yes, No, or Elite |\n",
    "| `Comb CO2`* | Combined city/highway CO2 tailpipe emissions in grams per mile |\n",
    "```\n",
    "* Not included in 2008 dataset\n",
    "** Not included in 2018 dataset\n",
    "```"
   ]
  },
  {
   "cell_type": "code",
   "execution_count": null,
   "metadata": {},
   "outputs": [],
   "source": []
  }
 ],
 "metadata": {
  "kernelspec": {
   "display_name": "Python 3.9.7 ('base')",
   "language": "python",
   "name": "python3"
  },
  "language_info": {
   "name": "python",
   "version": "3.9.7"
  },
  "orig_nbformat": 4,
  "vscode": {
   "interpreter": {
    "hash": "1206a4f2d6f64ed28b08c3544e67299a5b762789ddcc45660f3f6eefedb1bf11"
   }
  }
 },
 "nbformat": 4,
 "nbformat_minor": 2
}
